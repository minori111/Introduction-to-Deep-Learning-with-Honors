{
 "cells": [
  {
   "cell_type": "code",
   "execution_count": 32,
   "metadata": {},
   "outputs": [
    {
     "name": "stdout",
     "output_type": "stream",
     "text": [
      "(50000, 28, 28) (50000,)\n"
     ]
    },
    {
     "data": {
      "image/png": "[encoded data removed]",
      "text/plain": [
       "<matplotlib.figure.Figure at 0x7feb7f68c710>"
      ]
     },
     "metadata": {},
     "output_type": "display_data"
    }
   ],
   "source": [
    "from preprocessed_mnist import load_dataset\n",
    "X_train, y_train, X_val, y_val, X_test, y_test = load_dataset()\n",
    "print(X_train.shape, y_train.shape)\n",
    "import matplotlib.pyplot as plt\n",
    "%matplotlib inline\n",
    "plt.imshow(X_train[2], cmap=\"Greys\");"
   ]
  },
  {
   "cell_type": "code",
   "execution_count": 13,
   "metadata": {},
   "outputs": [
    {
     "name": "stdout",
     "output_type": "stream",
     "text": [
      "(50000, 784)\n",
      "[5 0 4 ..., 8 4 8]\n",
      "(50000, 10)\n",
      "[ 0.  0.  0.  0.  0.  1.  0.  0.  0.  0.]\n"
     ]
    }
   ],
   "source": [
    "import tensorflow as tf\n",
    "import matplotlib.pyplot as plt \n",
    "import numpy as np\n",
    "\n",
    "s = tf.InteractiveSession()\n",
    "n_x = X_train.shape[1] * X_train.shape[2]\n",
    "X_train_flatten = X_train.reshape(X_train.shape[0], n_x)\n",
    "print(X_train_flatten.shape)\n",
    "\n",
    "X_test_flatten = X_test.reshape(X_test.shape[0], n_x)\n",
    "\n",
    "X_val_flatten = X_val.reshape(X_val.shape[0], n_x)\n",
    "#y_train.reshape(1,50000)\n",
    "one_hot_train = tf.one_hot(indices = y_train, depth = 10, axis = 1)\n",
    "print(y_train)\n",
    "one_hot_val = tf.one_hot(indices = y_val, depth = 10, axis = 1)\n",
    "one_hot_train = s.run(one_hot_train)\n",
    "one_hot_val = s.run(one_hot_val)#use one_hot deal with y_train and y_val\n",
    "print(one_hot_train.shape)\n",
    "print(one_hot_train[0])"
   ]
  },
  {
   "cell_type": "code",
   "execution_count": 3,
   "metadata": {},
   "outputs": [],
   "source": [
    "\n",
    "w1 = tf.Variable(tf.random_normal(shape = [n_x,50],mean = 0, stddev = 0.01),dtype = 'float32')\n",
    "b1 = tf.Variable(tf.random_normal(shape = [50],mean = 0, stddev = 0.01),dtype = 'float32')\n",
    "w2 = tf.Variable(tf.random_normal(shape = [50, 10],mean = 0, stddev = 0.01),dtype = 'float32')\n",
    "b2 = tf.Variable(tf.random_normal(shape = [10],mean = 0, stddev = 0.01),dtype = 'float32')"
   ]
  },
  {
   "cell_type": "code",
   "execution_count": 4,
   "metadata": {
    "collapsed": true
   },
   "outputs": [],
   "source": [
    "input_X = tf.placeholder(\"float32\", shape=(None,None), name='input_x')\n",
    "input_y = tf.placeholder(\"float32\", shape=(None,None), name ='input_y')\n",
    "hidden_y = tf.nn.relu((tf.matmul(input_X, w1) + b1))#input and hidden layer\n",
    "predicted_y = tf.nn.softmax(tf.matmul(hidden_y,w2)+b2)#output layer"
   ]
  },
  {
   "cell_type": "code",
   "execution_count": 5,
   "metadata": {},
   "outputs": [
    {
     "name": "stdout",
     "output_type": "stream",
     "text": [
      "(?, 10)\n"
     ]
    }
   ],
   "source": [
    "#predicted_y = tf.sigmoid(tf.matmul((tf.matmul(input_X, w1) + b1),w2) + b2) #不能用x_flatten代替input_X\n",
    "print(predicted_y.shape)"
   ]
  },
  {
   "cell_type": "code",
   "execution_count": 94,
   "metadata": {},
   "outputs": [
    {
     "name": "stdout",
     "output_type": "stream",
     "text": [
      "()\n"
     ]
    }
   ],
   "source": [
    "loss = -tf.reduce_mean(input_y * tf.log(predicted_y + 1e-10) + (1-input_y)* tf.log(1-predicted_y + 1e-10))#将损失函数改成此种形式就不会出现nan\n",
    "#loss = -tf.reduce_mean(input_y * tf.log(predicted_y) + (1-input_y)*tf.log(1-predicted_y))\n",
    "print(loss.shape)\n",
    "#optimizer = tf.train.MomentumOptimizer(0.29,0.9).minimize(loss)\n",
    "optimizer = tf.train.AdamOptimizer(learning_rate = 0.01,beta1=0.9,beta2=0.999,epsilon=1e-08,).minimize(loss)#use Adam"
   ]
  },
  {
   "cell_type": "code",
   "execution_count": 95,
   "metadata": {
    "scrolled": true
   },
   "outputs": [],
   "source": [
    "s.run(tf.global_variables_initializer())\n",
    "s.run(optimizer, {input_X:X_train_flatten, input_y:one_hot_train})"
   ]
  },
  {
   "cell_type": "code",
   "execution_count": 96,
   "metadata": {
    "scrolled": false
   },
   "outputs": [
    {
     "name": "stdout",
     "output_type": "stream",
     "text": [
      "loss at iter 0:0.3028942645\n",
      "loss at iter 10:0.0862055495\n",
      "loss at iter 20:0.0601098835\n",
      "loss at iter 30:0.0490659438\n",
      "loss at iter 40:0.0411876030\n",
      "loss at iter 50:0.0355375819\n",
      "loss at iter 60:0.0315066651\n",
      "loss at iter 70:0.0283373538\n",
      "loss at iter 80:0.0256233141\n",
      "loss at iter 90:0.0232883133\n",
      "loss at iter 100:0.0213501863\n",
      "loss at iter 110:0.0194856711\n",
      "loss at iter 120:0.0178665500\n",
      "loss at iter 130:0.0164213646\n",
      "loss at iter 140:0.0151314354\n",
      "loss at iter 150:0.0139517747\n",
      "loss at iter 160:0.0128833009\n",
      "loss at iter 170:0.0118907942\n",
      "loss at iter 180:0.0110575883\n",
      "loss at iter 190:0.0102737751\n",
      "loss at iter 200:0.0094435867\n",
      "loss at iter 210:0.0087472172\n",
      "loss at iter 220:0.0080603333\n",
      "loss at iter 230:0.0073916456\n",
      "loss at iter 240:0.0068308669\n",
      "loss at iter 250:0.0062221386\n"
     ]
    }
   ],
   "source": [
    "for i in range(260):\n",
    "    s.run(optimizer, {input_X:X_train_flatten, input_y:one_hot_train})\n",
    "    \n",
    "    if i % 10 == 0:\n",
    "        loss_i = s.run(loss,{input_X:X_train_flatten, input_y:one_hot_train})\n",
    "        print(\"loss at iter %i:%.10f\" % (i, loss_i))"
   ]
  },
  {
   "cell_type": "code",
   "execution_count": 97,
   "metadata": {},
   "outputs": [
    {
     "name": "stdout",
     "output_type": "stream",
     "text": [
      "[  9.99998927e-01   1.90074363e-15   1.11407257e-06   5.66909684e-08\n",
      "   4.44781840e-18   1.15786786e-12   2.16096530e-10   7.61815194e-11\n",
      "   8.27891792e-13   5.96911276e-09]\n"
     ]
    }
   ],
   "source": [
    "predicted_train = s.run(predicted_y,{input_X:X_train_flatten,input_y:one_hot_train})\n",
    "print(predicted_train[1])#View the predicted value"
   ]
  },
  {
   "cell_type": "code",
   "execution_count": 98,
   "metadata": {},
   "outputs": [
    {
     "name": "stdout",
     "output_type": "stream",
     "text": [
      "0.967\n"
     ]
    }
   ],
   "source": [
    "predicted_val = s.run(predicted_y,{input_X:X_val_flatten,input_y:one_hot_val})\n",
    "correct_prediction = tf.equal(tf.argmax(predicted_val, 1), tf.argmax(one_hot_val, 1))\n",
    "accuracy = tf.reduce_mean(tf.cast(correct_prediction, \"float\"))\n",
    "accuracy_result = s.run(accuracy, feed_dict={input_X: X_val_flatten})\n",
    "print(accuracy_result) #Accuracy rate"
   ]
  }
 ],
 "metadata": {
  "kernelspec": {
   "display_name": "Python 3",
   "language": "python",
   "name": "python3"
  },
  "language_info": {
   "codemirror_mode": {
    "name": "ipython",
    "version": 3
   },
   "file_extension": ".py",
   "mimetype": "text/x-python",
   "name": "python",
   "nbconvert_exporter": "python",
   "pygments_lexer": "ipython3",
   "version": "3.6.0"
  }
 },
 "nbformat": 4,
 "nbformat_minor": 2
}
