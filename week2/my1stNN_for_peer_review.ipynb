{
 "cells": [
  {
   "cell_type": "code",
   "execution_count": 1,
   "metadata": {},
   "outputs": [
    {
     "name": "stderr",
     "output_type": "stream",
     "text": [
      "Using TensorFlow backend.\n"
     ]
    },
    {
     "name": "stdout",
     "output_type": "stream",
     "text": [
      "(50000, 28, 28) (50000,)\n"
     ]
    },
    {
     "data": {
      "image/png": "[encoded data removed]",
      "text/plain": [
       "<matplotlib.figure.Figure at 0x7f9113f24c50>"
      ]
     },
     "metadata": {},
     "output_type": "display_data"
    }
   ],
   "source": [
    "from preprocessed_mnist import load_dataset\n",
    "X_train, y_train, X_val, y_val, X_test, y_test = load_dataset()\n",
    "print(X_train.shape, y_train.shape)\n",
    "import matplotlib.pyplot as plt\n",
    "%matplotlib inline\n",
    "plt.imshow(X_train[0], cmap=\"Greys\");"
   ]
  },
  {
   "cell_type": "code",
   "execution_count": 2,
   "metadata": {},
   "outputs": [
    {
     "name": "stdout",
     "output_type": "stream",
     "text": [
      "(28, 28)\n",
      "[5 0 4 1 9]\n"
     ]
    }
   ],
   "source": [
    "print(X_train[0].shape)\n",
    "print(y_train[:5])"
   ]
  },
  {
   "cell_type": "code",
   "execution_count": 3,
   "metadata": {},
   "outputs": [
    {
     "name": "stdout",
     "output_type": "stream",
     "text": [
      "1.2.1\n"
     ]
    }
   ],
   "source": [
    "import tensorflow as tf\n",
    "print(tf.__version__)\n",
    "tf.reset_default_graph()\n",
    "s = tf.InteractiveSession()"
   ]
  },
  {
   "cell_type": "code",
   "execution_count": 4,
   "metadata": {
    "collapsed": true
   },
   "outputs": [],
   "source": [
    "input_X = tf.placeholder('float32', [None, 784])\n",
    "input_y = tf.placeholder('int64', [None])"
   ]
  },
  {
   "cell_type": "code",
   "execution_count": 5,
   "metadata": {
    "collapsed": true
   },
   "outputs": [],
   "source": [
    "W1 = tf.Variable(tf.random_normal([784, 128], stddev = 0.01))\n",
    "b1 = tf.Variable(tf.zeros([128]))\n",
    "W2 = tf.Variable(tf.random_normal([128, 10], stddev = 0.01))\n",
    "b2 = tf.Variable(tf.zeros([10]))"
   ]
  },
  {
   "cell_type": "code",
   "execution_count": 6,
   "metadata": {},
   "outputs": [],
   "source": [
    "dense = tf.nn.relu6(tf.matmul(input_X, W1) + b1)\n",
    "output = tf.matmul(dense, W2) + b2\n",
    "predicted_y = tf.squeeze(tf.argmax(output, 1))\n",
    "acc = tf.reduce_mean(tf.cast(tf.equal(predicted_y, input_y), \"float\"))\n",
    "\n",
    "loss = tf.losses.sparse_softmax_cross_entropy(input_y, output)\n",
    "optimizer = tf.train.AdamOptimizer().minimize(loss)"
   ]
  },
  {
   "cell_type": "code",
   "execution_count": 7,
   "metadata": {},
   "outputs": [
    {
     "name": "stdout",
     "output_type": "stream",
     "text": [
      "[2 6 7 1 8]\n",
      "[5 0 4 1 9]\n"
     ]
    },
    {
     "data": {
      "text/plain": [
       "<matplotlib.image.AxesImage at 0x7f910353b550>"
      ]
     },
     "execution_count": 7,
     "metadata": {},
     "output_type": "execute_result"
    },
    {
     "data": {
      "image/png": "[encoded data removed]",
      "text/plain": [
       "<matplotlib.figure.Figure at 0x7f91442cf080>"
      ]
     },
     "metadata": {},
     "output_type": "display_data"
    }
   ],
   "source": [
    "import numpy as np\n",
    "r = np.random.permutation(len(y_train))\n",
    "X_train_batch = X_train[r,:,:]\n",
    "y_train_batch = y_train[r]\n",
    "print(y_train_batch[:5])\n",
    "print(y_train[:5])\n",
    "plt.imshow(X_train_batch[0], cmap=\"Greys\")"
   ]
  },
  {
   "cell_type": "code",
   "execution_count": 8,
   "metadata": {
    "collapsed": true
   },
   "outputs": [],
   "source": [
    "def batch_generator(xs,ys, batch_size=32):\n",
    "    batch_x = []\n",
    "    batch_y = []\n",
    "    for x, y in zip(xs, ys):\n",
    "        batch_x.append(x)\n",
    "        batch_y.append(y)\n",
    "        if len(batch_x) == batch_size:\n",
    "            yield batch_x, batch_y\n",
    "            batch_x, batch_y = [], []\n",
    "    #yield batch_x, batch_y"
   ]
  },
  {
   "cell_type": "code",
   "execution_count": 9,
   "metadata": {},
   "outputs": [
    {
     "name": "stdout",
     "output_type": "stream",
     "text": [
      "32\n",
      "3\n"
     ]
    },
    {
     "data": {
      "text/plain": [
       "<matplotlib.image.AxesImage at 0x7f9103324a90>"
      ]
     },
     "execution_count": 9,
     "metadata": {},
     "output_type": "execute_result"
    },
    {
     "data": {
      "image/png": "[encoded data removed]",
      "text/plain": [
       "<matplotlib.figure.Figure at 0x7f910350c5c0>"
      ]
     },
     "metadata": {},
     "output_type": "display_data"
    }
   ],
   "source": [
    "x, y = list(batch_generator(X_train_batch, y_train_batch))[-1]\n",
    "print(len(y))\n",
    "print(y[-1])\n",
    "plt.imshow(x[-1], cmap=\"Greys\")"
   ]
  },
  {
   "cell_type": "code",
   "execution_count": 12,
   "metadata": {
    "scrolled": false
   },
   "outputs": [
    {
     "name": "stdout",
     "output_type": "stream",
     "text": [
      "train_loss at iter 0 :0.1910\n",
      "val_loss at iter 0 :0.1877\n",
      "train acc: 0.9436\n",
      "val acc: 0.9471\n",
      "train_loss at iter 1 :0.1137\n",
      "val_loss at iter 1 :0.1246\n",
      "train acc: 0.9683\n",
      "val acc: 0.9657\n",
      "train_loss at iter 2 :0.0778\n",
      "val_loss at iter 2 :0.1029\n",
      "train acc: 0.9781\n",
      "val acc: 0.9711\n",
      "train_loss at iter 3 :0.0645\n",
      "val_loss at iter 3 :0.0982\n",
      "train acc: 0.9806\n",
      "val acc: 0.9709\n",
      "train_loss at iter 4 :0.0429\n",
      "val_loss at iter 4 :0.0834\n",
      "train acc: 0.98736\n",
      "val acc: 0.9745\n",
      "train_loss at iter 5 :0.0326\n",
      "val_loss at iter 5 :0.0784\n",
      "train acc: 0.99104\n",
      "val acc: 0.9762\n",
      "train_loss at iter 6 :0.0264\n",
      "val_loss at iter 6 :0.0792\n",
      "train acc: 0.99252\n",
      "val acc: 0.9764\n",
      "train_loss at iter 7 :0.0237\n",
      "val_loss at iter 7 :0.0906\n",
      "train acc: 0.99324\n",
      "val acc: 0.9759\n",
      "train_loss at iter 8 :0.0155\n",
      "val_loss at iter 8 :0.0790\n",
      "train acc: 0.99622\n",
      "val acc: 0.9779\n",
      "train_loss at iter 9 :0.0123\n",
      "val_loss at iter 9 :0.0791\n",
      "train acc: 0.99668\n",
      "val acc: 0.9772\n",
      "train_loss at iter 10 :0.0114\n",
      "val_loss at iter 10 :0.0843\n",
      "train acc: 0.99744\n",
      "val acc: 0.9774\n",
      "train_loss at iter 11 :0.0097\n",
      "val_loss at iter 11 :0.0924\n",
      "train acc: 0.99752\n",
      "val acc: 0.9765\n",
      "train_loss at iter 12 :0.0068\n",
      "val_loss at iter 12 :0.0935\n",
      "train acc: 0.9984\n",
      "val acc: 0.9781\n",
      "train_loss at iter 13 :0.0057\n",
      "val_loss at iter 13 :0.0911\n",
      "train acc: 0.99884\n",
      "val acc: 0.9791\n",
      "train_loss at iter 14 :0.0050\n",
      "val_loss at iter 14 :0.0952\n",
      "train acc: 0.99894\n",
      "val acc: 0.979\n",
      "train_loss at iter 15 :0.0074\n",
      "val_loss at iter 15 :0.1047\n",
      "train acc: 0.99764\n",
      "val acc: 0.9772\n",
      "train_loss at iter 16 :0.0069\n",
      "val_loss at iter 16 :0.1115\n",
      "train acc: 0.9979\n",
      "val acc: 0.9756\n",
      "train_loss at iter 17 :0.0030\n",
      "val_loss at iter 17 :0.1074\n",
      "train acc: 0.99938\n",
      "val acc: 0.9782\n",
      "train_loss at iter 18 :0.0048\n",
      "val_loss at iter 18 :0.1048\n",
      "train acc: 0.99862\n",
      "val acc: 0.977\n",
      "train_loss at iter 19 :0.0087\n",
      "val_loss at iter 19 :0.1190\n",
      "train acc: 0.99748\n",
      "val acc: 0.9766\n"
     ]
    }
   ],
   "source": [
    "epochs = 20\n",
    "batch_size = 32\n",
    "train_accs, val_accs, train_losses, val_losses = [], [], [], []\n",
    "s.run(tf.global_variables_initializer())\n",
    "\n",
    "for epoch in range(epochs):\n",
    "    r = np.random.permutation(len(y_train))\n",
    "    X_train_batch = X_train[r,:,:]\n",
    "    y_train_batch = y_train[r]\n",
    "    for batch_x, batch_y in batch_generator(X_train_batch, y_train_batch, batch_size):\n",
    "        batch_x = np.asarray(batch_x).reshape([batch_size, 784])\n",
    "        s.run(optimizer, {input_X: batch_x, input_y: batch_y})\n",
    "        #loss_i = s.run(loss, {input_X: batch_x, input_y: batch_y})\n",
    "    #print(\"loss at iter %i:%.4f\" % (epoch, loss_i))\n",
    "    #print(\"train acc:\", s.run(acc, {input_X: batch_x, input_y: batch_y}))\n",
    "    #print(\"test acc:\", s.run(acc, {input_X: X_val.reshape([-1, 784]), input_y: y_val}))\n",
    "    \n",
    "    train_loss = s.run(loss, {input_X: X_train.reshape([-1, 784]), input_y: y_train})\n",
    "    print(\"train_loss at iter %i :%.4f\" % (epoch, train_loss))\n",
    "    val_loss = s.run(loss, {input_X: X_val.reshape([-1, 784]), input_y: y_val})\n",
    "    print(\"val_loss at iter %i :%.4f\" % (epoch, val_loss))\n",
    "    train_acc = s.run(acc, {input_X: X_train.reshape([-1, 784]), input_y: y_train})\n",
    "    print(\"train acc:\", train_acc)\n",
    "    val_acc = s.run(acc, {input_X: X_val.reshape([-1, 784]), input_y: y_val})\n",
    "    print(\"val acc:\", val_acc)\n",
    "    train_losses.append(train_loss)\n",
    "    val_losses.append(val_loss)\n",
    "    train_accs.append(train_acc)\n",
    "    val_accs.append(val_acc)"
   ]
  },
  {
   "cell_type": "code",
   "execution_count": 13,
   "metadata": {},
   "outputs": [
    {
     "data": {
      "text/plain": [
       "20"
      ]
     },
     "execution_count": 13,
     "metadata": {},
     "output_type": "execute_result"
    }
   ],
   "source": [
    "len(train_losses)"
   ]
  },
  {
   "cell_type": "code",
   "execution_count": 14,
   "metadata": {},
   "outputs": [
    {
     "data": {
      "image/png": "[encoded data removed]",
      "text/plain": [
       "<matplotlib.figure.Figure at 0x7f9105faed68>"
      ]
     },
     "metadata": {},
     "output_type": "display_data"
    }
   ],
   "source": [
    "import matplotlib.pyplot as plt\n",
    "ax = plt.subplot(111)\n",
    "plt.plot(range(epochs), train_losses, label=\"train_losses\")\n",
    "plt.plot(range(epochs), val_losses, label=\"val_losses\")\n",
    "leg = plt.legend(loc='best', ncol=2, mode=\"expand\", shadow=True, fancybox=True)\n",
    "leg.get_frame().set_alpha(0.5)\n",
    "\n",
    "\n",
    "plt.show()"
   ]
  },
  {
   "cell_type": "code",
   "execution_count": 15,
   "metadata": {},
   "outputs": [
    {
     "name": "stdout",
     "output_type": "stream",
     "text": [
      "test acc: 0.9753\n"
     ]
    }
   ],
   "source": [
    "test_acc = s.run(acc, {input_X: X_test.reshape([-1, 784]), input_y: y_test})\n",
    "print(\"test acc:\", test_acc)"
   ]
  },
  {
   "cell_type": "code",
   "execution_count": null,
   "metadata": {
    "collapsed": true
   },
   "outputs": [],
   "source": []
  }
 ],
 "metadata": {
  "kernelspec": {
   "display_name": "Python 3",
   "language": "python",
   "name": "python3"
  },
  "language_info": {
   "codemirror_mode": {
    "name": "ipython",
    "version": 3
   },
   "file_extension": ".py",
   "mimetype": "text/x-python",
   "name": "python",
   "nbconvert_exporter": "python",
   "pygments_lexer": "ipython3",
   "version": "3.6.0"
  }
 },
 "nbformat": 4,
 "nbformat_minor": 2
}
