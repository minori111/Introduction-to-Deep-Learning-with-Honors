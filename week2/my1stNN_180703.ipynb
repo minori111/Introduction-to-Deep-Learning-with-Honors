{
 "cells": [
  {
   "cell_type": "code",
   "execution_count": 1,
   "metadata": {},
   "outputs": [
    {
     "name": "stderr",
     "output_type": "stream",
     "text": [
      "Using TensorFlow backend.\n"
     ]
    },
    {
     "name": "stdout",
     "output_type": "stream",
     "text": [
      "(50000, 28, 28) (50000,)\n"
     ]
    },
    {
     "data": {
      "image/png": "[encoded data removed]",
      "text/plain": [
       "<Figure size 432x288 with 1 Axes>"
      ]
     },
     "metadata": {},
     "output_type": "display_data"
    }
   ],
   "source": [
    "from preprocessed_mnist import load_dataset\n",
    "X_train, y_train, X_val, y_val, X_test, y_test = load_dataset()\n",
    "print(X_train.shape, y_train.shape)\n",
    "import matplotlib.pyplot as plt\n",
    "%matplotlib inline\n",
    "plt.imshow(X_train[0], cmap=\"Greys\");"
   ]
  },
  {
   "cell_type": "code",
   "execution_count": 2,
   "metadata": {},
   "outputs": [
    {
     "name": "stdout",
     "output_type": "stream",
     "text": [
      "(28, 28)\n",
      "[5 0 4 1 9]\n"
     ]
    }
   ],
   "source": [
    "print(X_train[0].shape)\n",
    "print(y_train[:5])\n"
   ]
  },
  {
   "cell_type": "code",
   "execution_count": 3,
   "metadata": {},
   "outputs": [
    {
     "name": "stdout",
     "output_type": "stream",
     "text": [
      "1.8.0\n"
     ]
    }
   ],
   "source": [
    "import tensorflow as tf\n",
    "print(tf.__version__)\n",
    "s = tf.InteractiveSession()\n",
    "writer = tf.summary.FileWriter(\"/tmp/tboard\", graph=s.graph)"
   ]
  },
  {
   "cell_type": "code",
   "execution_count": 4,
   "metadata": {},
   "outputs": [],
   "source": [
    "input_X = tf.placeholder('float32', [None, 28, 28])\n",
    "input_y = tf.placeholder('int64', [None])"
   ]
  },
  {
   "cell_type": "code",
   "execution_count": 11,
   "metadata": {},
   "outputs": [],
   "source": [
    "flatten = tf.layers.flatten(input_X)\n",
    "dense_1 = tf.layers.dense(flatten, 128, activation = tf.nn.relu6, \n",
    "                kernel_initializer = tf.keras.initializers.he_normal())\n",
    "output = tf.layers.dense(dense_1, 10, kernel_initializer = tf.keras.initializers.he_normal())\n",
    "predicted_y = tf.squeeze(tf.argmax(output, axis = 1))\n",
    "acc, acc_op = tf.metrics.accuracy(predicted_y, input_y)\n",
    "\n",
    "loss = tf.losses.sparse_softmax_cross_entropy(input_y, output)\n",
    "optimizer = tf.train.AdamOptimizer().minimize(loss)"
   ]
  },
  {
   "cell_type": "code",
   "execution_count": 12,
   "metadata": {},
   "outputs": [
    {
     "data": {
      "text/plain": [
       "<tf.Tensor 'Squeeze_1:0' shape=<unknown> dtype=int64>"
      ]
     },
     "execution_count": 12,
     "metadata": {},
     "output_type": "execute_result"
    }
   ],
   "source": [
    "predicted_y"
   ]
  },
  {
   "cell_type": "code",
   "execution_count": 6,
   "metadata": {},
   "outputs": [],
   "source": [
    "import numpy as np\n",
    "def batch_generator(xs,ys, batch_size=32):\n",
    "    batch_x = []\n",
    "    batch_y = []\n",
    "    for x, y in zip(xs, ys):\n",
    "        batch_x.append(x)\n",
    "        batch_y.append(y)\n",
    "        if len(batch_x) == batch_size:\n",
    "            yield batch_x, batch_y\n",
    "            batch_x, batch_y = [], []\n",
    "    yield batch_x, batch_y"
   ]
  },
  {
   "cell_type": "code",
   "execution_count": 7,
   "metadata": {},
   "outputs": [
    {
     "name": "stdout",
     "output_type": "stream",
     "text": [
      "16\n",
      "7\n"
     ]
    },
    {
     "data": {
      "text/plain": [
       "<matplotlib.image.AxesImage at 0x19697155518>"
      ]
     },
     "execution_count": 7,
     "metadata": {},
     "output_type": "execute_result"
    },
    {
     "data": {
      "image/png": "[encoded data removed]",
      "text/plain": [
       "<Figure size 432x288 with 1 Axes>"
      ]
     },
     "metadata": {},
     "output_type": "display_data"
    }
   ],
   "source": [
    "r = np.random.permutation(len(y_train))\n",
    "X_train_batch = X_train[r,:,:]\n",
    "y_train_batch = y_train[r]\n",
    "x, y = list(batch_generator(X_train_batch, y_train_batch))[-1]\n",
    "print(len(y))\n",
    "print(y[-1])\n",
    "plt.imshow(x[-1], cmap=\"Greys\")"
   ]
  },
  {
   "cell_type": "code",
   "execution_count": 16,
   "metadata": {
    "scrolled": true
   },
   "outputs": [
    {
     "name": "stdout",
     "output_type": "stream",
     "text": [
      "train_loss at iter 0 :0.1407\n",
      "test_loss at iter 0 :0.1543\n",
      "train acc: 0.9595\n",
      "test acc: 0.9587333\n",
      "\n",
      "train_loss at iter 1 :0.0906\n",
      "test_loss at iter 1 :0.1173\n",
      "train acc: 0.9657\n",
      "test acc: 0.9655833\n",
      "\n",
      "train_loss at iter 2 :0.0630\n",
      "test_loss at iter 2 :0.0938\n",
      "train acc: 0.9704059\n",
      "test acc: 0.97047776\n",
      "\n",
      "train_loss at iter 3 :0.0478\n",
      "test_loss at iter 3 :0.0873\n",
      "train acc: 0.97405654\n",
      "test acc: 0.9739958\n",
      "\n",
      "train_loss at iter 4 :0.0384\n",
      "test_loss at iter 4 :0.0824\n",
      "train acc: 0.97655517\n",
      "test acc: 0.9764867\n",
      "\n",
      "train_loss at iter 5 :0.0367\n",
      "test_loss at iter 5 :0.0929\n",
      "train acc: 0.9781486\n",
      "test acc: 0.9779278\n",
      "\n",
      "train_loss at iter 6 :0.0242\n",
      "test_loss at iter 6 :0.0826\n",
      "train acc: 0.9797756\n",
      "test acc: 0.97965\n",
      "\n",
      "train_loss at iter 7 :0.0222\n",
      "test_loss at iter 7 :0.0820\n",
      "train acc: 0.98111486\n",
      "test acc: 0.9809979\n",
      "\n",
      "train_loss at iter 8 :0.0122\n",
      "test_loss at iter 8 :0.0701\n",
      "train acc: 0.98251885\n",
      "test acc: 0.9824537\n",
      "\n",
      "train_loss at iter 9 :0.0114\n",
      "test_loss at iter 9 :0.0764\n",
      "train acc: 0.98364407\n",
      "test acc: 0.98356\n",
      "\n",
      "train_loss at iter 10 :0.0107\n",
      "test_loss at iter 10 :0.0796\n",
      "train acc: 0.9846046\n",
      "test acc: 0.98450154\n",
      "\n",
      "train_loss at iter 11 :0.0088\n",
      "test_loss at iter 11 :0.0779\n",
      "train acc: 0.98542255\n",
      "test acc: 0.98533887\n",
      "\n",
      "train_loss at iter 12 :0.0086\n",
      "test_loss at iter 12 :0.0864\n",
      "train acc: 0.98614025\n",
      "test acc: 0.9860333\n",
      "\n",
      "train_loss at iter 13 :0.0059\n",
      "test_loss at iter 13 :0.0941\n",
      "train acc: 0.98679036\n",
      "test acc: 0.9866643\n",
      "\n",
      "train_loss at iter 14 :0.0062\n",
      "test_loss at iter 14 :0.0874\n",
      "train acc: 0.98733705\n",
      "test acc: 0.9872411\n",
      "\n",
      "train_loss at iter 15 :0.0055\n",
      "test_loss at iter 15 :0.0877\n",
      "train acc: 0.9878337\n",
      "test acc: 0.9877344\n",
      "\n",
      "train_loss at iter 16 :0.0082\n",
      "test_loss at iter 16 :0.0975\n",
      "train acc: 0.98820794\n",
      "test acc: 0.98809904\n",
      "\n",
      "train_loss at iter 17 :0.0062\n",
      "test_loss at iter 17 :0.1012\n",
      "train acc: 0.98856634\n",
      "test acc: 0.98845553\n",
      "\n",
      "train_loss at iter 18 :0.0041\n",
      "test_loss at iter 18 :0.0992\n",
      "train acc: 0.9889195\n",
      "test acc: 0.98882544\n",
      "\n",
      "train_loss at iter 19 :0.0025\n",
      "test_loss at iter 19 :0.0899\n",
      "train acc: 0.9892714\n",
      "test acc: 0.9891825\n",
      "\n",
      "train_loss at iter 20 :0.0045\n",
      "test_loss at iter 20 :0.1003\n",
      "train acc: 0.9895672\n",
      "test acc: 0.98947144\n",
      "\n",
      "train_loss at iter 21 :0.0024\n",
      "test_loss at iter 21 :0.0999\n",
      "train acc: 0.98984504\n",
      "test acc: 0.9897621\n",
      "\n",
      "train_loss at iter 22 :0.0032\n",
      "test_loss at iter 22 :0.1048\n",
      "train acc: 0.9901073\n",
      "test acc: 0.99001884\n",
      "\n",
      "train_loss at iter 23 :0.0061\n",
      "test_loss at iter 23 :0.1082\n",
      "train acc: 0.9902895\n",
      "test acc: 0.9901937\n",
      "\n",
      "train_loss at iter 24 :0.0028\n",
      "test_loss at iter 24 :0.1023\n",
      "train acc: 0.99049264\n",
      "test acc: 0.9904067\n",
      "\n",
      "train_loss at iter 25 :0.0023\n",
      "test_loss at iter 25 :0.1090\n",
      "train acc: 0.9906955\n",
      "test acc: 0.9906218\n",
      "\n",
      "train_loss at iter 26 :0.0013\n",
      "test_loss at iter 26 :0.0941\n",
      "train acc: 0.99090374\n",
      "test acc: 0.99083024\n",
      "\n",
      "train_loss at iter 27 :0.0008\n",
      "test_loss at iter 27 :0.1008\n",
      "train acc: 0.9911006\n",
      "test acc: 0.99102795\n",
      "\n",
      "train_loss at iter 28 :0.0090\n",
      "test_loss at iter 28 :0.1306\n",
      "train acc: 0.9911971\n",
      "test acc: 0.99110115\n",
      "\n",
      "train_loss at iter 29 :0.0026\n",
      "test_loss at iter 29 :0.1108\n",
      "train acc: 0.9913285\n",
      "test acc: 0.9912605\n",
      "\n"
     ]
    }
   ],
   "source": [
    "epochs = 30\n",
    "s.run(tf.local_variables_initializer())\n",
    "s.run(tf.global_variables_initializer())\n",
    "train_accs, test_accs, train_losses, test_losses = [], [], [], []\n",
    "\n",
    "for epoch in range(epochs):\n",
    "    r = np.random.permutation(len(y_train))\n",
    "    X_train_batch = X_train[r,:,:]\n",
    "    y_train_batch = y_train[r]\n",
    "    for batch_x, batch_y in batch_generator(X_train_batch, y_train_batch):\n",
    "        s.run(optimizer, {input_X: batch_x, input_y: batch_y})\n",
    "    train_loss = s.run(loss, {input_X: X_train, input_y: y_train})\n",
    "    print(\"train_loss at iter %i :%.4f\" % (epoch, train_loss))\n",
    "    test_loss = s.run(loss, {input_X: X_test, input_y: y_test})\n",
    "    print(\"test_loss at iter %i :%.4f\" % (epoch, test_loss))\n",
    "    _ = s.run(acc_op, {input_X: X_train, input_y: y_train})\n",
    "    train_acc = s.run(acc, {input_X: X_train, input_y: y_train})\n",
    "    print(\"train acc:\", train_acc)\n",
    "    _ = s.run(acc_op, {input_X: X_test, input_y: y_test})\n",
    "    test_acc = s.run(acc, {input_X: X_test, input_y: y_test})\n",
    "    print(\"test acc:\", test_acc)\n",
    "    print()\n",
    "    train_losses.append(train_loss)\n",
    "    test_losses.append(test_loss)\n",
    "    train_accs.append(train_acc)\n",
    "    test_accs.append(test_acc)"
   ]
  },
  {
   "cell_type": "code",
   "execution_count": null,
   "metadata": {},
   "outputs": [],
   "source": []
  },
  {
   "cell_type": "code",
   "execution_count": 18,
   "metadata": {
    "scrolled": true
   },
   "outputs": [
    {
     "data": {
      "image/png": "[encoded data removed]",
      "text/plain": [
       "<Figure size 432x288 with 1 Axes>"
      ]
     },
     "metadata": {},
     "output_type": "display_data"
    }
   ],
   "source": [
    "import matplotlib.pyplot as plt\n",
    "ax = plt.subplot(111)\n",
    "plt.plot(range(epochs), train_losses, label=\"train_losses\")\n",
    "plt.plot(range(epochs), test_losses, label=\"test_losses\")\n",
    "leg = plt.legend(loc='best', ncol=2, mode=\"expand\", shadow=True, fancybox=True)\n",
    "leg.get_frame().set_alpha(0.5)\n",
    "\n",
    "\n",
    "plt.show()"
   ]
  },
  {
   "cell_type": "code",
   "execution_count": null,
   "metadata": {},
   "outputs": [],
   "source": []
  }
 ],
 "metadata": {
  "kernelspec": {
   "display_name": "Python 3",
   "language": "python",
   "name": "python3"
  },
  "language_info": {
   "codemirror_mode": {
    "name": "ipython",
    "version": 3
   },
   "file_extension": ".py",
   "mimetype": "text/x-python",
   "name": "python",
   "nbconvert_exporter": "python",
   "pygments_lexer": "ipython3",
   "version": "3.5.5"
  }
 },
 "nbformat": 4,
 "nbformat_minor": 2
}
