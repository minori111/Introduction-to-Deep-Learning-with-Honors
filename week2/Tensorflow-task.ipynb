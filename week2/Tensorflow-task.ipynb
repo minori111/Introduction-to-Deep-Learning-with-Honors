{
 "cells": [
  {
   "cell_type": "markdown",
   "metadata": {
    "slideshow": {
     "slide_type": "slide"
    }
   },
   "source": [
    "# Going deeper with Tensorflow\n",
    "\n",
    "In this video, we're going to study the tools you'll use to build deep learning models. Namely, [Tensorflow](https://www.tensorflow.org/).\n",
    "\n",
    "If you're running this notebook outside the course environment, you'll need to install tensorflow:\n",
    "* `pip install tensorflow` should install cpu-only TF on Linux & Mac OS\n",
    "* If you want GPU support from offset, see [TF install page](https://www.tensorflow.org/install/)"
   ]
  },
  {
   "cell_type": "code",
   "execution_count": 1,
   "metadata": {
    "collapsed": true
   },
   "outputs": [],
   "source": [
    "import sys\n",
    "sys.path.append(\"..\")\n",
    "import grading"
   ]
  },
  {
   "cell_type": "markdown",
   "metadata": {},
   "source": [
    "# Visualization"
   ]
  },
  {
   "cell_type": "markdown",
   "metadata": {},
   "source": [
    "Plase note that if you are running on the Coursera platform, you won't be able to access the tensorboard instance due to the network setup there. If you run the notebook locally, you should be able to access TensorBoard on http://127.0.0.1:7007/"
   ]
  },
  {
   "cell_type": "code",
   "execution_count": 2,
   "metadata": {},
   "outputs": [
    {
     "name": "stdout",
     "output_type": "stream",
     "text": [
      "/bin/sh: 1: killall: not found\r\n"
     ]
    }
   ],
   "source": [
    "! killall tensorboard\n",
    "import os\n",
    "os.system(\"tensorboard --logdir=/tmp/tboard --port=7007 &\");"
   ]
  },
  {
   "cell_type": "code",
   "execution_count": 3,
   "metadata": {
    "collapsed": true
   },
   "outputs": [],
   "source": [
    "import tensorflow as tf\n",
    "s = tf.InteractiveSession()"
   ]
  },
  {
   "cell_type": "markdown",
   "metadata": {},
   "source": [
    "# Warming up\n",
    "For starters, let's implement a python function that computes the sum of squares of numbers from 0 to N-1."
   ]
  },
  {
   "cell_type": "code",
   "execution_count": 4,
   "metadata": {
    "collapsed": true
   },
   "outputs": [],
   "source": [
    "import numpy as np\n",
    "def sum_sin(N):\n",
    "    return np.sum(np.arange(N)**2)"
   ]
  },
  {
   "cell_type": "code",
   "execution_count": 5,
   "metadata": {},
   "outputs": [
    {
     "name": "stdout",
     "output_type": "stream",
     "text": [
      "CPU times: user 328 ms, sys: 1.62 s, total: 1.95 s\n",
      "Wall time: 2.29 s\n"
     ]
    },
    {
     "data": {
      "text/plain": [
       "662921401752298880"
      ]
     },
     "execution_count": 5,
     "metadata": {},
     "output_type": "execute_result"
    }
   ],
   "source": [
    "%%time\n",
    "sum_sin(10**8)"
   ]
  },
  {
   "cell_type": "markdown",
   "metadata": {},
   "source": [
    "# Tensoflow teaser\n",
    "\n",
    "Doing the very same thing"
   ]
  },
  {
   "cell_type": "code",
   "execution_count": 6,
   "metadata": {
    "collapsed": true
   },
   "outputs": [],
   "source": [
    "# An integer parameter\n",
    "N = tf.placeholder('int64', name=\"input_to_your_function\")\n",
    "\n",
    "# A recipe on how to produce the same result\n",
    "result = tf.reduce_sum(tf.range(N)**2)"
   ]
  },
  {
   "cell_type": "code",
   "execution_count": 7,
   "metadata": {},
   "outputs": [
    {
     "data": {
      "text/plain": [
       "<tf.Tensor 'Sum:0' shape=() dtype=int64>"
      ]
     },
     "execution_count": 7,
     "metadata": {},
     "output_type": "execute_result"
    }
   ],
   "source": [
    "result"
   ]
  },
  {
   "cell_type": "code",
   "execution_count": 8,
   "metadata": {},
   "outputs": [
    {
     "name": "stdout",
     "output_type": "stream",
     "text": [
      "CPU times: user 460 ms, sys: 88 ms, total: 548 ms\n",
      "Wall time: 413 ms\n"
     ]
    },
    {
     "data": {
      "text/plain": [
       "662921401752298880"
      ]
     },
     "execution_count": 8,
     "metadata": {},
     "output_type": "execute_result"
    }
   ],
   "source": [
    "%%time\n",
    "result.eval({N: 10**8})"
   ]
  },
  {
   "cell_type": "code",
   "execution_count": 9,
   "metadata": {
    "collapsed": true
   },
   "outputs": [],
   "source": [
    "writer = tf.summary.FileWriter(\"/tmp/tboard\", graph=s.graph)"
   ]
  },
  {
   "cell_type": "markdown",
   "metadata": {},
   "source": [
    "# How does it work?\n",
    "1. Define placeholders where you'll send inputs\n",
    "2. Make symbolic graph: a recipe for mathematical transformation of those placeholders\n",
    "3. Compute outputs of your graph with particular values for each placeholder\n",
    "  * `output.eval({placeholder:value})`\n",
    "  * `s.run(output, {placeholder:value})`\n",
    "\n",
    "So far there are two main entities: \"placeholder\" and \"transformation\"\n",
    "* Both can be numbers, vectors, matrices, tensors, etc.\n",
    "* Both can be int32/64, floats, booleans (uint8) of various size.\n",
    "\n",
    "* You can define new transformations as an arbitrary operation on placeholders and other transformations\n",
    " * `tf.reduce_sum(tf.arange(N)**2)` are 3 sequential transformations of placeholder `N`\n",
    " * There's a tensorflow symbolic version for every numpy function\n",
    "   * `a+b, a/b, a**b, ...` behave just like in numpy\n",
    "   * `np.mean` -> `tf.reduce_mean`\n",
    "   * `np.arange` -> `tf.range`\n",
    "   * `np.cumsum` -> `tf.cumsum`\n",
    "   * If if you can't find the op you need, see the [docs](https://www.tensorflow.org/api_docs/python).\n",
    "   \n",
    "`tf.contrib` has many high-level features, may be worth a look."
   ]
  },
  {
   "cell_type": "code",
   "execution_count": 10,
   "metadata": {
    "collapsed": true
   },
   "outputs": [],
   "source": [
    "with tf.name_scope(\"Placeholders_examples\"):\n",
    "    # Default placeholder that can be arbitrary float32\n",
    "    # scalar, vertor, matrix, etc.\n",
    "    arbitrary_input = tf.placeholder('float32')\n",
    "\n",
    "    # Input vector of arbitrary length\n",
    "    input_vector = tf.placeholder('float32', shape=(None,))\n",
    "\n",
    "    # Input vector that _must_ have 10 elements and integer type\n",
    "    fixed_vector = tf.placeholder('int32', shape=(10,))\n",
    "\n",
    "    # Matrix of arbitrary n_rows and 15 columns\n",
    "    # (e.g. a minibatch your data table)\n",
    "    input_matrix = tf.placeholder('float32', shape=(None, 15))\n",
    "    \n",
    "    # You can generally use None whenever you don't need a specific shape\n",
    "    input1 = tf.placeholder('float64', shape=(None, 100, None))\n",
    "    input2 = tf.placeholder('int32', shape=(None, None, 3, 224, 224))\n",
    "\n",
    "    # elementwise multiplication\n",
    "    double_the_vector = input_vector*2\n",
    "\n",
    "    # elementwise cosine\n",
    "    elementwise_cosine = tf.cos(input_vector)\n",
    "\n",
    "    # difference between squared vector and vector itself plus one\n",
    "    vector_squares = input_vector**2 - input_vector + 1"
   ]
  },
  {
   "cell_type": "code",
   "execution_count": 11,
   "metadata": {
    "collapsed": true
   },
   "outputs": [],
   "source": [
    "my_vector =  tf.placeholder('float32', shape=(None,), name=\"VECTOR_1\")\n",
    "my_vector2 = tf.placeholder('float32', shape=(None,))\n",
    "my_transformation = my_vector * my_vector2 / (tf.sin(my_vector) + 1)"
   ]
  },
  {
   "cell_type": "code",
   "execution_count": 12,
   "metadata": {},
   "outputs": [
    {
     "name": "stdout",
     "output_type": "stream",
     "text": [
      "Tensor(\"truediv:0\", shape=(?,), dtype=float32)\n"
     ]
    }
   ],
   "source": [
    "print(my_transformation)"
   ]
  },
  {
   "cell_type": "code",
   "execution_count": 13,
   "metadata": {},
   "outputs": [
    {
     "name": "stdout",
     "output_type": "stream",
     "text": [
      "[ 0.  1.  2.  3.  4.]\n"
     ]
    },
    {
     "data": {
      "text/plain": [
       "array([ 0.        ,  1.62913239,  2.09501147,  2.62899613,  0.        ], dtype=float32)"
      ]
     },
     "execution_count": 13,
     "metadata": {},
     "output_type": "execute_result"
    }
   ],
   "source": [
    "dummy = np.arange(5).astype('float32')\n",
    "print(dummy)\n",
    "my_transformation.eval({my_vector:dummy, my_vector2:dummy[::-1]})"
   ]
  },
  {
   "cell_type": "code",
   "execution_count": 14,
   "metadata": {
    "collapsed": true
   },
   "outputs": [],
   "source": [
    "writer.add_graph(my_transformation.graph)\n",
    "writer.flush()"
   ]
  },
  {
   "cell_type": "markdown",
   "metadata": {},
   "source": [
    "TensorBoard allows writing scalars, images, audio, histogram. You can read more on tensorboard usage [here](https://www.tensorflow.org/get_started/graph_viz)."
   ]
  },
  {
   "cell_type": "markdown",
   "metadata": {},
   "source": [
    "# Summary\n",
    "* Tensorflow is based on computation graphs\n",
    "* The graphs consist of placehlders and transformations"
   ]
  },
  {
   "cell_type": "markdown",
   "metadata": {},
   "source": [
    "# Mean squared error\n",
    "\n",
    "Your assignment is to implement mean squared error in tensorflow."
   ]
  },
  {
   "cell_type": "code",
   "execution_count": 15,
   "metadata": {
    "collapsed": true
   },
   "outputs": [],
   "source": [
    "with tf.name_scope(\"MSE\"):\n",
    "    y_true = tf.placeholder(\"float32\", shape=(None,), name=\"y_true\")\n",
    "    y_predicted = tf.placeholder(\"float32\", shape=(None,), name=\"y_predicted\")\n",
    "    # Your code goes here\n",
    "    # You want to use tf.reduce_mean\n",
    "    # mse = tf.<...>\n",
    "    mse = tf.subtract(y_true, y_predicted)\n",
    "    mse = tf.square(mse)\n",
    "    mse = tf.reduce_mean(mse)\n",
    "def compute_mse(vector1, vector2):\n",
    "    return mse.eval({y_true: vector1, y_predicted: vector2})"
   ]
  },
  {
   "cell_type": "code",
   "execution_count": 16,
   "metadata": {
    "collapsed": true
   },
   "outputs": [],
   "source": [
    "writer.add_graph(mse.graph)\n",
    "writer.flush()"
   ]
  },
  {
   "cell_type": "markdown",
   "metadata": {},
   "source": [
    "Tests and result submission. Please use the credentials obtained from the Coursera assignment page."
   ]
  },
  {
   "cell_type": "code",
   "execution_count": 17,
   "metadata": {
    "collapsed": true
   },
   "outputs": [],
   "source": [
    "import submit"
   ]
  },
  {
   "cell_type": "code",
   "execution_count": 19,
   "metadata": {},
   "outputs": [
    {
     "name": "stdout",
     "output_type": "stream",
     "text": [
      "Submitted to Coursera platform. See results on assignment page!\n"
     ]
    }
   ],
   "source": [
    "submit.submit_mse(compute_mse, 'whisper4738@gmail.com', 'KwAeoz0fMad6gK4o')"
   ]
  },
  {
   "cell_type": "markdown",
   "metadata": {},
   "source": [
    "# Variables\n",
    "\n",
    "The inputs and transformations have no value outside function call. This isn't too comfortable if you want your model to have parameters (e.g. network weights) that are always present, but can change their value over time.\n",
    "\n",
    "Tensorflow solves this with `tf.Variable` objects.\n",
    "* You can assign variable a value at any time in your graph\n",
    "* Unlike placeholders, there's no need to explicitly pass values to variables when `s.run(...)`-ing\n",
    "* You can use variables the same way you use transformations \n",
    " "
   ]
  },
  {
   "cell_type": "code",
   "execution_count": 5,
   "metadata": {
    "collapsed": true
   },
   "outputs": [],
   "source": [
    "# Creating a shared variable\n",
    "shared_vector_1 = tf.Variable(initial_value=np.ones(5),\n",
    "                              name=\"example_variable\")"
   ]
  },
  {
   "cell_type": "code",
   "execution_count": 6,
   "metadata": {},
   "outputs": [
    {
     "name": "stdout",
     "output_type": "stream",
     "text": [
      "Initial value [ 1.  1.  1.  1.  1.]\n"
     ]
    }
   ],
   "source": [
    "# Initialize variable(s) with initial values\n",
    "s.run(tf.global_variables_initializer())\n",
    "\n",
    "# Evaluating shared variable (outside symbolicd graph)\n",
    "print(\"Initial value\", s.run(shared_vector_1))\n",
    "\n",
    "# Within symbolic graph you use them just\n",
    "# as any other inout or transformation, not \"get value\" needed"
   ]
  },
  {
   "cell_type": "code",
   "execution_count": 7,
   "metadata": {},
   "outputs": [
    {
     "name": "stdout",
     "output_type": "stream",
     "text": [
      "New value [ 0.  1.  2.  3.  4.]\n"
     ]
    }
   ],
   "source": [
    "# Setting a new value\n",
    "s.run(shared_vector_1.assign(np.arange(5)))\n",
    "\n",
    "# Getting that new value\n",
    "print(\"New value\", s.run(shared_vector_1))"
   ]
  },
  {
   "cell_type": "markdown",
   "metadata": {},
   "source": [
    "# tf.gradients - why graphs matter\n",
    "* Tensorflow can compute derivatives and gradients automatically using the computation graph\n",
    "* True to its name it can manage matrix derivatives\n",
    "* Gradients are computed as a product of elementary derivatives via the chain rule:\n",
    "\n",
    "$$ {\\partial f(g(x)) \\over \\partial x} = {\\partial f(g(x)) \\over \\partial g(x)}\\cdot {\\partial g(x) \\over \\partial x} $$\n",
    "\n",
    "It can get you the derivative of any graph as long as it knows how to differentiate elementary operations"
   ]
  },
  {
   "cell_type": "code",
   "execution_count": 6,
   "metadata": {
    "collapsed": true
   },
   "outputs": [],
   "source": [
    "my_scalar = tf.placeholder('float32')\n",
    "my_scalar1 = tf.placeholder('float32')\n",
    "\n",
    "scalar_squared = my_scalar**2\n",
    "scalar_squared1 = my_scalar1**2\n",
    "\n",
    "# A derivative of scalar_squared by my_scalar\n",
    "derivative = tf.gradients([scalar_squared, scalar_squared1], [my_scalar, my_scalar1], \n",
    "                          grad_ys=[tf.convert_to_tensor([2.]), tf.convert_to_tensor([1.])])"
   ]
  },
  {
   "cell_type": "code",
   "execution_count": 7,
   "metadata": {},
   "outputs": [
    {
     "data": {
      "text/plain": [
       "[<tf.Tensor 'gradients/pow_grad/Reshape:0' shape=<unknown> dtype=float32>,\n",
       " <tf.Tensor 'gradients/pow_1_grad/Reshape:0' shape=<unknown> dtype=float32>]"
      ]
     },
     "execution_count": 7,
     "metadata": {},
     "output_type": "execute_result"
    }
   ],
   "source": [
    "derivative"
   ]
  },
  {
   "cell_type": "code",
   "execution_count": 8,
   "metadata": {},
   "outputs": [
    {
     "data": {
      "image/png": "[encoded data removed]",
      "text/plain": [
       "<matplotlib.figure.Figure at 0x7f3c80114b00>"
      ]
     },
     "metadata": {},
     "output_type": "display_data"
    }
   ],
   "source": [
    "import matplotlib.pyplot as plt\n",
    "%matplotlib inline\n",
    "\n",
    "x = np.linspace(-3, 3)\n",
    "x_squared, x_squared_der = s.run([scalar_squared, derivative[0]],\n",
    "                                 {my_scalar:x})\n",
    "\n",
    "plt.plot(x, x_squared,label=\"$x^2$\")\n",
    "plt.plot(x, x_squared_der, label=r\"$\\frac{dx^2}{dx}$\")\n",
    "plt.legend();"
   ]
  },
  {
   "cell_type": "markdown",
   "metadata": {},
   "source": [
    "# Why that rocks"
   ]
  },
  {
   "cell_type": "code",
   "execution_count": 9,
   "metadata": {},
   "outputs": [],
   "source": [
    "my_vector = tf.placeholder('float32', [None])\n",
    "# Compute the gradient of the next weird function over my_scalar and my_vector\n",
    "# Warning! Trying to understand the meaning of that function may result in permanent brain damage\n",
    "weird_psychotic_function = tf.reduce_mean(\n",
    "    (my_vector+my_scalar)**(1+tf.nn.moments(my_vector,[0])[1]) + \n",
    "    1./ tf.atan(my_scalar))/(my_scalar**2 + 1) + 0.01*tf.sin(\n",
    "    2*my_scalar**1.5)*(tf.reduce_sum(my_vector)* my_scalar**2\n",
    "                      )*tf.exp((my_scalar-4)**2)/(\n",
    "    1+tf.exp((my_scalar-4)**2))*(1.-(tf.exp(-(my_scalar-4)**2)\n",
    "                                    )/(1+tf.exp(-(my_scalar-4)**2)))**2\n",
    "\n",
    "der_by_scalar = tf.gradients(weird_psychotic_function, my_scalar)\n",
    "der_by_vector = tf.gradients(weird_psychotic_function, my_vector)"
   ]
  },
  {
   "cell_type": "code",
   "execution_count": 10,
   "metadata": {},
   "outputs": [
    {
     "data": {
      "image/png": "[encoded data removed]",
      "text/plain": [
       "<matplotlib.figure.Figure at 0x7f3c78858390>"
      ]
     },
     "metadata": {},
     "output_type": "display_data"
    }
   ],
   "source": [
    "# Plotting the derivative\n",
    "scalar_space = np.linspace(1, 7, 100)\n",
    "\n",
    "y = [s.run(weird_psychotic_function, {my_scalar:x, my_vector:[0, 0, 0]})\n",
    "     for x in scalar_space]\n",
    "\n",
    "plt.plot(scalar_space, y, label='function')\n",
    "\n",
    "y_der_by_scalar = [s.run(der_by_scalar,\n",
    "                         {my_scalar:x, my_vector:[0, 0, 0]})\n",
    "                   for x in scalar_space]\n",
    "\n",
    "plt.plot(scalar_space, y_der_by_scalar, label='derivative')\n",
    "plt.grid()\n",
    "plt.legend();"
   ]
  },
  {
   "cell_type": "markdown",
   "metadata": {},
   "source": [
    "# Almost done - optimizers\n",
    "\n",
    "While you can perform gradient descent by hand with automatic grads from above, tensorflow also has some optimization methods implemented for you. Recall momentum & rmsprop?"
   ]
  },
  {
   "cell_type": "code",
   "execution_count": 32,
   "metadata": {
    "collapsed": true
   },
   "outputs": [],
   "source": [
    "y_guess = tf.Variable(np.zeros(2, dtype='float32'))\n",
    "y_true = tf.range(1, 3, dtype='float32')\n",
    "loss = tf.reduce_mean((y_guess - y_true + tf.random_normal([2]))**2) \n",
    "#loss = tf.reduce_mean((y_guess - y_true)**2) \n",
    "optimizer = tf.train.MomentumOptimizer(0.01, 0.5).minimize(\n",
    "    loss, var_list=y_guess)"
   ]
  },
  {
   "cell_type": "code",
   "execution_count": 38,
   "metadata": {},
   "outputs": [
    {
     "data": {
      "image/png": "[encoded data removed]",
      "text/plain": [
       "<matplotlib.figure.Figure at 0x7f421bcebda0>"
      ]
     },
     "metadata": {},
     "output_type": "display_data"
    }
   ],
   "source": [
    "from matplotlib import animation, rc\n",
    "import matplotlib_utils\n",
    "from IPython.display import HTML\n",
    "\n",
    "fig, ax = plt.subplots()\n",
    "y_true_value = s.run(y_true)\n",
    "level_x = np.arange(0, 2, 0.02)\n",
    "level_y = np.arange(0, 3, 0.02)\n",
    "X, Y = np.meshgrid(level_x, level_y)\n",
    "Z = (X - y_true_value[0])**2 + (Y - y_true_value[1])**2\n",
    "ax.set_xlim(-0.02, 2)\n",
    "ax.set_ylim(-0.02, 3)\n",
    "s.run(tf.global_variables_initializer())\n",
    "ax.scatter(*s.run(y_true), c='red')\n",
    "contour = ax.contour(X, Y, Z, 10)\n",
    "ax.clabel(contour, inline=1, fontsize=10)\n",
    "line, = ax.plot([], [], lw=2)\n",
    "\n",
    "def init():\n",
    "    line.set_data([], [])\n",
    "    return (line,)\n",
    "\n",
    "guesses = [s.run(y_guess)]\n",
    "\n",
    "def animate(i):\n",
    "    s.run(optimizer)\n",
    "    guesses.append(s.run(y_guess))\n",
    "    line.set_data(*zip(*guesses))\n",
    "    return (line,)\n",
    "\n",
    "anim = animation.FuncAnimation(fig, animate, init_func=init,\n",
    "                               frames=400, interval=20, blit=True)"
   ]
  },
  {
   "cell_type": "code",
   "execution_count": 34,
   "metadata": {},
   "outputs": [
    {
     "data": {
      "text/html": [
       "<img src=\"data:image/jpeg;base64,/9j/4AAQSkZJRgABAQAAAQABAAD/2wBDAAIBAQEBAQIBAQECAgICAgQDAgICAgUEBAMEBgUGBgYFBgYGBwkIBgcJBwYGCAsICQoKCgoKBggLDAsKDAkKCgr/2wBDAQICAgICAgUDAwUKBwYHCgoKCgoKCgoKCgoKCgoKCgoKCgoKCgoKCgoKCgoKCgoKCgoKCgoKCgoKCgoKCgoKCgr/wAARCAEgAbADASIAAhEBAxEB/8QAHwAAAQUBAQEBAQEAAAAAAAAAAAECAwQFBgcICQoL/8QAtRAAAgEDAwIEAwUFBAQAAAF9AQIDAAQRBRIhMUEGE1FhByJxFDKBkaEII0KxwRVS0fAkM2JyggkKFhcYGRolJicoKSo0NTY3ODk6Q0RFRkdISUpTVFVWV1hZWmNkZWZnaGlqc3R1dnd4eXqDhIWGh4iJipKTlJWWl5iZmqKjpKWmp6ipqrKztLW2t7i5usLDxMXGx8jJytLT1NXW19jZ2uHi4%2BTl5ufo6erx8vP09fb3%2BPn6/8QAHwEAAwEBAQEBAQEBAQAAAAAAAAECAwQFBgcICQoL/8QAtREAAgECBAQDBAcFBAQAAQJ3AAECAxEEBSExBhJBUQdhcRMiMoEIFEKRobHBCSMzUvAVYnLRChYkNOEl8RcYGRomJygpKjU2Nzg5OkNERUZHSElKU1RVVldYWVpjZGVmZ2hpanN0dXZ3eHl6goOEhYaHiImKkpOUlZaXmJmaoqOkpaanqKmqsrO0tba3uLm6wsPExcbHyMnK0tPU1dbX2Nna4uPk5ebn6Onq8vP09fb3%2BPn6/9oADAMBAAIRAxEAPwD9/KKKKACiiigAooooAKKKKACiiigAooooAKKKKACiiigAooooAKKKKACiiigAooooAKKKKACiiigAooooAKKKKACiiigAooooAKKKKACiiigAooooAKKKKACiiigAooooAKKKKACiiigAooooAKKKKACiiigAorj/AAR%2B0J8A/iZ431n4Z/Dj44eD/EHiTw5JJH4h8P6J4ltbu%2B0t0kMTrcQRSNJAVkBQh1GGG088VZtfjb8Gb74p3PwLsvi54Ym8b2dgL288HRa/btqsFqQpE72gfzljIdPnK7fmXnkUAdPRRRQAUUUUAFFFFABRRRQAUUUUAFFFFABRRRQAUUUUAFFFFABRRRQAUUUUAFFFFABRRRQAUUUUAFFFFABRRRQAUUUUAFFFFABRRRQAUUUUAFFFFABRRRQAUUUUAFFFFABRRRQAUUUUAfIz%2BIrvxH/wUT0j40aVp3xZ1nw/4Z8I6/pWr2XiP4WX%2Bn6b4Ukmn0yMNpUo06CbVWu5bUtJiS%2BRUQyxvbxjbLy/g74f/EGL9qTw98N5fhR4oh17Qf2nfEnj3WvGcvhq6TSpvDt5oWp29tImpmP7NPIVvbDT/sqyGZPszMYxHCr19w0UAeIftr%2BO/wBp34WeFtF8bfAPx94D022ufF/hzw/qFj4v8B3uqyO%2Bq67Y6X9ojlttVsxGIkvDJ5ZR95jA3oDkWf8AhB/%2BChf/AEdB8Gf/AAw%2Brf8AzUUft4f8kQ0P/ss3w4/9TXRK9moA8Z/4Qf8A4KF/9HQfBn/ww%2Brf/NRVbWdA/bz8OaRdeIPEP7W3wQsLCyt3nvb29%2BB2qRQ28SAs0ju3ikKigAkkkAAZrtvhz8ddL%2BIPxC8S/DO58F65oGp%2BHTHIkWuxQx/2nZvJNEt5biOVy0JlglTLBW4UlQHUnwnxj4Y%2BMnh7SfE/w8%2BNujX%2BsaZ8RPFEvhqz8ZS%2BM3nuFS8eQ2EkOlRwrDawQsyQuY2EpCNOwKqSOulhHOfLN2emnVp9tbOyu/6dsZ1Uo3Svv/X3lHxB8b/27NYt/Cy/AD9pj4A%2BOLnxXqV3bWWPhRqtnboLWBp58y/8JHKfNCqAsRUFtwJKoC47H4Paz%2B3j8Zfh1p3xD0P9pT4RWkd4JYrqwvPgJqyz2V1DK8FxbSj/AISjiSKaOSNscbkOOKzfC3wc%2BK/xk%2BI914s8Z%2BCNU8Aatplhpl2de32sscviW1M0TXVtHHI3m272k8sT7wm%2BO5ZPvLlPb/gn8K5vhL4RuNG1LxGNX1PUtYvNV1nU0sVtUuLu5lMkjJCpYRoMgBdzHC5LMSSdcTTwtKlyxfvffvfqtNrbWflrpNKVWUrvb%2BvmeEeBx/wWR8RfFHWNF8XeKPgJ4e8H2FxPDpniCf4dapc32qbWxHMlnF4gKRRuAW/eThxkZTOcegf8IP8A8FC/%2BjoPgz/4YfVv/mor2aiuKclN3UUvS/6tm0U0tXc8Z/4Qf/goX/0dB8Gf/DD6t/8ANRR/wg//AAUL/wCjoPgz/wCGH1b/AOaivZqw/iF8T/ht8JPDsni/4qfEDRPDWlQ/63Ute1SGzgXjODJKyrn8amMZSdoq7K3PNf8AhB/%2BChf/AEdB8Gf/AAw%2Brf8AzUUf8IP/AMFC/wDo6D4M/wDhh9W/%2BaiuQn/4Kh/BjxncPpn7Lfwu%2BInxlulcx/afAPhOX%2BzEkzgB9SvDBaBf9pZH78HFNHiv/gqv8XOfD3wo%2BFXwe0%2BX5Wl8V65ceJtVjH98QWQgtVb2M7jPr1rs/s/ER/i2h/iaT%2B7WX/kpfJLrodj/AMIP/wAFC/8Ao6D4M/8Ahh9W/wDmorK8XH9tXwBpZ1vx5%2B2j8BNEsl%2B9eav8F9Stoh/wOTxUB%2BtYn/DB3xr%2BIH779or/AIKJfFfXc8PpvgZ7TwnYsvdStjGbgj63BODyTWt4R/4JZ/sB%2BE9UGv3H7NOh%2BItT6vqnjiWfX7h267i%2BoyTHOeeMY7Yo9lgYfHVcv8Mf1k1%2BQWgup4x4q/4KMP4T1I6Kf%2BCo37O2tXwyBZeD/gRrmuzE%2BgTTvEs5J7YxWb/w3d%2B3rr//ACSnwjrXi1H/AOPe8tP2O9a022l9CJdT8W2w2%2B/P0r7m8K%2BCvBvgTTRovgjwlpmjWa/dtNKsI7eIf8BjUD9K06Pa4CPw0pP1lb8Ix/ULw7HwPH8av%2BDgjxA4bwj%2BzN8I7OBz8k3jHRfsJx6lLTxNeMv0IzXffCy1/wCC7ev%2BI7T/AIW94p/ZT8N6I%2B77ZLo/hPxHqd9F8jbdsTalBE3z7QcyjAJPJAB%2BuqKieIpSjaNKK/8AAm/xl%2BgnJdjxn/hB/wDgoX/0dB8Gf/DD6t/81FH/AAg//BQv/o6D4M/%2BGH1b/wCaivZqK5STxn/hB/8AgoX/ANHQfBn/AMMPq3/zUUf8IP8A8FC/%2BjoPgz/4YfVv/mor2aigDxn/AIQf/goX/wBHQfBn/wAMPq3/AM1FH/CD/wDBQv8A6Og%2BDP8A4YfVv/mor2aigDxn/hB/%2BChf/R0HwZ/8MPq3/wA1FH/CD/8ABQvt%2B1B8Gf8Aww%2Brf/NRXs1FAHxJ4k1P/g4i8P7pdK0j9kfX0H3E0%2Bw8RW8jD3E96qg/8CNYI/aJ/wCC63hg%2Bd8Sv2XvBot1/wBZP4J8CQ6wf%2BAxyeMLaRv%2B%2BRX3zRXZHE0bWlRi/wDwJflJ/kVzLsfK/wCz98Sv%2BChPx%2B0zUr9/GnhvwRNpk8cU1j8Qf2YtX06WYspO6EjxY6TKMYLIxAJA71pfEvxF/wAFBvh74t8EeC7f9oL4M6he%2BNvEj6Xbr/wpTVYRaxRWNzeTXJ/4qZt4VLbbs%2BXLSKNwr6Wrzbx/%2BzPoHjv4y6D8dU%2BI/jDSdb8O288NhbafrKyaeVmiaKQtZ3EcsIYqeXRVf5R83XMU5Yd13Jq0bOy1lrZ27PfW/QFy3PBf2g/jh/wUO%2BCWpXmmaH8V/hH4kfQPDMniXxhJD8GdStk0nR42kDT5fxOTNKfJmKQqAWELfMOM60Hxz/aoufinb/CGL9rP4VnUrm7SyS7/AOGbde%2BwrfvaC8Wxa6/4SXyluTbETeUWB2%2B4xXb/ABj/AGSvHXxJ8U31xpHxXtLTR/Fvh6w0bx8l1ope9u7e1mkk3WsiSpHCZlkeGRWjZQrFkw2c8PqP7PH7SK6v4g8LaD4b06z0/TfFeu%2BL9B8S/wBqKf7Sv5bcppVsIBmSLySyrK78MLddmRIQnXTo4GpSScrO3e333XR9F038qSg0dT4Q179rv4gavqvh/wACftzfs%2Ba1qGhXAg1ux0r4O6hcTafISQEnRPFZaIkq2AwGcH0rf/4Qf/goX/0dB8Gf/DD6t/8ANRXF/sZeCtWfxvoXiLRPBHiDw54Z8GfCDTvCaQeJdBm0271HUzMJrl3imVXkEIiTE2NjyXc5RnBLH0f4l/ttfsqfBj4q2/wW%2BMHxs0fwr4gu7OO5s4vEbPZW1wjlgoS7mVbdnypygk3jIyBuGeethJKu6dFOVlfRXfntfyfW1yXHWyMz/hB/%2BChf/R0HwZ/8MPq3/wA1FH/CD/8ABQv/AKOg%2BDP/AIYfVv8A5qK9f0vVdM1zTodX0XUoLy0uYxJb3VrMskcqHoyspIYH1FT1x7EnjP8Awg//AAUL/wCjoPgz/wCGH1b/AOaivP8AwGP%2BCyGo/FLVfB/xL8UfATSfDkFvLNo3i/R/h1ql9HeYlVUhltpPEEMsEpRi5wHjGxhvPy5%2BpqKuM1FNOKd/XTzWv53Jaba1Pmf48eIv%2BCh/wV%2BHFx41sPjv8F9d1F7q3sdG0I/BrV7RtRvriVYbeBZB4jl2lpHUE7DhdzHhTV/4ieI/2wPhBo9pr3xY/ba%2BAnh2zvb2Ozgu9W%2BCmqQwtcPnam9/FIAzg8nA47V6B8VvgFqvxB%2BJ3hf4raX8TdStJfCt2bq28M30Edzo93N9nuIVmki2rKkyi5YrIkgA2qSjEDHC/tNQ/EnxB4m8NL4X%2BFfixvF2g3kEnhzWNKeCbQLk3Pl29/HeCQsUiSCSfJliRyozCxc7R10aVCqoQv3bezXZa6WVt9d3poZTnUhzO3a39I2bTwl/wUAv7WK/sP2qvgrPBPGskM0PwK1VkkQjIZSPFOCCDkEVJ/wg/wDwUL/6Og%2BDP/hh9W/%2BaivNdS%2BMuueHtf0z4uRfEy50Hw1a%2BK9StLHwjZ20MenQeGNKW4TULuaLZv377d3VwRtCRqnDkN7F8G/j74n%2BIXjWbwN47%2BFzeFr2Xw3a6/pVrLq4uZ3sppHj23MYjX7NOrpgx5cfNw5KsqzVwVWnHmWq/L/O11e2g4V4SdjjNS8Y/tm/CX40/Crw18Ufi38MPEvh/wAeeNbvQdTtNA%2BF2o6ReW4j8P6vqcc0VxNrl2gPm6dGjK0JysjYKkA19A14z%2B1B/wAlv/Zx/wCyzX3/AKhXiivZq4zYKKKKACiiigAooooAKKKKACiiigDxn9vD/kiGh/8AZZvhx/6muiV0/gH9pT4cfFD4t%2BIvhB4Dg1jUbnwoGj17Wo9HlXS7a8V1VrEXTAJJcru3MibtoByQRiuY/bw/5Ihof/ZZvhx/6muiV7KiJGCI0CgkkgDHJ5Jq4umovmV301tb/P00Jak2rM8u%2BLvwe%2BKHi/41eDviZ8MfGOkeHP7Ds72013Ubqwe8ub%2BynMTGzSHckajfEsgmdm2OgxGwZs9XafB34fJ4nsPHus%2BHrbV/EemWrW9l4i1W2jlvIUZmLBH2gR53EHYFyMA8AV09FW69VxUb2sraaaeb3e//AABKnFNvuFVtY1nSPD2lXOva/qttY2NnA015e3k6xRQRqMs7uxAVQASSTgAVT8bjxq3hHUV%2BHEulprptWGlPrUUj2izY%2BUyrGyuyDuFZSemR1rxI634q/ae/ZI8b/C/4i32k6V430d7vw94oxGYLAalAUeGULIzMltcxtbTKCzER3O3cWXNOlR9ouZvS6T7q/W3b9TRK50PxC/a50a2t/C6/s/aJp3xJufFUeoXGm/2P4khjtpYLKBZpglwFkR52EkYjh%2BXduLFkVGYeLeI/2k/G2seIvHnx48DfE3XI38H2eka/o3gW/mt4dP1fwsSseoRLGU3C/W5ttShLl2MU0duufLlUHV8I/Br4i/Gf40%2BIfGll4M1/4Z3UA0vV5dQ1PTY2iTxVbyPb3Eluqybby2ubGOGOZl2hl2bX3l9nr/gL9kj4Z6b4G0zw78X/AA5oHjjU7DXb3WhqeqeG4hFDfXVzJcubaGQym3iV5SI497lAifMSoNelfA4RWau9L7N66vvHbTRp63NPcid/418PXXjjwNqfhfTfFeqaDNqumy28GtaQUjvLBpEKrPF5qMqyoSGG9CARyp6V4z8Pf%2BCZ37IngzxFH498YeA7r4ieK05bxb8UtVl8QX5bsym7LRwkdvJjjA7CvfaK82nicRRg405OKe9tPxWvyvbyM1KSWgy3t4LSBLW1gSOKNAsccahVVQMAADoBT6KKwEFFFc/8SPiv8Lfg34bk8ZfF34k6B4V0iLPm6p4j1iCxt04zzJMyqPzpqMpOyV2NJydktToKK%2BVbz/gsN%2Byj4lvJdI/Zo8N/Eb4330LlJYvhD4AvNTtUYcfNfyrDYgZ4z5%2BB37UwftEf8FW/iv8Au/hN/wAE/PB3w9tZPmg1f4x/FJJZdnYtY6NDclWxztadT2OOtdX1HEr40o/4mo/g3f8AA6fqWIXxpR/xNL8G7/gfVtFfKY/Z0/4KwfEX/S/iR/wUZ8HeBkk4l0v4VfByGTYO4W61i5ujn38ketL/AMOsh4k/efF//goR%2B0x4saTm5th8UTo1rJ6jydIgtcL/ALJJ%2BtH1fDx%2BKsvkpP8ASKD2FCPxVV8lJ/okfVTukal3YKoGSScACuR8S/tBfAXwYzJ4w%2BN3hDSSn3xqXiW1gK/XfIMV4Kn/AARR/wCCal2wm8Xfs%2BXXimbOZJ/GfjjWtZaRvUi8vJF/IAV13hr/AIJX/wDBNPwkqjRP2BvhAGT7st18PdPuJB/wOWJm/WjlwC%2B1J/8AbsV%2BcmHLgl9qT%2BSX5yZtar/wUO/YB0Jimt/ty/B6zK/eF18TNKjI/wC%2BrgVjzf8ABUv/AIJoQNtf/goJ8Fyf9j4m6W38p67DSv2Nf2QdCULon7Knw2swv3Ra%2BBtPjx/3zCK2If2d/wBn%2B3XZB8DPByD0TwzaD%2BUdF8v7T/8AJP8AIP8AYe0//Jf8jzq2/wCCon/BNS7YJD/wUE%2BCuT0D/FDSl/8AQrgVvaN%2B3p%2Bwz4iYJ4f/AGz/AIT3xb7os/iLpkuf%2B%2BZzXSXX7N/7O96uy9%2BAnguYHqJfC1ow/WOsHWP2HP2KfEKlNf8A2PvhbfBvvC8%2BH%2Bmy5/76hNH/AAn/AN//AMkD/Yf7/wD5Kdn4X%2BK3wu8blV8F/EnQNXLfdGl6xBcZ%2Bnlsa36%2BdPFH/BIn/gl74vDDVv2B/hVFu6nS/BtrYn8DbIhFYB/4Iv8A7BGknz/hr4P8beBrkf6u68DfFnxDphj/AN1Ir7yx/wB8UcmAe05L1in%2BUg5cE9pyXrFP8pH1VRXyp/w7X%2BLPg7/Svgj/AMFR/wBojQrhf9VD4n1/TvE9qvplNTspZG/GWk/4Vb/wWO%2BGf/Im/tY/Bf4oQdfI%2BIPw3vNBuSPT7Rpd1LGD/tfZ8f7NP6tRl8FaPzUo/mmvxD6vRl8NVfNSj%2Baa/E%2BrKK%2BUT%2B2h%2B338Kv8Ak4f/AIJda/qljD8s%2Bu/BXx3p/iFXP95bK7%2BxXQHsFc8dzgVreB/%2BCvP7BfiXxDD4G8efF24%2BGfiWY7T4Z%2BL2gXnhe7V%2BmwHUY4opGyQP3bvycUngcVa8Y8y/utS/Jt/gDweJteMeZf3Wpfk2/wAD6YoqtpGsaR4g0yDW9B1W2vrK5jEltd2c6yxSoejK6khh7g1Zrk2OXYKzfFng3wh4%2B0Kfwt468K6brWmXK4udO1axjuYJR6NHICrfiK0qKabi7oD5r1P/AIJe/A3wrqVx4o/ZU8aeMPglrM8hmkk%2BHGuNDps8nUedpdwJbKRAf4REv1FV28af8FL/ANnH/kffh14Z%2BPfhuD7%2BseCGXQPEiRjlnfT7l2tLlsdFhmiJ7L2P05RXasfWnpWSqL%2B9q/8AwJWl%2BLL5299Txv4E/t6/s0fH/wARv8PNA8ZT6B40gH%2Bm/D/xrp8mka5btjJH2S5CtKB3eLzE/wBqvZK4T48fsxfAD9p3w4nhb48/CjSPEltCd1nLfW%2BLmyf/AJ6W9whWW3f/AG43VvevFn%2BCH7cf7JP%2Bn/syfFR/i/4Og5b4a/FHVNmr28Y/g0/W9uWPQLHeK6gDHmjrR7LCYj%2BFLkl2lt8p/wDySXqFoy20PqSivHP2eP24fgz%2B0D4hufhkU1Twd8QdNi36x8N/Gtl9g1i1UdZEjYlbqHjImgaSMgg5GcV7HXLVo1aE%2BSorP%2BvvXmm15ktNOzPOPHX7K3wb8WeG/GGmaH4K0nQNT8a2jRazrul6TCtxNIWDrLJ8uJT5gV2DcOR82au/CL4O6j4C1zXPH3jbxmfEfirxILWPVdXWw%2ByQrb2yOsFtBAHfyokaWeTBdiXnkJY547qiqeIrOm4OV0/%2BB13totPJGfs4KV7HjH7TrF/jb%2BzkShX/AIvPfjB9vBXijmvZ68Z/ag/5Lf8As4/9lmvv/UK8UV7NWJYUUUUAFFFFABRRRQAUUUUAeD%2BFPjN%2B0Fof7Z9v%2Bzp8QvEHgjxJpes%2BEdV8RLF4V8OXlje%2BFbaC9toLFb6Wa9uI7oXQmuFR1jtSXsZiiSKshiwvhX%2B1P8Xdd/bS8V/A34seJtE8M6Lb%2BJ7nTfAGgX/wn1u0ufE9tFpdvdm4tdenuxp93IrtdlreCBpBHauSAEZx0Xwm/YlvPg58QvG/xG8OftZfE27uvH2uT6rrcGrW3h2cLO7IIljm/sgXHlW8KLbwxPK6RxcBS3z1v337LUHiL45aL8a/Hvxv8a%2BIofC2tXOr%2BEfB2pHTI9J0W%2Bms7iyaeL7NZRXUxW2u7qNBc3EyqJ2IG5UZQDjP%2BChfxc%2BFHhrwf4M%2BFHiP4neHtP8AFPiD4w/D2XQfDV7rUEWoakkfjPRmka3t2cSTBVVixRSAFJOMGvoevGf28P8AkiGh/wDZZvhx/wCprolezUAFcT8ff2h/hD%2BzH8PZviZ8Z/F8OlaakqwWsexpbm/uX4jtraFAXuJnPCxoCx5PQEjH/an/AGpPBn7LXge11zV9Ivde8Ra7fLpvgvwXowD6h4h1Fx8ltAvYD7zyt8kaAs3YHhP2dv2RfGep/EGD9rX9tPVbLxL8UXiYaDpFsS%2Bj%2BBbZ%2BtppyNw05GBLeN%2B8kIwpVOG7KOHgqftq7tDolvJ9l2S6yei2V3oqUVa72PRP2afih8YvjD4JuvHvxb%2BBs3w%2BjvdRZvDWhanqaz6kdO2J5ct9Gi7LWdm3kwB3KKVViGBFJo37LXwo0z40678ftSt9Q1bxJrwgSWTVdQaS1tYoVVYo4bVdsClduRKyNNyQZCOK9GorF1pKcnT91S0sr7dtdenz/AV9dAooorEQUUV4H%2B1B/wAFAfh78BfGlt8Bfhr4M1b4o/F/VbYTaR8L/BpRrtIjgC6v53Pk6ZaZK5nnIyD8iuQRWlKlUrT5YK7/AK1fRLzdkaU6VStLlgrv%2Bt%2By82e9SyxQRNNNIqIilndjgKB1JPYV8w%2BP/wDgqp8FLjxfe/CX9kbwN4l%2BP3jayk8m70n4YWyT6bpsx6LfavKyWNoM5BBlZ1I5SsC0/YK%2BP/7YEi%2BKf%2BCnXxm%2B3aJMwktvgR8Nr%2Bew8M2y9Vj1G6UpdazIMKWDtHb7gcRFTX1L8Pfhx8PvhL4Qsvh/8LfA%2BkeHNC06Ly7DR9D06O0tbdfRIolVV/AV08uEofE%2BeXZaR%2B/d/JJeZvy4Wh8T532Wkfv3fySXmfMq/CH/AIKp/tN/6R8Z/wBofwz8AvDVx97wp8IrJdZ19om6xzazqEfkQyD%2B9bWp9nrovht/wSX/AGGvAviSP4g%2BMfhTN8S/Fy8yeMvi7q8/ifUXfOd6tftJHCfTyUjA7CvpKipljcRblg%2BRdo6fe1q/nITxle1oPlXaOn4rV/NkVlZWWm2cWn6daRW9vCgSGCCMIkagYCqo4AA7CpaKK5DlCiiigAooooAKKKKACiiigAooooAKKKKACsjxx8PvAXxO8OzeEPiV4I0jxDpNwMXGl65psV3by/70cqsrfiK16Kabi7oabTuj5W1n/gkN%2BzT4Z1OfxV%2ByV4t8cfAPXJpDK9x8JPE0llp88nUedpUwlsJUz1XyFyO44Ipv4k/4K0/stjd4r8JeDf2lvC0H%2Bs1DwwE8K%2BLI4%2BpdrSZ30%2B8YD%2BGOW3Zj0XkCvrWiutY2tLSraa/vav8A8C0l%2BLOlYyrLSraa/vav79Jfizwn9nX/AIKOfst/tH%2BLX%2BFWk%2BKdQ8I/EG3TN98MviJpUmieILfgk4tLjBuFwM%2BZA0seP4q92rzr9o79kr9nD9rfwmngv9or4QaP4otIH8ywnvYCl3p8uQRLa3MZWa1kBA%2BeJ0b3rwGb4c/8FBP2BR/afwV8Wap%2B0Z8LLUZuPAfjDUI08aaNAOT/AGfqb7Y9VVRki3u9sxCqqzMTT9lhq/8ACfLLtJ6fKWn3SS9R%2Bzw9f%2BG%2BV9pPT5S/%2BSS9T7DorzL9lz9r/wCA/wC2F4MuPF/wU8WvcTaZc/ZPEfh7VLR7PVtBvBndaX1nKBLbSqQwwww20lSy816bXLOnOlNxmrNdGc04TpycZKzQUUUVBJ5z%2B0Z%2Byj8Dv2p/D1tonxd8ICe702Xz9B8Q6dcNaarotwMFZ7O7iIlgcEA/Kdp2gMGHFeKj42/tJfsAzppH7W9/efEf4So4js/jJp2n/wDE18Px5wq65aQjEsQHH26BccZljUtur6wplxb293bva3UCSxSoUkjkUMrqRggg8EEdq66OLcIeyqrmh2fTzi94v8H1T3KUrKz2KvhvxL4d8Y6BZeK/CWu2eqaXqNslxp%2Bo6fcrNBcwuMrJG6Eq6kEEEEg1dr5I8Y/CT4if8E5NevfjV%2Byv4bvtf%2BEF3cveePvg5YL5kuhhjum1TQkP3ccvLYjCONxj2tgD6a%2BGPxN8A/GbwBpPxT%2BF3im01vw/rlkl1pWqWUm6OeJu47gg5BUgMrAqQCCKWIw6pxVSm%2BaD2fVPtJdH%2BDWqdtiUbarY82/ag/5Lf%2Bzj/wBlmvv/AFCvFFezV4z%2B1B/yW/8AZx/7LNff%2BoV4or2auUkKKKKACiiigAooooAKKKKACiiigDxn9vD/AJIhof8A2Wb4cf8Aqa6JXoXxh%2BLfgP4D/C7XvjH8T9cTTtA8OabLfapduMlY0GdqjqzscKqjlmZVHJFee/t4f8kQ0P8A7LN8OP8A1NdErg/2h7YftXfts%2BDv2S5P3/gz4c2Nv4%2B%2BJUA5ivrzzmj0XTpexXzYp7x42BDC2iz1rpwtGNar7%2BkUm5ei3t5vRLzfkVFXepe/Y4%2BC3jz4i%2BNLj9vT9qPQXtvHXiayMPgrwrd/Mvgbw%2B53RWaKeBeTLtkuZcBizCIbVQg/SlFFTiK8sRU5notklsktkvJfjq3q2KTcmFFFFYCCiivnH/goV%2B0B8UPCGmeE/wBlX9mPUYrb4t/GPUZtL8MalJF5ieG9OhQPqWuyp0ZbWFhsUn555YVw2SK1o0pV6ihHr9yW7b8ktTSlSlWqKC/4ZdW/JLU539oD9qD42/tFfGTVf2I/%2BCf2r21hq2iMsPxY%2BMdzai5sPA6uM/YrWM/JeauyHIiJ8uAENLydo9e/ZT/Y7%2BCH7HXgq48KfCXRLmW/1a5%2B2eKfFuuXRvNZ8R3xyXu7%2B7f57iViWPOFXcQiqvFaX7L/AOzR8Lf2Rvgro/wM%2BEemSxaZpaM9ze3kvm3eqXkh33F9dSnma4mkLO7nqTgYAAHoFbVq8eX2VHSH4yfd/otl5u7Nq1ePL7KlpD8Zeb/RbLzd2FFFFchyhRRRQAUUUUAFFFFABRRRQAUUUUAFFFFABRRRQAUUUUAFFFFABRRRQAUUUUAfPH7WH7BenfF/xlB%2B0r%2Bzv42f4ZfHDRbby9H8faXbhotVhXBGnavbDC6hZNtA2v8AvIsBo2UjBt/saftoX/x31XXPgJ8efAyeA/jV4HijPjPwS1yZILm3Y7YtW0yVsG60%2BYj5XHzRMfLkAYAt75Xzz%2B31%2Byj4t%2BMugaP8ff2c7230b43fDCSTUvh1rcnyx34I/wBI0W8OR5lleIDE4JGxykikFDntpVY14qjWf%2BGX8vk/7vdfZ3XVPspVY1oqlVfpL%2BXyf93y6brqn9DUV5t%2ByJ%2B0x4R/a%2B/Z48N/H7wfp9xp6a1asup6LejFzpGoQu0N3YzggESwTxyRNkDOzI4Ir0muScJ05uElZrRnLOEqc3GSs1oFFFFSSFfI/iuw/wCHa3x9X4m%2BHl%2Bz/Aj4na/HB4y0teLfwT4huXCRapEOkVldSFY514WOVkkBAZlr64rB%2BKHw08GfGT4c658KPiLoseo6F4i0ubT9VspRxLBKhRgD/C2DkMOQQCOQK6sLXVGbjNXhLSS8u681un302bKi7PXY83/ag/5Ld%2Bzj/wBlmvv/AFCvFFezV8vz/DTx98G7X9kv4U/Ez4jDxbq/h74qXthJ4iNoYXvYYvBnipYGkUsxMohEau%2BfndWbA3YH1BWFSMYTcYu6T37%2BfzE9GFFFFQIKKKKACiiigAooooA5DwL%2B0H8A/ih4y1n4dfDT43%2BEPEXiHw67J4g0LQvEtrd3mmMrmNluIIpGeEhwVIcDDAjrVi1%2BNvwZvvinc/Auy%2BLnhibxvZ2AvbzwdFr9u2qwWpCkTvaB/OWMh0%2Bcrt%2BZeeRXzX8NfivpnxY/bf1b4p%2BLPhJ8RfCWk/CzSda8L%2BBdNuPg14hh/tr7VeWZ1HVmuhYfZ3gkltIEtYIpGZ41muXB3xiHmfB3w/8AiDF%2B1J4e%2BG8vwo8UQ69oP7TviTx7rXjOXw1dJpU3h280LU7e2kTUzH9mnkK3thp/2VZDMn2ZmMYjhV6APe/28P8AkiGh/wDZZvhx/wCprolch/wTui/4TbxD8c/2ir8ebd%2BMvjTqthaXX97TNHCaVaoP9kG2nce8pq9/wUL034rz%2BD/Bmo%2BHPGnh618LQ/GH4ejXtGvfDE9xqF458Z6N5bW94t7HHbBW2lg9tMWAIBTIIr/8EsZo4v2X9R8OvbJDeaL8UvGVhqUSFjtuE8QXzNncSdxDqx578ADArto6YGs11cF8ryf5pFr4H8j6PoooriICiiigAr5L/ZFs2%2BOv/BRL9of9qbWWFxbeCL7T/hT4I3jmzhtLaHUdWK/9db29iUt1ItFGeMD60r5U/wCCW7LYah%2B0l4Uu/lv9O/al8VS3cbcNsuks7yByPQwzx4P%2Bz7V2Yf3cNWkt7RXyctfySOqh7uHqyW9kvk5a/kkfVdFFFcZyhRRRQAUUUUAFFFFABRXAftP/ALQOj/svfBXVvjd4g8I6rrdjoxhN5ZaKkbTiN5VjaQB2UFUDbm54UEnABI%2BAf2mP%2BCs/xZ/a18UeEvgR/wAE34/E2kavrZuF1d9Q0yziu7g%2BUrpFDIZJREI1WdpHG05VdrYBz7mU8PZlnHv0o2pq/NNu0Y2V3zO91p5a/l4OccR5ZkvuVpN1Wly04q85Xdlyq1nr56dtr/oH8cv2mPgN%2BzZoS%2BIfjh8UNL8PQSgm3iu5i1xcY6%2BVAgaSXHfYpxXjn/BPn/go/D%2B3nrXiywtPg%2BPC9v4bWBreWXxRFeTXayM4y0AijeLAVTuG9CWK7sjm1pH/AATa%2BGPw88H%2BIfEXw81O81b4q6los8Ol/Er4hXjaxe2d40TCOdTINsZVzkOiBh33AbT4z%2BzNpP7Tf7FHhZ/hp4Y/4JoPqvjvU8QXfxCsfGcFzaa9NvJa6u7iQGW2jyWfy2wCeAFLV6GGwOSV8trQoPnr3iouUo00uspKMpL3baaylLrypHm4nH59QzShOvHkoWk5RhGVRvpGLlGL96%2BukYxtpzN6L7t8QeINB8J6Hd%2BJvFGtWmm6bYW7T31/f3Cww28SjLO7sQqqAMkk4FfNXi7/AILJf8E9fCsOprD8bptWu9Njm2WWk%2BHb6Q3kkYP7qGVoVhYsRhXMixnIO8L81eSfEf8AYq/4KFf8FCtX1m1/a0%2BKsPwo8MabLDDonhDwwq6nY6uuS73EojvEJZWSIqZgTknakeDu%2BW/26/8Agi3%2B0F%2BzV4GsPHP7Od/qfxVjmu2h1nStM8Lul7ZJhTHIkMM0r3Clt4baAUwpwQSVmOE4QynBTr5tipSlFJuNGMp6aaJqL5nrry2S11umelltHjri/PsPleQ4alT9tJxjUxVWFCN7PWTnJKmtNOfWTsuqPu34V/8ABa79gr4lFLfWfHOseELqa7SCC28VaHIocscBzLameGNAcZaR0AHJwASPqPwx4s8LeN9Eg8S%2BC/Eun6vpt0ge21DS7xLiCZSAQyyRkqwIIOQe9fi58LP%2BCRv7SMPwQ8P/ALQHxq%2BEviS7judUlHiD4eeGJI7XxBbaaVQQ3MSzxyq0u/zC1uybwoToWYx%2BL%2BKPB3inwbcav8Yv2evBXxJ0Dwv4e1xtLn8S6tKY57O5bBW3mltoo1hmXgMu48smdu9QfewnDHDXEeGhicpxE4Rkk7VIrRvRRkm4zjJ9mndbN7L5rO8%2B4t4IzevleeUKVWpRk4uVCpzxly/FKE4RlSqQX80ZJJp3XV/q3%2B3F/wAFRdQ/Z/8AiXafAr9nD4WxfEjxf5Uj65Z2M08x0lht2RPFbxs0jsGJIDqUCgEZbjP/AOCRfxB/a9/aF0rxZ%2B038d/imbrwt4k1a4j8PeFPsY8u2mR0Dy27tlordAphWIMwZhIzfMNz/D37JPif/glFaQNYftSaz8VtV1bWAZ9e1HU4mttIMql2C%2BXp1zJdSsd5G992TziPJp8f7bP7dvxb8WeIPhZ%2Bwfb%2BLNP8A2jCz8OeFvBvhlZJdI0pZGS3Z5Y45JbeVgd0k3mgl2bLkAY9SpwxSjgKmAwtJQklHnr1o8qavryNt2u9rctorVtyPnqfFdWWY08wxVZzi3LkoUZczTtpzpRjdJb35k5PRJRP2uplxcW9nbvd3c6RRRIWkkkYKqKBkkk8AD1r8Tf2ev2aP%2BChn7U/xsufhb4l%2BIvxH0CCbSZofE%2Bu%2BNhqgjitZFSO5tisxxM7eYVETMok2kkqOR9lWf8AwQC/ZUi0mO0vfjH8S5Lj7OqXEkOq2KQyMAMkRmzYqpPIUs2Bxk9a%2BUx/DuT5TVVPFY9OTSdoU3PTzfOkvLV%2Bi6/X5dxLnWcUnVwmXtRTavOooXa7Lkbduui7Jvp9L/FH9t/9kn4Mzabb/Eb4/wDhyxk1a/Wzs0hvftJEh7yCAP5MY4zLJtjXIywzXpmk6vpOv6Xb63oWp297ZXcKy2t5aTrJFNGwyro6khlI5BBwa%2BE9I/4N/f2ZtM8Q2moXXxX8X3%2Bmw3cct5pd4LYfao1YExGWONHjDDgsmGwTgg4I%2B2fht8N/BHwg8CaX8Mvhv4fi0rQ9FtFttNsIXZhDGO25yWYkkksxLMSSSSSa8jNKGQ0aMFgK06k9ebmioq3S2t7/AHrrdbHsZTX4hr1qjzCjCnDTl5ZuTv1vpa33PpZrU26KKK8U90KKKKACiiigD5N/ZgtV%2BAH/AAUy%2BOv7NenjytA%2BIGhaV8VvD1lH/q7a8uJJdN1jHvJcWtrOR/euGP8AFX1lXypOy6p/wW9tPsJ3f2J%2ByvcrqZX%2BE3viS3NuG9yLG5IH1r6rrsxms4Se7hFv1s1%2BSR1YvWUJPdxi39zX5JBRRRXGcoUUUUAeM/tQf8lv/Zx/7LNff%2BoV4or2avGf2oP%2BS3/s4/8AZZr7/wBQrxRXs1ABRRRQAUUUUAFFFFABRRRQAUUUUAeM/t4f8kQ0P/ss3w4/9TXRK4z9k6YfBv8AbP8Ajt%2BzJqP7qHX9YtviX4TD9bm11GJLbUNvtHf2rEj/AKelP8Vdn%2B3h/wAkQ0P/ALLN8OP/AFNdErl/2/fAnjTwkfCn7b3wb0GfUvFfwhuZ7jVdFs1/e6/4auFVdTsFH8coREuYQc4ltwACXrtwTU5SoSdudWX%2BJO8fx0/7eLhrp3Po6isT4bfEbwX8XvAGj/FH4c%2BIINV0LX9OivtK1C2bKTwSKGVvUHBwQeQQQQCCK2645RlGTi1ZojYKKKKQBXyLfX4/Y/8A%2BCqcur6032fwR%2B0/otpaQ30nEVn410iBo44GPCob3TQoTPLyaftGSwr66rzb9rP9mHwF%2B1/8DNX%2BCHj65urJLwxXWja7psnl3uh6lA4ltNQtZBzHPDKqupB5wVOVZgenDVYU5uM/hkrP/P5NJ/eup0YepCE3GfwyVn/n8mk/v7npNFfNP7E37XPjvX/FN9%2Bxf%2B2LBa6N8cvBtkJLpok8qy8baWp2R69pmcB45MDzoV%2Ba3l3IyqNtfS1Z1qM6FTll/wABro13T/rW6WdWlOjPll/wGujXk/66oKKKKyMwooooAK4j9pD41eGf2d/gb4l%2BMvizVYrO10TTWeOaeCSRDcORFboVjBYh5njTgcbsnABI811b/gqZ%2BwboHjLWfAOv/H%2BzstT0G/ms9RiuNKvBGJomKSBJRCUkwykZVjnHGQQT5P8AtAf8FR/2U/jQlt%2BzH8HPhHf/AB0vfG0YtG8P2cLWVo5LZCyTXMYaNl2%2Bb5iptiCCQyJtyPdwWQ5pUxMHUw0%2BTRy05Vy6NvmlaK93q3Y%2Bfx/EGU0sLNUsVT9pZxjrzPn1SXLG8n73RK5d/ZU/Yd8G/tN/Cjwf%2B05%2B2f4k8TfEjxJ4i0mHVoNJ8T6qw0rTlmG%2BMW9nDtjCmNlOGyp3Z2jpX0z4F/Zy/Z7%2BF2uHxP8ADP4EeDfDupmJozqOh%2BGLS0nKHqvmRRq2D3Gea%2BXf2A4f%2BCkHwLu7H4F/FH9luRvh4uqsuj6zqvxE026vPDemkMVt2MLFr1UO0LhEI5Awu0J9q1rn9fGwxs6ft1Km78qhNOCi3ouWLUVZWTTXS%2BujeXDuHwM8DCp9XcaqtzOcGpuSWsuaacnd3aaa0drLVIooor50%2BlCiiigD4x/bN/4JSeMv2jvjZefG/wCGf7VeveFLvWBbx6tpk6STQRpFGsQMBiljKAKm7y2yCzMdy5xXl/j3/ggNqF1ok1p8PP2vdYEl7tm1iz1/STJBqF0DkzMYpht%2BbkblkYf3jX6PUV9JhuLc/wAJShTpVbRgrL3YbLZP3bu3S7079T5jFcHcO4ytUq1aLcptt%2B9Navdr3rK/Wy17dD8sPCX/AAQG%2BPGgasyyfH/wQtnf20llqM8/hc38kFvIpDvBHcJtEw42urRunVZFPXVu/wDgh3%2B1J8E9Sl8S/so/tiLa3pRclzd6LNJt52GS2eUOM5wGAHPPc1%2BnVFdcuOuI5yvOcWnunCLT9U07nHHgDhmEbQpyTWzVSaa9GmrH5rfCD49/8FrfgX8VdJ%2BEXxX%2BCuoeOtPn1m2s5NTu9A%2B02620kgVphqVmQkYAO7fPu2gneFxiv0poorxs1zOnmc4zjh4UmlryJpSfdrZfI9zKMqq5VTnTliJ1Yt6c7TcV2T3fz7BRRRXknrhRRRQAUUUUAFQarqmmaHplzretahBaWdnA893d3MoSOGJFLM7seFUAEkngAVPXxX8fvG%2Bsf8FPvitqf7D3wH1i5j%2BD3hvUhb/tAfETTpikWqMhDN4U0%2BZf9ZJJwLyVDiGImLdvkK1vh6DrS1dorVvsv83sl1fztvQoutLV2itW%2By/z6JdX87dD/wAEyodS%2BO3if4qf8FGtdsZoLf4ya/b2vw9guoijx%2BENKSS206baw3Rm6ke7vCvdbiM9MV9Z1V0LQtF8L6JZ%2BGvDmlW9hp2nWkdrYWNpCI4reGNQiRoq8KqqAABwAAKtUsRV9vWc0rLZLslol9y%2B%2B4q9X21VySsui7JaJfcvzCiiisTEKKK8i/bT/aTuf2a/g62qeD9HXWfHPiW%2Bj0L4c%2BGlOX1XWrjKwIR2ij5mlYkBYonJI4rSjSnXqqnBav8Ar7urfRJsaTbsit%2B1B/yW/wDZx/7LNff%2BoV4or2avl6f4UeJPgfa/sl/C/wAZ/EHUvFet6X8VL0a34i1a8knmv72TwZ4qlnkDSEssfmu4ROiRhEGAor6hpVIxjNqLuk9%2B/n8wejCiiioEFFFFABRRRQAUUUUAFFeL/sc/F344fEq6%2BKXg74/XvhS71n4f/ExvD1tfeD9FubC1uLVtG0rUkLRXN1cuZFbUHjLhwriNWCJkiuS/Yn/an%2BLvxo%2BIXiPwR8e/E2iaPrtrc6xLpPw/Pwn1vw/qCaba6tJaQ38d9qN3JDq8DQ/ZWeW0hWNXuo8su9VIB1/7eH/JEND/AOyzfDj/ANTXRK9mr54/4KF/Fz4UeGvB/gz4UeI/id4e0/xT4g%2BMPw9l0Hw1e61BFqGpJH4z0ZpGt7dnEkwVVYsUUgBSTjBr6HoA%2BQr%2BS8/4Jc/FO814W0r/ALOXjfWWuNQEMZZfhtrNxJ8820fc0q5kbLY%2BW3mcnCo/P1xZXtnqVnDqOnXcVxb3ESyQTwSB0kRhlWVhwQQQQRwQaj1rRdH8SaPdeHvEOlW1/YX1s9ve2V5AssNxE6lXjdGBDKykggjBBxXyc3hf4x/8Ex7uS/8AhloGs%2BP/ANnxpWku/CdmHu9b%2BHykktJYqSXvtNXJLW%2BTLAPmTeoZa9H3cwWrtV/Cfz6T9dJd1L4r%2BP1/P/gn11RXO/Cn4t/DT45eAtP%2BKHwh8bad4h8P6rD5ljqmmXAkjkHcHurA8MjAMpBDAEEV0VcEoyhJxkrNEbBRRRUgeSftc/sbfC79sDwjp%2Bm%2BLrvUdB8TeG7w6h4G8feG7j7PrHhm/wAYFxazAcAgASRNmOVfldTgEeOeB/26fix%2ByR4lsfgT/wAFSLCx0gXNwtn4V%2BPmjWpi8LeJSTiNL7qNFvmH3opT5DsHMUmMLX19Wd4t8I%2BFPH3hm%2B8F%2BOvDOn6zo%2Bp2zW%2BpaVqtmlxbXUTDDRyRyAq6nuCCDXVSxCUPZVVzR6d1/hf5p6Pyep0066UPZ1VzR/Fej/NPR%2BT1LtrdWt9ax3tlcxzQzRh4ZonDK6kZDAjggjkEVwX7S/7TPwt/ZN%2BGT/Fn4u3N/HpS3sdov9m6e9xI80gYquF4UHY3zMVXOBnJAPgcn7BX7Qv7IVzJ4g/4JkfG2303w%2BJDLP8AAv4mzXF94ZbJyy6ddKWu9HJyxCIZYNzD90AK8x/a1/ao%2BH/7TXwwh/ZK/brm8Yfsn%2BJNR1a3d7rxZZRX3hnXXjJYQwaxEy2lxGH2SBZJLeQOiEpxiu7AYHC1sbT5581K65rX51Hr7qu/nFSRyZlh8d9Qqzy21SoovlWl79LxbX4No9oi/bf/AGqvixbo/wCzd/wT58XPbXSg22ufEfU7fQ4EQ8iXyWLySoRg4RskHIrm/B37Jf7XX7W3ivW/FH/BQbx1qHhbRrVkstB8A/DTxTLa6bfxoz%2BZdXO15GcPldoLq/XKoAFqf9m741/GP9nP9oXSv2YP2m/jpoXjLwp4w8L29z8JvHFjo9vp1vPLCVibTgIB5ZdkKuvzvkbMMTKEX7Ar0MbipZRPlwlKEVNJxqLmlJxvupT2enLL3E001pu/lsFg1nEObGVaknCTU6UuWEVJLaUYbrXmjebTTT11S4n4Z/s3/Ar4PeAbP4YfDz4WaNYaHYSebBZGzWXMpABmd5NzSSHauZGJY7RzwK62y0bSNOcy6fpVtAxGC0MCqSPTgVZor5ypWrVpOVSTberu27t%2BrPpqVChRgo04qKWiSSVktkrIKKKKyNQooooAKKKKACiiigAooooAKKKKACiiigAoorm/it8Y/hL8CfB1x8QvjT8S9C8J6Faj9/q3iHVYrO3U4zt3ysoLHHCjk9gacYyk7RV2NRlJ2SuzpK534rfFz4YfAvwFqPxS%2BMnj7SfDPh3SoTLqGs61fJb28K9gWcgFieAoyWJAAJIFfM83/BRL41ftPk6H/wAE0P2ZL/xbYzHYvxe%2BJUNxoPhGAf8APWASIL3VQCCMW8SoeD5uOa2Phh/wTT0nXvHunfHv9u/4sXvxx8f6bN9o0aPXLFLXw14bl7HTNHQmGN14H2iYyznaG3qa7PqsaOuIly/3VrL7to/9vP8A7dOr6tGlrXfL5LWX3bL/ALefyONvvGn7T3/BVBT4f%2BESeJPg5%2Bz1dcal48vLd7HxV48tj1i0uBwH0uxkXreSgTyKy%2BWiAs1fV3wc%2BDXwu/Z8%2BGej/Bz4L%2BCLDw54Z0G0FtpWkabFsihQEknuXdmJZnYlnZmZiWJJ6aisq2IdSKhFcsFsv1b6vzfokkZ1a7qRUIrliun6t9X5/ckgooornMAoorzL9pj9rT4SfsseH7O88d3l3qGua1Mbbwr4M0C2N3rGv3XaC0tl%2BZznG5zhEyCzKKunSqVpqEFdvoNJt2R0Pxw%2BOHww/Zy%2BGGq/GD4weKYdI0LSId9zcy5Z5GJwkMSD5pZXYhUjUFmYgAc14r%2Byz8IPid8afiyf28v2p/DE2j65NYSWXws8AXpDN4N0eXG%2BWYdBqV0ApmYcxoFhB4YU34O/syfFr46/EzS/2rP27ra0XVtImNz8PPhRY3QuNL8HEj5bmdx8t9qe04M%2BPLiJIiHRh9MV2znTwlN0qbvN6Sktkv5Yvr/el12Wl3Km1FWW54z%2B1B/yW/8AZx/7LNff%2BoV4or2avGf2oP8Akt/7OP8A2Wa%2B/wDUK8UV7NXnkBRRRQAUUUUAFFFFABRRRQB4v8Cf2PNY%2BBPjTxf41tP2sviV4jk8ceK4fEGvWPiG08OiB7tLW3syE%2ByaRA6Rvb2ltEwD5xCGUq7Ozanw/wD2WoPCfxoX48%2BNvjf418da9ZaHfaN4d/4So6ZHBoljeXFtcXUNvHp9la7zI9lZgyXBmkC26gONz7/VKKAPGf28P%2BSIaH/2Wb4cf%2BprolezV4z%2B3h/yRDQ/%2ByzfDj/1NdErU8M/tgfBrWvjTqP7PPiK9v8Awt4wtLuSPTdI8V2RsjrkKnAudPkY%2BXdxNzgIxcYO5FxWkKVSqm4K9tXbou/9fOxMpxja7tc9SooorMo%2Bcfih%2Bw54h8HePdQ/aB/YT8f2vw48bajN9o8Q%2BHrq1abwx4sk7m/s0IMMzdPtdvtlGWLCTNS/C/8A4KCeHLfxnafBD9r/AMB3Xwd%2BIN0/lWFl4gulk0bXnHG7TNTAENxnK/uXMcwLBTGSM19E1gfEz4V/Db4z%2BDbv4efFrwJpXiPQ79Nt3pWs2KXEEnodrggMOoYYIPIINd0cXCrFQxK5rbSXxL57SXlL5SRfMnpI36K%2BXV/ZA/aa/Zd/0z9hH49C88OQ8r8I/ixcz6hpkSD/AJZ2GogteWAAGFRzPHk8qAKvaF/wUp8D%2BB9Wt/BX7a3ws8QfA7XZ5RDDeeLFW48PXkh7W2s2%2BbZhjnExhcZ5UUPAyqK%2BHl7RdlpJesXr/wCA8yDkv8Op9KUVV0TXNE8TaTb6/wCG9YtdQsLuISWt7Y3CywzIejI6kqwPqDirVcLTTsyCrret6P4a0a78ReItVt7GwsLZ7i9vbuYRxQRIpZ5HZsBVCgkk8ACvlTxr/wAFCPCP7Qunax8O/wBmb9krxD8cNJljFnfX1xpcdt4fnmckeRLJeLh0GMsSm3GOcHNfTvxA0HwT4s8F6n4R%2BI1tZz6Hq1jLZ6pbX0oSKaCRSroxyMAqSMggjtXwN8b/AIZf8EfvgjfSWnwn%2BM%2Bs%2BCfG5DR2M3wj8VajqF%2BJ8HajRxyTIMHkoxjJ6ZGc19HkGGwGJlJVqdSdTTl5YycF3cuRqf3NKx81xBjMywihKhVp04a8zlKMZt9FDnTj96bvaw/9n/8A4IsarY/FPTvix8TNT8NeAtBtvEVpr4%2BEXwyS7bRBeQy%2BYuY7qV4ICykxyfZ4lDKx2sp%2Bavqn9uXxbrvh74QaX4a0HxTe6C3jDxtovhy717T5TFNp1td3aJNKkg/1TGMMgfjaZAQQcVn/APBOz4pfH34sfs4W2s/tGeEdR07W7DU5rC01DVdMeyuNas41Tyr%2BS3cAxNJuYEdCYyw4YCvY/F3g7wh8QPDd34N8e%2BFdN1vSL%2BPy77StXsY7m2uUyDtkikBVxkA4IPSsc2xuMnmPs8U4v2TcUo25Ur303vfR3bbbVpPR29TI/q3sY4yHPJ1bSk6jbqN2suZyXS1krKKWys7v5p%2BCHjP4meGP2Qviz4k%2BAzeIPGSaLrmtp8Ikv9Sm1e5vreKFBBHFPeSs9zGtyJUTzJTkIV3YAAs/Dn9rb4p2/wANPC%2BjWOs6L8UfHfifxDeaNY2V1oc/g3%2BzprK1knvhqySPfPatF5aqfLiJJuIdsRVt9ez%2BLP2fvAniHwtceFvD95rPhNJktEhu/BmsS6bLaLbArCsIiIREVSVKbdjLwysAMeV%2BLP2B7zR9L0K4/Z6%2BMk/hvX9MOv8A9p%2BIfE%2BltrU%2BqSaysX229cCeAJeh4Y3ik%2BaGMbk8hkIVeONXC1G%2Bfdu%2Bq8urXS%2Brtu79D6GNXDVG%2Bfq76ry6tdL66db9C7o3/BRf4LXPhTwn4g17QPENrP4g0Sz1PXbey0t7uLwrBc3D2scmozJhYIzcRTxB8H/USMQqqSPf6%2BOvFv7BnxHsNa8TfA74eaLprfDn4g23he013xTea8y6hpul6TsW5037MIcTfaVSYiUOAHv7gsoAXP0p8dtF%2BOmu/De7079nHx34e8OeKzPE9jqfinQZdSslQODIjwRTwudy5UMHG0nODjFZV6eG5o%2Bye/d7LpfTTt12v1Mq9PD3j7N793t69u3Xa52NFfKv23/gtt4c%2BabQP2XvFsafe%2Bz6j4h0OWQeytHeqD9WxUlr%2B0d/wVa0mQ23iT/gmZ4L1MJG7G78N/H%2BHEjBSQojutNiIyQAMtjnnAFL6nN/DOD/AO3l%2BthfVJPacX/28v1sfU1FfKv/AA2j/wAFC7E/8Tn/AII8eM2UdX0r4veFrgfgHvI2/Sl/4b3/AGwIRi7/AOCQfxiVu4h8WeF5B%2BY1Oj6jiOnL/wCBQ/8Akg%2Bp1/L/AMCj/wDJH1TRXyt/w3j%2B2ZcfLp3/AASA%2BLjN2Fz408LQj8zqRpP%2BGxf%2BCj19/wAgr/gj74ghB%2B62s/Gvw1APx8maYj8qPqNfry/%2BBw/%2BSD6nX62/8Cj/APJH1VRXyqfjv/wV58T/ALnw/wD8E9fhZ4ZJ4WfxT8eJboD3KWWkt%2BQY0f2T/wAFs/FH7i98afsx%2BDYn%2B/Lp2ieINdmjH%2ByZZrNCfqtH1OS%2BKcF/28n%2BSYfVGvinFf8Abyf5Jn1VRXyn/wAMY/8ABQvxn%2B5%2BK/8AwVp8Q2trJ/r7P4a/CjRdFIHok92t7KuPXd74oP8AwR9/Zu8W8/tDfFz40/Fsf8%2B/xD%2BL2qS2uf8Ar0s5La3wf7vl7fan7DCx%2BKrf/DGT/PlQexw0fiq/dFv8%2BVHqHxz/AG%2Bf2J/2aI5v%2BF7/ALVPgTwzcQff07UfElv9tJ7hbZWMzn2VDXlf/D1G3%2BKI%2By/sY/sX/GT4ttNxZa6nhQ%2BG9BlPqdQ1o2wK%2B8ccnsDkZ9d%2BCP7Dv7HH7NnlSfAb9l3wH4UuIh8t/o3he2hum92uAnmufdmJr1OjnwNP4YOX%2BJ2X3R1/8mHz4OHwwcvV2X3R1/E%2BTT4J/wCCvH7Q5z41%2BLfw3/Z80Gf5jp3gXTn8VeIQh4Mb318kNlC2P4o7aXHUH06H4V/8EqP2SPAvjG3%2BK3xM0XW/i545tuYvG/xj1uTxBewnOQYI5/8ARrTB6fZ4Y8dB0FfSNFKWNr25YWgu0Vb73u/nITxda3LC0V/dVvve7%2BbEVVVQqgAAYAHaloorkOUKK848XftZ/ADwpoPjHV4PiTpes3PgTT5rvxJo2hahDc3tsIgNyGMONrgsqncVCs67yuc1514w/an%2BIvjPWfDPwi8KWEnwy8Wax4uOj66fFOmQam2mZ027vrYRiC4EMv2kWkiJIHZQY5E27yldNPB4ip0svPTpf127J9O5Si2fRlUvEfiTw74P0K78UeLdestL0ywgaa%2B1HUbpIILeMdXeRyFRR3JIFch%2Bzf8AFrWPjH8Mh4g8V6Nb6br%2BmaxqGi%2BI9OtXLRQX9ldy2spjLc%2BW5iEseSSY5UOTnNefeJf%2BCf3gD4wfFe8%2BJ/7UfxB8QfE2zj1Vrrwv4H8QyxxeHtDj3ZjUWECrHdyKDt86580kY4B5ohRpRqyjXly27K7fktl827W77Akr6nMaj%2B2n8YP2p7ybwZ/wTo8Aw6lpfmNBqHxr8Y2ksPhyywdrmwi%2BWbV5lwwHl7YAwXdKQcV337N37FPw/wDgL4gvPiv4m8Ran49%2BJuswCPX/AIk%2BKysl/OnU29uqjy7G1BJ228IVQMbi5ANew2VlZ6bZxadp1pFb28EaxwQQRhEjRRgKqjgAAYAHSpaupi7QdOjHki9%2Brf8Ail%2BitHyYOWlloFFFMubm2sreS8vLhIoYkLyyyuFVFAySSeAAO9cZJ45%2B1B/yW/8AZx/7LNff%2BoV4or2avCvjx4q8MeN/ih%2BzR4r8GeIrHVtLvfjHfvZ6jpl2k8E6/wDCF%2BKRuSRCVYZBGQe1e602mnZgmmFFFFIAooooAKKKKACiiigAormfhZ8afg58c9Eu/E3wT%2BLPhnxjpthqUmnX2oeFtet9Qgt7yMK0lvJJA7qkqh0LRkhgHUkcik8HfG34M/ETxfrvw9%2BH/wAXPDGu6/4WnEPibQ9H1%2B3urzSJCWAS6hjdnt2JVgBIFOVPoaAOA/bw/wCSIaH/ANlm%2BHH/AKmuiV3Pxm%2BBHwg/aF8HyeA/jP8AD/TvEGmO2%2BOG9i%2Be3k7SwyKQ8Mg7SRsrDsa4b9vD/kiGh/8AZZvhx/6muiV7NVQnOnJSi7NdUJpSVmtD5sX4X/tqfsqfvfgZ40/4XF4Lh%2B74I8eamLfXrKP%2B5Z6qRsuQO0d2ucKB51dh8G/25vgR8W/E4%2BGep3%2BoeCvHKgef4D8eWJ0zVAT/AM8kkOy6U4yHgeRSOc17HXJfGL4DfBn9oLwwfB3xq%2BGmkeJdPBLRQ6pZq7QMf44pPvwv/toVYetdn1mjX/jx1/mjZP5r4X/5K/Mx9nOH8N6dnt8nuvxR1tFfOK/srftOfAX9/wDsiftNz32kxf6r4f8Axd83VrFV6CO31BCL22UDhQxnUf3ccU8ft6618Jj9h/bN/Zu8V/DlY%2BJPFWmQnXvDzDoHN5ZqZLcHrieGPA6ngml9SlU1oSU/JaS/8Bev3OQ/bKP8Rcv5fev1sfRdVdb0PRPEuk3GgeI9HtdQsLuIx3Vle26ywzIequjAqwPoRisf4Z/F74VfGfw%2Bviv4SfEfRPEumtj/AE3Q9Tiuo1J/hYxsdrf7JwR3FdFXJKM6crNNNfJ/oappq6Pm3Wv%2BCZPwh8L6vceL/wBkz4g%2BLfgfrU8hmkHw81MJpFzL2M%2Bk3CyWUij0WND/ALVfH/xo/aB/4Kgab%2B1Uv7NHgD9o0/Eq5trYtcP8LNM0y1ngRA29rmOaIxQT/LzE86oCygSAnafrr/goB%2B1Na%2BGPCniD9lH4T%2BGfFfiP4oeLfB840jTPCelSSvp8NwJLdbyaYFVhRWD/ADAllIBIAINel/skfs7eBv2afgd4f8BeFPA2n6Nfro9ofEUlpEvm3l8IVE0ssgyZWL7uSSAOFwABX1mCxtTLcF9bxkFUlO6pxmot2tf2l3eXKnotHzO%2BtkfN5i6mdY%2BODo1GoUmpVJJyV9bey93lu2tXefu6O13Y%2BH/Bui/8Eu/7Yif/AIKA23xP07x/eygXGrftERalpizN3WG5gk/s/wAkH7oEzYHQkCvuj9nb4b/sr%2BD/AAnHqn7LvhnwXDpM6bV1PwittKtyP9q4iLGU9OWYmu91XSNK17TptH1zTLe9tLhClxa3cKyRyqeoZWBDD2NeDeMf%2BCXX7EfiXW5PF/hj4PDwLr78rr/wz1a68OXSP/fzp8kSO3U/OrcnPWvNxOavMI8terUiu3NzQXpH3LLySdj18LlOU4OXPRoxjLvZOXzk7yb83JvzPoGivmn/AIY9/bC%2BHHHwE/4KP%2BK5rWP5k0j4r%2BFrDxHG5/um5jFrdAdsmRj65NL/AMJ//wAFWvhzz4p/Z4%2BEXxKtxx5vgrxteaDdEepg1CCaLPt5%2BPcVwfU4T/h1Yv1bi/8AyZW/E9HlT2Z9K0V81/8ADwfxv4R/0f41/wDBPn46eHJk/wCPi50Tw1beIrNB3Il0u5mcgevljiprD/grT/wT/ku00zxP8e18K3jna1n438O6jojo390/breJePYke9H9nY77NNv/AA2l/wCkuQck%2Bx9HUV574M/a3/ZU%2BIwQ/D/9pj4f64X%2B6uk%2BMbK4J9sRyk59q7%2B3ube8gW5tLhJY3GUkjcMrD1BHWuWdOpTdpxa9U1%2BaRLTW4%2BiiioEFFFFABRRRQAUUUUAFFVNY17Q/DtodQ8Qa1aWMC9Z7y5WJB%2BLECvMvG37eP7Evw5Djxv8AtcfDfTpE%2B9bz%2BNLLzvwjEpc/gK0p0a1V2pxb9E3%2BSY0m9j1iivmxv%2BCsv7F%2BsE2/wu8TeLPH90f9Xa%2BAPh1rOqmT/dkhtTEf%2B%2B6Q/tw/tGeNfl%2BCP/BNL4qX4/5%2BvHeoaX4Zg%2BuJ7mSfH/bHd/s10/2djV8UOX/E1H/0pr8iuSXY%2BlKK%2Bat//BWf4k/dt/gj8LLKfu76l4o1G3H0Asrct/30D7Uh/YG%2BLPxC/eftI/8ABQb4s%2BJlbiXSvCFza%2BFNPkXujJp0YuGXtzcE46k0fVKUP4laK9Lyf4JL8Q5Ut2fSgljaRolkUsoBZQeRnpn8q8W%2BFfiv4gfC749%2BL/g/8aPixeeIbG%2B0aDxT4U1rWbS0tRBbCQ2t7ZAwRRRiOB/sjgsC5F58zMa6j9nz9lT4B/ssaTqOj/Ar4fpoqaxcJPq9xJqFxd3N9KilVkmnuZJJZWAJGWY9a0PEn7PHwS8Z/FPTvjX4z%2BG2m6x4n0a0Ntouq6tEbk6ahJLG2SUslu7Z%2BaSNVdgAGYgACIzw8JTjq4taOyvfS3V21vfXYScVc%2BaLb4JeJvE/inwl8HLj4d6pf6dZ%2BI/EMkvjiz2Npeo%2BEtXW6nlU3KEgXLXH2J/L2ndJFvxtJYekeA/2OfF2tz6nP%2B0n4103XJT4f0jSNHvfDcFxY3SSac8kkWrNKZC0V6ZJAf3Z2J5Yxnewr6C6dKK1qZjXkrR0/Pe979L9loNzZzvwu%2BF/hb4QeEIvBnhI30lutxNc3F3qmoy3d1d3E0jSSzzTSszyO7szEk4GcAAAAdFRXnnxr/ax/Zw/Z1jUfGX4xaJol1Lj7PpUlz5t/cZ6CK0iDTyk%2BiIeorljGtiKlopyk%2B2r/AzlOMVeTseh1HdXVtY20l7e3EcMMSF5ZZXCqigZLEngADvXzu37UX7VfxwH2X9lb9lG70jTpeI/G/xjkfSLQDs8WnR7r24UjkbxAD6jrTrb9ge5%2BK1zHrf7bPx1174oyK4kXwrGP7I8NQMDlQNPtmzcbTxuuZJcjqBXR9UjS1rzUfJe9L7k7L5y%2BRj7Zy/hxv57L8dX8kWfFP8AwUB8H%2BI9eufh5%2ByJ4A1T4x%2BJraQxXTeGJVi0TTpP%2BnvVpP8AR4%2B/yxmWTjGzNZ8H7HHxY/aJuI9e/b0%2BK8etadvEkPwq8EvNZeHYSDkC6kJFxqZBAP70pFkH91g19BeGPCvhjwToNt4V8GeHLDSNMsoxHZ6dplmkEECf3UjQBVHsBV%2Bn9bjR0w0eX%2B89ZfftH/t1X/vB7Jz/AIjv5bL/AIPz%2B48M%2BP3hzw94Q%2BKX7M/hjwnoVnpmm2PxgvYbLT9Ptkhgt4x4J8UYREQBVUegAFe514z%2B1B/yW/8AZx/7LNff%2BoV4or2auJtt3ZvsFFFFIAooooAKKKKACiiigD5V/YW%2BKXhqH4s/HbTofhf8RdCtPEHxlt77w2%2Bt/B7xDpNrdWTeHdEsVmjkurCKMRi4sblCcgIIwzYR0ZuI/YU%2BH/xB0v4w/Cnwxq3wo8UaHqHwn%2BGfjHQfiVr2s%2BGrqys9T1O/1nS5oWtbqWNYtTW5ezu77zrd5VjDjzCkkxWvuGigD54/4KF6b8V5/B/gzUfDnjTw9a%2BFofjD8PRr2jXvhie41C8c%2BM9G8tre8W9jjtgrbSwe2mLAEApkEbXjlP25/hl4x1LxZ8P5fC/xO8L3d288PhHUANF1bToyeIba7XdBcKo/57qjHpv71P8At4f8kQ0P/ss3w4/9TXRK9mrSlU9m9k0%2BjX/DNfJmNej7aKSk4tbNO3%2Bafo00eJeDf2%2BfgVqevw%2BBfiwdW%2BGPieY7U0D4jWB00zN0/cXLE21wCeAY5WJ9BnFe1wzQ3EK3FvKrxuoZHRshgehBHUVm%2BMfBHgz4h6DN4V8feEtM1vTLgYn07V7GO5gk/wB5JAVP5V4tL%2BwTofgCZ9S/ZR%2BNPi74Vz7i66TpV7/aOiM56ltOvN8ag/8ATIxexFbWwlXZuD8/eX3r3l9zOa%2BYUN0qi8vdl9zvF/JxPfaCARgjIPUV4CPiH%2B318IP3fxC%2BCXhn4o6XF11j4e6p/ZmpBB1Z7C%2BYxu5HOI7j6DtV/wAN/wDBQv8AZkvtXi8LfETxLqPw61yU4Gi/ErR5tFlz6LJcAQSZ7bJGz26ih4Ou1eC5l/dd/wAFr%2BA1mOFTtUbg%2B01y/i/dfykWPiV/wT%2B/ZW%2BJPiBvHMPw5PhbxQclPFvgO/m0TUlc/wAZms2j80/9dA49uK50fA39vT4QjPwV/ay0rx3p0fEOgfGHw%2BDOE9BqenCOQt7yQSe%2Ba%2BgdK1bStd0%2BLVtE1O3vLWdN0FzazLJHIvqrKSCPpViqjjcTFcs3zJdJLm/PVfJo6PY0n70dPNaflo/uPzu%2BDH7Xfj3RP%2BCgvxS%2BI3xe/Zk8WXN5pXhnTvDmvJ8NrKXxDBpEsTtIXZljilMUmGYBY2YFCMMAWH6DaBrdl4l0Gy8R6ak62%2BoWkdzbrdWzwyhHUMoeNwGRsEZVgCDwQCK%2BQ/8Agpr4R0v9nl9L/bw%2BE3iW88LeN7XXtN0nXLqwnUw65p8koRobm1bi7ZEHyhRv2rnpGpT7CuEe8snjtrqSBpYiI50Qb4yRwwDgjI64II9RXq506GJw%2BHxdGPKpRULa6OmkmrPS3vXTT2dmrq78XJfa4fEYnCVXeUZOd9LONRtx87rlaafVXTs1bgfgp8TPiB458a/ELwv4y0vRkt/CXipNM0y%2B0eSXFxG9nBd7ZVk6SotxGrFTtJzgDGKi8B/tLeHPG7a3qc/gfxBomgaHJqAl8Xa1HapplwllM8VxKksc7siK0cnMqR8IxxgVU%2BCfwO%2BJ3wUttegk%2BLVp4qbXfEF3rFzdax4eS1unnmiVQryWzrEQGjjGRCCEG3HANeVeMf2Yfi5L4c8fa5pXws8JeH08QaPY2974K8C6kZYddmTUBcXt67S21qn2iS3aWFEZfmZm3y4YEcEaWDqVZLmSXu2d7dk9H3130XU9dyrRitO9/wAbHv3gn42/Cr4h%2BFrrxr4U8a2kumWNybe%2BurkNbfZpRtO2RZgjRkh0I3Abg6kZBBPURSxTxLNDIro6hkdTkMD0IPcV8i%2BN7GSDx5pXxl/aI8EXej%2BCPEvjS81DWNA1TTftZza6YbTTEvYYBIpaXMsuDuVWhtkJ3bQPcv2SfDXirwP%2BzX4W0Xxzpb6ffw6c88mlGPnTYpJZJYrMKOnkRPHCF7eVis8ThadKmpxe720fqrrdp79NUVTqynLla/r/AIJ6VUN/p9hqlo9hqdjDcwSDEkM8QdGHoQeDXgcX/BUb9ii0kW18ZfFDUPCdznD23jLwhqmlFD6Frm2RPyY12/hP9s79kPx2FHg79qL4fai79IbXxhZNIPYp5m4H2IrOWCxtNXlTkvk/zSf5lKvRk9JL70Q%2BM/2If2M/iIXfx1%2Byf8N9Wkf70994KsZJc%2BocxbgfcGuBuP8Agkb/AME7Xme50r9myy0aRzkv4a13UdKOfb7HcRY/CvoXSdb0XXrUXuh6va3sJ6TWlwsin8VJFWqcMbjqStGrJf8Ab0vyv%2Bhupytoz5t/4dc/AzTePA3xl%2BN3hhR91NC%2BNuuoq/QS3L/rR/w7lv7bjR/%2BCgX7SVmB0H/CxoLnH/gVZy5/GvpKiq/tHHdZ39VF/nFj559z5t/4YM%2BM1pxpH/BTX47IB0%2B2z6FcH820wZo/4Ym/abTiD/gqJ8WgP%2Bmmg%2BHmP5/2dX0lRR/aGK7r/wABh/8AIBzy/q3%2BR82/8MR/tKS8Xf8AwVC%2BLrDv5Oi%2BHoz%2BY06j/hgL4pXoxrf/AAUv/aBk9RY6roltn/vnSzivpKij%2B0MX0a/8Bh/8gHPL%2Brf5Hzaf%2BCb0F1/yG/27P2kr0H7w/wCFrPa5/wDASGLH4Yo/4dU/su6p/wAj54l%2BKvirP3v%2BEi%2BM/iGUN9Ql4gNfSVFH9o47pUa9LL8ooOefc%2Bd9H/4JN/8ABOXR7sX7fsleF9SnH/LbxAk2psfqbuSTP416b4J/Zc/Zm%2BGjI3w5/Z28C6AY/wDVtovhKztSv0MUS13dZfiPxz4J8HxGfxb4w0rS0AyX1HUI4Bj6uwqJ4vG19JVJS8ryf4X/AEJc5W1ZqABQFUAADgCivIvF37f37EHgYMPEv7Wnw9hkT79vB4rtZ5R/2zidn/SuYP8AwU5/Zb1j938Mh458czfww%2BC/hrrF9u%2BkgthGfweiOBxs1dU5W9Gl97svxMXXoJ2cl9//AA59CUV89/8ADZH7QHi3j4R/8E7fiZeD/n48Z6jpfh%2BL64muZJcf9s8%2B1IdX/wCConjr57Dwb8Gfh7bS8Eanq2o%2BIbyEeu2GO0hJH%2B%2BR7VX1GrH45Rj6yj%2BS5mL28H8Kb9E/1sfQtUvEHiTw74T0uTXPFWvWWmWUIzNeahdJDEg93cgD8TXg/wDwyL%2B01444%2BNX/AAUK8bSwHk2Hw80DT/DsYPceaEnuMf8AbUH0Iq5oH/BND9jbT9Uj8ReMfhZL441ZDltW%2BI2tXevzO394i%2BlkjB/3UAo9jg4fHVv/AIYv85cq/AOetLaNvV/5XF8S/wDBSr9j/S9Vk8M%2BCPiRP4%2B1pOF0T4a6Nc6/O7f3d1kjxqf951FZ5/aF/bi%2BKx8r4H/sYQ%2BFLKX/AFPiD4w%2BJo7QqPU6dYefOT7O8f4dvefDfhbwz4O0mPQfCHhyw0qxhGIrLTbNIIk%2BiIAB%2BAq/T9vhKf8ADpX85O/4R5V%2BLDkqy%2BKVvRfq7s%2Bdj%2ByJ%2B0b8V/337Tf7bHiSW0k%2BaTwv8LbFPDdiM/eja4Vpb2ZMcf65M%2BnXPoXwV/ZD/Zo/Z4ka8%2BD/AMGtF0i/lz9o1o25uNQnJ6mS7mLzyZ5%2B856n1r0evPL/AON%2Bv6J8UtO8EeJPhPqGn6PrWsSaVo/iGfUbZvtV2tvLcf8AHujF1iZIJdrk7iUOUUYNJ4nF14uCdo9laK%2B5Wv8AO5Elh6DUpbt2u7v8dbfgeh1leMPG/hfwF4av/F3ivVRbWGmxh72VInlZASAAEjDOzEsAFUEkkAA5rw34h/Fr4leFPiR4s8aj4gTw6X4O8S6RZ3fhKW2g%2ByzaReRW6SXYcR%2Bd5oln8wP5m1VhZNnUny7wx8NzqUdr8Dvhvt0jx2NJvo/GEZtjEr6lpl4t1pur3YUASGe4Cnz8HzkllXJ24F08EmuactNP83f5Na67nFWzNxk4U4Xeq16vVK3fVPRtOy%2B7698A/EXwj8TdEbX/AAdqTzwxztBcxT2slvPbTKAWhmhlVZIZAGUlHUMMjI5rzf4nftWeItG8cX/wl%2BB/7PHi7x54m05kS%2BkS1/szR7J3RZFE2o3QWMnY6tiFZTg4xnitT4EeHPHcfj/x18SPF3ge68MReJ7zT5I9EutSt7ktcW9oLeW7DQOyqJFSCMAkMVt1ZlUsVHp9YP2NGq7rmXr187b220aOpfWMRh1aXI7u7tra7WiltfR6p27bHgPxhuPHl148/Zhufifpml2evv8AF69OqWuiXck9rFL/AMIV4p%2BWOSREZhjHJUc5r36vGf2oP%2BS3/s4/9lmvv/UK8UV7NWDd3c64rlile4UUUUhhRRRQAUUUUAFFFFABRRRQB4z%2B3h/yRDQ/%2ByzfDj/1NdEqbxla/tseCPFeoeI/h/qfg3x34fuLp5rfwxrEMmj6hZxE8QQ3cfmxS4H8Usak929Yf28P%2BSIaH/2Wb4cf%2BproleyRyxSgmKRW2sVO05wR1H1q4T5Hsn6nNisMsTFLnlBrVOLs/wAmmvJpo8Rh/bp8D%2BEZV079o34a%2BLvhjdbgjXXiTSDPpjv6JqFp5sBHu7J9OleteDfHngf4iaOniHwB4x0vXLCT7l7pGoR3MR/4HGxFak0MVxE0E8SujqVdHXIYHqCD1FeS%2BMf2Gv2Z/FesP4q0v4f/APCLa62Suv8Age%2Bm0a8Vv7xe0ZA5/wB8NV3oS3Tj%2BK/Gz/FnFyZzh/hlCqv7y9nL7480H84xPXKo%2BI/C/hnxjpEugeLvDtjqthOMTWWpWiTwyD/aRwVP4ivHP%2BFIftd/Dj5vhF%2B1dF4is4/9TovxR8PJdkj0N9ZmCb8WV/x7%2Bk/CTVPi/qvhiR/jb4Q0TR9ZhvHiWPw9q8l5a3MIVSsytJFG8eWLDYwJG0HPOApQ5FzRkn96f3bm1DGTrz9lWoTg7dUpRf8A29FtfJpX7HmWqf8ABOv9m221CXXfhLZ%2BIPhnqczbnvvhr4juNJUn3t0Y2zD2aIjt0rj/AI0T/tXfsb/DPVfi5dftl%2BG/EfhvRbfe9j8T/CCpcOOiRJd6a0TSSu2FUGFiSec1g/Hf9u3UvBn7WN78MPgz4G%2BKPjXVPDc9kPE2i%2BE9LtdR0t7V4maRcLmW3nVnjG9mUblYMDgBuQ0bSvj7%2B1n%2B13oPib9rHwXY%2BHPD2gzRaj4H%2BFHiG7nijmYmUC7nkjheG5vI0iaTyGYBA6DABfP0GHwmJjFVsdJeysnZ8spSVrqMU25a/wAzsop3fRP5nFZpl3NOhgINVefkTjzKCezlJxtC0Xe8dZOS5VvdZmheJP2w/jv8YvBX7Wf7Vv7FniW78FeG9Oa88GeDvCEtncy299IFxqF1bXNzHNI4AzGuwFPlIAIO/wCj7T/go/8AssWdymmfEvxHrvgC/dgpsfiD4TvtIKn3lniEJ/BzXYeHP2lvCGveJJtLu9C1LTNLMGozab4l1BoFsr5LCXyrtlIkMkYRssGkRQ6AspIBx0Pgf4kfD34xaReSeGLp723t5RBe22oaXNbspZFdd0VxGjFWRlZWwVYHIJFcWNxscXJe0o8sYq0VFtKKu3bXmTberb1b1fRL0suoRw91h8Upzm25OcU3JpJN6crslblSTio/Ddat/gX4v/Cb4oW4u/hp8T/D3iGIruEmh61BdjHrmJ2roq8n8dfsKfsc/Ei4N94r/Zt8Ivdltxv7HR47O5J9fOtwkmffdXO/8O/vA2gfL8J/j58XvBUS/wCqtNE%2BIl1c2yH/AK43/wBoTH4Vw8mDltNr1jf8Yv8AQ9b2mYw%2BKnGX%2BGTX4Sj%2Bp71RXgw%2BAP7bHhnnwX%2B3gupxR/6q08a/Dexutw9Gms3tn/HBNH2//gpj4c%2Be58OfBTxXEnVbPUtV0eaQewkjuUB/4Fij6tF/DUi/m1%2Ba/UPrs4/HRmvRKX/pMv0Pd5Yo5o2hmjV0YYZWGQR6EVxHiz9mL9mvx6WPjn9nvwPrJf751XwnZ3BP4yRmvP8A/hor9szRefFX/BPu%2BuY1/wBZN4W%2BJOl3n4hLj7M5%2BmKP%2BG5tQ075PFn7Fvxz01l/1jQ%2BCI9QQfQ2VxMSPwq4YfFwd6b/APAZL9JITzDBNe/df4oSX5wYat/wTA/YB1a5N7/wy14ZsZj0l0SKXT2H0Nq8ePwqr/w7K/Zl07nwZqfxG8NkdDoPxa16Hb9A12wH4Crf/Dx/9mew%2BTxevjnw6/ePXvhhrcG36kWjKPxNSWv/AAUv/YRuphby/tLeH7SQ/wDLPU/OtGH1E0akV0c%2Bdpbzf3v/AOSMvreTX%2BOC%2BaX58pQH/BPq0teNF/bO/aCsgPugfFCW5x/4FRS/rR/ww/8AE6x/5Af/AAUQ%2BOEXoL6/0e6x/wB96cK6/Tf25/2LdXA%2Bw/tZ/Dgk9Fk8aWUbH8HlBrbsv2n/ANmrUgDp37Q3gafPTyfFtm2fylqHiMzXxJ/OC/WmbRqZdL4Zx%2BU1/wDJnm3/AAyP%2B0/b8ad/wUn%2BIqgdPtPhbw/N/OxFJ/wyz%2B2MvEX/AAUy8YAf7fw78ON/7Z165B8bfgxdDNr8XfDEg/6Z6/bH%2BT1YX4rfC5xlfiToB%2BmsQf8AxVR9bxi3iv8AwCP/AMgaKOFe0v8Ayb/7Y8b/AOGVv2wZOLj/AIKY%2BMyP%2Bmfw/wDDqfys6X/hj/8AaQuuNU/4KR/E5wev2TQdBg/lYHFexP8AFr4VxDMnxM8PqPVtZgH/ALPVS5%2BO/wAD7ME3nxl8KRAdTJ4itl/m9CxWNe0V/wCAR/8AkAawq3l/5N/9seT/APDCvji8%2BbW/%2BCg3x5nPdbXX9LtVP/frTgR%2BdH/DvHw1eceIP2sPj7qan70c/wAW72FG%2Bq23lCvRL79q79lvSwTqX7SfgC3A6%2Bf4xsUx%2BctYWqft9fsRaQCbv9rP4etjqLbxZazH/wAhu1Wq%2BaS%2BFP5QX6UzKVXLYfFUj85r/wCTOY/4dffsf33z%2BK/Dfi3xBIfvP4g%2BJeu3W76q15sP/fNanhz/AIJr/sDeF5RNp37I/gWdwc79U0GO%2BYn1JuA%2BTVd/%2BCmn7DBcx2H7QFhqLA426Ppd7en8BBC%2Bab/w8T%2BB2pceCPAvxR8TE/d/sL4Uay%2B76GS2QVblnTVm5perX6xMli8nT0nB%2Bln%2BSkep%2BEfgr8G/ABU%2BA/hL4Z0Qp9w6RoNvbbfp5aDFdNXgx/bU8dax%2B68EfsJ/Ge/kP3G1TRrDS4j9WurxWH4rR/wvD9u7Xf3Xh79hfS9I3/duPFXxUtF2e7R2UFxn6Bq5pYbEyd5tfOS/%2BSbNVmGEStBSfpCb/wDbUj3mivBv7N/4KYeJf3V34o%2BC3hOJ%2Br2OmaprE8Y9jJJbIT9VpP8Ahl79qTxR%2B6%2BJP/BQPxV5Dfft/BPhHS9Hx/uyPHcSj/vs1P1emviqxXpd/kv1H9cqy%2BChN%2BvLH85X/A96rhPiJ%2B1D%2Bzd8JBIPiZ8ePCOhyR53W2o%2BILeOYn0EZfex9gCa4D/h3P8AALXPn%2BLHiT4gePn/AOpz%2BIepXMf/AH5jljhx7bMe1d38O/2U/wBmb4SmOT4a/AHwfos0eNt1YeHrdJ8juZdm9j7kmjlwcd5Sl6JL82/yDnzKe0Ix9ZOT%2B6KS/E4M/wDBRP4MeI/k%2BCvgH4i/Edugk8GeBLx7fPbNzcrDBj/a8zHvR/wtv9vr4hfu/h/%2Byn4Y8FW7cx6l8R/GguJNvqbTTUkwfYzL6HFe90Ue2oR%2BCmv%2B3m3%2BHuoPq2LqfxKz9IpR/F8zOG%2BCPhb4%2B%2BHrPULr4%2B/FnRfEt7eyxvZ22geGTp1tpqgNvjQtNLJMGJB3OQRt6c1lfE74V/F/xj8bvDfjrwr4y8Oabovh/S7hI49S0ae8uhdzyIsssYWeKNT9nQxq7b9vmyHYciuw8c/FT4Y/DGz/ALQ%2BJHxF0PQINu4S6zq0NqpHsZGGa8vn/b9%2BBWsStZ/CLTfFvxFuUYq0XgTwndXkQPvcsqW4HuZMUoOvKbqRjv5advJfiYYnE5XhYKhXrJNNOznebs77Lmm//ATu9Y%2BAvw38Waxpfifx3ow1vV9Il8y01S8xHIcSCVFdYAiSojqrKrqwUqD15rs68PPxN/bk%2BIfyeAf2c/Dfgi1blNR%2BIfib7VOVPf7Hp4bDezTr74pD%2Byz8Z/H/AO8%2BPX7X/iu%2BhbltF8C20Xh6zweqM8W%2B5kXtzMM/pSlBtL2k1p8/wWn4mcMe5N/VMNOV%2BrSpp%2BrnaT/8AZ6H8Uvj78E/gnZ/bfiz8U9D0AFd0cOo6iiTS/8AXOLO%2BQ%2ByqTXnX/DX3jb4jfuP2aP2ZfFniiJ/9V4h8SRf2BpJU9JFku18%2BZfaOE59fTsPhd%2Byd%2Bzl8Gbz%2B1vh58IdHtNSLbn1m5gN1fu3ctdTl5ifq9eh1PNQjsm/XT8F/mX7HOMR/EqxpLtBc0v/AAOei%2BUDwT40SeN5fiD%2BzHJ8SLXS4Ndb4v3p1OLRJpJLRJf%2BEK8U5ETSqrsuMcsAa97rxn9qD/kt/wCzj/2Wa%2B/9QrxRXs1ZN3dz1IR5IKN27dXu/XbX5BRRRSKCiiigAooooAKKKKAPl34DftjfG34gfGLwtJ420zwsvgP4ma14u0zwVZ6XptzFqulyaLdyxQyXlw9y8V0t3b21zMVjhgNu3lx5nyZBd%2BFf7U/xd139tLxX8Dfix4m0Twzotv4nudN8AaBf/CfW7S58T20Wl292bi116e7Gn3ciu12Wt4IGkEdq5IARnHReDv2DPA3gL4kzfEbwv8XfG8AtrrWbrwpoTz6dLYeFp9WvVvNSlsUeyLs08ocf6S84hSaWOAQq%2BK3779lqDxF8ctF%2BNfj343%2BNfEUPhbWrnV/CPg7Ujpkek6LfTWdxZNPF9msorqYrbXd1GgubiZVE7EDcqMoBxn/BQv4ufCjw14P8GfCjxH8TvD2n%2BKfEHxh%2BHsug%2BGr3WoItQ1JI/GejNI1vbs4kmCqrFiikAKScYNdr4v8A2Q/hT4h8S3vjrwvf%2BIfB/iDUJ2mvta8H6/NZSXEh5LSR5aGUk9d8Zz3rL/bw/wCSIaH/ANlm%2BHH/AKmuiV03iL4rfE/wfrt3FrPwD1XUdGjnYWmq%2BGtQhu5Xjz8rPbMY5FOOoXf%2BNZVq9Ogk53t5Jv77J2%2B483MqWXVaUVjKfNFPR8snyu294%2B9HTqmu1znP%2BEL/AG0Ph9z4S%2BL3hjx3Zr0s/GWjtp92FH8IurLKM3u0P19aP%2BGofH3g7938av2WvGejKv39S8NpHrtkq92LWp85R/vQj3rotE/aj%2BB2r3q6Rf8AjaPRNQPDad4ltpNOmU%2BmLhUBP0JrvbS8tNQtkvLC6jnhkGY5YXDKw9QRwaVLEUK6vTmpejT/AOCvmkcFDCwqK%2BX42WnRyjVivVT99f8AgaOA8DftYfs3/Ea6/s7wr8Y9Ee93bTpt9dfY7sH0MFwEkz/wGvKv2xf2ovE2t6/H%2Bxn%2ByTq3274oeJNkOqanYqZIfB%2BnPjzr%2B5kXiOQIfkTO7LK3Uxq/JftK6l4k/bz%2BMOrfsk/A7w1pNpoXhW5W2%2BJXxQ1TRoLt7CQjJ07ThIp/0nqGkGDGQeVIBbv/AIaf8E0fgD8EtDTTvgh4o8ceD75okGoazofiyZZ9SkXOJLhJA8MhySceWFGTgCvoqNDD5VGNfFLmqNJxp9FfWMqnls1DeStzcsXZ%2BbUxXEWYQqUKEYSpp8sqkW6blq1ONNT5ldfC535U7qN5K66X4BfsPfBL9nDwymkfDddbtdSmtFj1jXU8QXQn1Wbq1xOnmGJ5C24glDtDELgEg9J4i%2BCmpeLvHmneJPE3xO1W90bSdYTVdP8ADklnarHDdorLGRMkaytGu9mCMSd235sDB5v/AIVh%2B2D4Q%2BfwZ%2B0vo3iOJOI7Lxx4QQNj0NxYyREn3MZ/Gj/haP7YHhT914v/AGYdI8QInMl74K8aRgkeogvo4T%2BG8mvKqYmvWqupOV5PdvzOynVwGGoRo1MHUpQVtFByjprvSlJPVXd46vV6nIa1%2Byr8Vrn4W3nhLWNR0zUl0Tw8%2Bl%2BHLHTZmSXVI3uRLdPO8oRIZp4F8jaCUUyOxfBAX0/4N%2BG/FkvjHxd8WfGWg3Ojz%2BJbq0h0/RbyeKSa0s7WEonmmF3j8x5ZJ3wjsArINxxXP/8ADZ/gzRf%2BSl/CX4j%2BElX/AFlxrHgq4mgU/wDXWzEyH65rZ8LftgfsueMpBBoXx68LmYnAtrzVo7WbPp5cxR8%2B2KUq85xaZOErcOUsTF08SlJfZlJRbaTS0moS0TaStb1au6vxG%2BPnxV%2BHPjK80sfsm%2BMfEXh%2BHy/sniHwtf6fctcZjVn/ANFkuI5U2sWXoc7cjrWH/wAN%2B/BHR/l%2BJPhjx/4Mb/qaPh5qUKD/ALaRwyR4992PevZtN1XS9ZtVv9H1K3u4H%2B7NbTLIh%2BhUkVYpKdK1nD7m/wDgnrSw%2BYuTnRxOj1SlCMl6JxlF27b%2BrPLvC37bf7IPjJhHoP7SngxpGOFgutfgt5SfTZMytn8K9C0LxT4Y8UQfavDXiOw1GLGfMsbxJlx9UJFUvFPww%2BGvjgMvjX4eaHrAYYYappMNxn6%2BYprz3Xf2BP2MPEE/2q6/Zt8K2suciXSdOFiwPqDbFCPwp/7O%2B6%2B5/wCRN88h0pT%2BdSD/ACmj16ivEh%2BwF8DdM58D%2BJfiF4YPb/hH/iXq8QH0D3DgfTGKP%2BGOvFOnfP4X/bR%2BMdmw%2B6t5r9nfIPqLm0dj/wB9UclF7T%2B9P9Gw%2BtZtH4sKn/hqx/8AboxZ7bUV3ZWd/Ebe%2BtIpoz1SWMMPyNeL/wDDP37Wdh8ujft66s6D7q6x8PtJuMfUxpET%2BdH/AArH9vLTObD9q3wVqeOg1P4YPFn6mG//AKUeyh0mvx/yD%2B0cUviwlT5ezf5VEek6l8HPhFrJJ1f4V%2BG7onr9p0O3fP8A30hrEvf2Uf2W9SJOo/s2eALgnr53g6xfP5xVyP8AZf8AwUZtPli8afBe%2BA6NN4d1aBj/AN83bj9KPP8A%2BCjkP/ML%2BCVx/wBv%2BsQ5/wDIT1ovax2qr/wJmMsbQl8eEqf%2BCov/ANuZuT/sQfsYXJ3TfskfDMk9SPAung/pDVdv2DP2JXOT%2ByT8Ofw8HWY/lHWX/bf/AAUXh/1nw4%2BDU3/XLxdqq/8AoVjR/wAJT/wUMXg/Bv4Tt7r441AfzsKvnxS/5ff%2BTv8AzM3iMue%2BDn/4INWP9g/9iaM5X9kn4cH/AHvBlkf5x1btv2Kf2N7M7rX9kz4aRkfxL4E08H8/Jrn/APhJ/wDgoc/C/B/4Sp7v431E/wArCj%2B1v%2BCjM33PAfwWg/66eKdWc/pZD%2BdDninvW/8AJ3/mCxGXrbBz/wDBCO0sf2Yf2atLIOm/s8%2BBrfHTyPCVmmPyird0z4Y/DbRCDo3w90O0I6G10mGPH/fKivLt3/BR2b/lj8Erb/trrE%2BP/HUo/sH/AIKJ3/y3PxM%2BD2ng/wAVn4R1Odh/38vVB/KoaqS%2BKov/AAJs1jjaMfgwlT/wXFf%2B3o9sSNIkEcaBVAwFUYApa8S/4VH%2B3NqHzX/7Y/hqwz1TS/hWjY%2BjTXrfyo/4Zw/aZ1P5PEv7e3ioxnqmjeD9Gs/yY28jD8zWfsodZr8f8jX%2B0MW/hwlT5umvzmz22ivEj%2BxbcXvPiT9rv41agW%2B8q%2BNkslP0FnBEQPxqnD%2Bwp%2ByRrGrzaH4nfXPE%2Bp28ayXVtr/xG1S8mRG6M8TXWAD6leaOSgt5/cv82S8Xmrslh4xv/NVj/wC2wZ674m%2BJvw38FKzeMviDoekhfvHU9Whgx9d7CvPNe/b7/Y08PXP2K4/aL8NXs%2BcCDRLw6i5PoFtRISfYVW%2BF37Lv7BF7DNe/C34LfDfVhZXBhnurXTLS/aGUAEqZGDlWwfXNes6D4V8L%2BFbb7H4X8N2Gmw4x5VhZpCv5IAKP9nXd/cv8xU55ziIKUJUUn1XPU/G8Ys8g/wCG6vBOs8/Df4H/ABX8Wo3%2BruNH%2BHt1BC3/AG1vRAg/E0f8Ly/bD8UfL4I/YrGlxSf6q98bePbO22j1aG0W5f8ADINe3Vm%2BIvGPhDwhb/a/FnirTdLixnzdRvo4Fx9XIFHtKS2h97b/AMhzwuO5eavi3Ff3Y04L75c7/E8i/wCEQ/4KB%2BMRs174zfDjwVEeceGPCtzqs49vMvJo0/HyvwNH/DGWqeKP3nxi/ar%2BKPicv/x8WVtr6aNZyj08nTo4Tj2LmtvW/wBt39lLRLv%2Bzx8bdI1K57W3h8yanIx9AtoshNUv%2BGtb/X/3fwz/AGZ/iZrzP/qLmfw%2Bul2z%2B/m30kRx7hTR7eovhsvRL/gs8qVXhpy5amIdZ9vaTq/%2BS07r8DQ8D/sUfsofDu8/tTw18BvDzX27d/aWqWf2%2B63evn3Rkkz77q9Phhht4lgt4lREUKiIuAoHQADpXkH/AAl37cHi3/kA/BzwN4Qi/wCenibxPNqU2PXyrOJEz7eb%2BNJ/woj9ozxb/wAlJ/a71S1gfmSw8DeHbXTAvsJ5hPLj3BFZynObvJt%2Bp2YfF0aEOTAYKdvKEaUfvm4v/wAlbPXNQ1LTtIs5NR1W/htbeJcyz3EoREHqWJAFeY%2BIf21P2bNE1FtC0v4jxeItTHC6V4QtJtWnZv7uLRZAp/3iKo2P7F/7M8eswv450e58YawVMiTeOPEFxqksgHVhFcSNHj6IBXd/D7WfhRDNc%2BCvhtDptn/Z7ES6fp1gLaNdrFGKAKquAw2kpkA8Eg1k6kFJJtXZo62dVZKLdKjfRXbqS9LL2cL29Tg/%2BF6ftF%2BOhs%2BE37K1/YQScR6t8RNYi0xEPqbaHzpyPYqh/lQfgt%2B018QPn%2BLH7TTaLayf6zR/hvo6WWPb7ZcmWY/VQn%2BHquv%2BJvDfhWyOpeKPEFjptsOtxf3aQoP%2BBOQK4S5/as%2BFF3O9j4D/ALY8X3SNhoPCejTXij6ygCED3L1lVxWGoO1SaT7X1%2B7V/gYV8LhKbtmGLlNv7PMoJ%2BkKVpP75HIfHDwtZ%2BCviP8Asy%2BFNP1C/u4bH4wXsaXOqXz3NxJ/xRXig7pJZCWdjnqTXvFeF/HvVr3Xfih%2BzRrGo6BdaXPcfGG%2BeTT71kMsB/4QrxR8rbGZc/QmvdK3jJSimup79JU40oqmrRsrb7W0312769wooopmgUUUUAFFFFABRRRQAUUUUAeM/t4f8kQ0P/ss3w4/9TXRK9SsvG/g7UdVm0Kx8U6fLfW8pins0u081HBwQUzn9K8t/bw/5Ihof/ZZvhx/6muiV6Z4n%2BH3gLxbGz%2BK/CWm3hA5mubVC6j1D4yPwNcWN/tFQTwfI5X1U%2BZJrycLtO/VpryJlzW0L2t%2BHtA8TWTaZ4j0Oz1C2b71vfWySofqrAivjf8AaD1LQtT%2BMVz%2BzN/wT/8AhwV%2BI8EaS%2BJ/E%2Bk65cado/hOJzgNciBwksxGcQhc%2BzYZKq%2BMfiL46/aM%2BIOofBr/AIJ8%2BNNV8O%2BF9GuDa%2BOfizc6xLLpNicYe20%2BORj58%2BD/AKxWVV4wQCsle2/s8/sueIf2S/Ap8EfBbUtA1S1ublrzUr3W7WaO%2B1K5flp5rhHfzHPqVwBwABWsqlPKqaq5xgfaYjeNKDhVcYvapUSdKoot3UYW5pNXlaOkvl8VFZ/Pko0/3SdpVUk27bxpSsnf%2Baado7R5parJ/Zz/AGOPi5%2Byx8N4/B/w2/aDt9Rurm8l1LXn8Q%2BGElTUtRmIM07SRyLMNxAHzM5AUDNd5/wmX7UXhv5df%2BDWgeIUHW48M%2BJDbvj/AK5XaKM%2B3mVrf8LG%2BIukf8jT8FdRZBwZ9C1CG8B9wjGN/wBKWP4/fDWFxBr9/e6LMTgxa3pc9tj/AIE6bf1rxMTxFlOIxM6%2BIxUqM5tt%2B05qau/KrBQXklOySstEj0aOW4bC0lTw1WdNLRLmbX3TUl%2BPfuZH/DTuhaTx4%2B%2BF/jfw4F4kuL7w1JcQKf8Arra%2BauPfitXw5%2B0j8BPFbiHRfi5oLTE4FvcagkEufTy5SrfpXSaL4y8I%2BJAD4e8U6dfZ6fY71JP/AEEmmeI/AngjxhGYvFvg7StUUjBXUdPjnGP%2BBqa9GjPEVqanQrQqR72Vv/AoSaN1TzSC9yrCa/vRa/GEv0NG1u7W9gW6srmOaJxlZInDKfoR1rK8U/Dr4feOIzD418CaNrCEYK6ppcVwCPTEimuRuv2SvgC87Xmk%2BBTo87HIn0DUriwZT6gQSKPzFR/8M867pX7zwf8AtEePbBl%2B5He6nDqEQ/4DcxOx/wC%2Bq19rjo/FST/wyX5SS/MmpPHShy1sPGa8pxa%2B6cUUdS/YY/ZQv7tr%2B0%2BDVhpVw3/Lfw9cz6aw%2BhtZI8VB/wAMfWOmf8iX%2B0R8VtDVf9VBB4ze7iT2CXiTDHtWr/whH7UOjfPpHx10HV8dItd8H%2BXn6vbTp%2Biij%2B2v2ttI%2Be98B%2BBdaUdtO166s3b8JYHA/wC%2BjR9ca%2BOlNfK//pMn%2BR5bwGTJ3lgJQfeMLfjRqR/Iyv8AhSX7Uek/L4b/AGzbqeNfuReIvAthdceheDyGP1zR/Zn7eekfu7bxZ8KdbRej3mj6jYSN9THNMo/Ba1f%2BFwfGvTvm8Qfst6xsH3n0fxFYXf5K0kbH8qX/AIaVt7b/AJDXwO%2BI9iB95n8KNOq/jbvIKP7Qwq%2BJtesZL/20Xssph8NetT/7frL/ANLhNGT/AMJ9%2B2xovy6p%2Bzp4M1nHV9F%2BIEkGfoLizH6kUf8AC/P2itP%2BbX/2J/EQQdX0nxZpV1%2BQM0bH8hWt/wANb/A2D5dX1zVdNfump%2BGL%2BDH1LQY/WrNj%2B1d%2BzdqB2w/Gnw%2Bh9Lm/WHH18zGKazDAN29rH/wJL82hqeGvanmbXlKVF/8ApUIswP8AhrLV7X5dY/ZN%2BLlsR94xeG7a5X8DBcuT%2BVL/AMNneCbf/kNfCD4p6cO5vPhtqOB%2BKRsD%2BFdvY/G74Mang6d8XfDFxnp5Ov27fyeta08Z%2BD7/AAbHxXps2enlX0bZ/I1vGvQn8M0/Rp/kzqhDHz/h4%2BMv%2B4dJ/wDpNRHmX/DdP7OsPGp6t4lsW7reeAdYTH4/ZSKP%2BG9P2UF/1/xTaH/r50C/i/8AQ4BXrsU8M674JlceqMDTq1NvYZ70xFN/9wn%2BlU8f/wCG%2Bv2Ph9/466Un/XWGdf5xilH7fP7HB/5uC0D8ZXH/ALLXr9IVU9QD9aA9jn//AD%2Bpf%2BC5/wDy08hP7fX7HA6ftA6CfZZJD/JaP%2BG%2BP2Qj/q/jdp0n/XK0uH/9BjNevgAdBRQHsc//AOf1L/wXP/5aeQf8N5/srN/qPiRdT/8AXt4Y1KX/ANAtzR/w3J8Bp/8AkEL4v1A9hZfD3V2z/wB9Wwr1%2Bori%2BsrQZuryKIeskgX%2BdDaW4OhnttcTTXpSf61Tm/hZ8WtG%2BLenXWqaJ4Y8R6bFazCMjxH4euNPaXIzujWdVLr7jjPFcR8crK98L/Erw18Q9I1KSGIa3aQax5fia6M8iyN5KwRWBJt2Vt4LsNr/ACkgE816TefEDwHp%2Bft/jbSIMdfO1KJcfm1cnq/xD/ZUg8Sx%2BNNb8a%2BAP7agQJDqk%2BoWRu0UZwqyE7wBk8A9z61jLEYeHxTS9Wl%2BpnjYxq4KNKrXhzpp8zahs73SUn6WvZ63aueaftCX3h4%2BONY13U7m2l1mTSdOf4a3UTq0ss8d1%2B/gs36mZ2IV1Q7mRyDlQcQTeE7zUvHl74G0/Rbq28WT%2BIdda71MWUih9Nu7RykpnxtMe8xoi7sq0YAAC5Hpj/tX/sy6Wq2dr8WNFYIMJDp5abA9hEp/Sk/4aw%2BEd18ugReJdXbsumeDtQkz9CYQD%2BdYvMcB/wA/Y/Jp/lc8arhcpq4iVSeLhq7tKzeu%2BqbfN0jK11HTUxvgNp/iO78fQa3ceFNT0iHTfAVjousx6hpslskuoQSt/qdygTIq7x5iZUhkwfTqvin8KPG3xF1a2m0T4%2BeJvCmnxW3l3Fh4dt7MNO%2B4nzPOmgkdTggYHHGcZzWd/wANF6hefLoX7PPxGu2P3TNoUdqp%2BpuJkI/Kk/4Wj%2B0JqH/IH/ZhkgVvuyaz4wtIce5WESn8KX1/DP4W36Rk/wD21Ho0f7Mjgvq0pTqJu75Y1Ffb%2BRRstFdKVnq3vZZX/DFvgHVPl8efFL4k%2BJ0P3odZ8fXqxH/gFs0Sj8AK0fD37Fv7KXhif7Xp/wABPDc8%2Bc/aNUsBeyZ9d9xvbPvnNSfaP2vdU%2BaLTfh5oyN0E1ze30i/gqwqT%2BNH/Ctf2jNV%2BbXP2kobJW%2B/DoHhC3jwPQPcPKfxwKPrc5fBRm/ko/8ApUv0IhgcpUuanl7k%2B8oRv99Wc2d/onh3w/4atBYeHNCs9PgHSGytUiQfgoAq3uXds3DcRkDPOK81/wCGabLUf%2BRv%2BMvxA1lW/wBZDN4me2if22WqxDFb/wAP/gb8K/hdqU2teB/CSWl7cweTcXslzLPNJHuDbWkldmIyAevarhUxc5rmpqK85Xf3JW/E9ihUxrko%2BxjCH%2BNNpeSjG34opfGvxB8QPCOlR%2BJvCF40kNuR52nw6IbkyEZZmlkD5iiCA5KoWzjBOQtQfFHw/r/iu40TxX4bv7W60u2t5pLy0ufEdzYW0ysEaOUmAES4K8B8LhjzVz4rS6bqeoaR4O1G%2B1eKHUp2juxpd4IQYmxGBKcFirMwXCkHJ64rM8dado9m1zpEHg3R73TNE06HUbmw1ayNwHVd0YEW9tsW1I2OdpyRjAzmvGx2Y4Wk6/NJtRcU0rtqVnPbtypuW%2Bias3oYYjD1atSqm/dfLbV6SWulk7LuuvY42%2B1i11/WY/HKeHLuLWfEB0TU/Csj2bvKm5fKmtvMA%2BVY13NIpIBEhbB3V0vgbwT4v0jxb4e0O50C6ht/CsupodZaWMwXllOx8iJQG3l/9SWyuAYTydwrSj8Q%2BKUv5r2x1oiJ9Xk0q303yI1igBiDQOoC7twyGbJIIJwABTvhXqC/2pY2%2BmahNNDqHh1LzUoJ7t5nt7wMituLklS25wRwMxHivNw2aYapj4UuWV5S391X952dle95RbeqlCNrpq9saOWxjVU5Tbd09ElfW%2Bu%2B8le%2B6VlsdR4m%2BHvgTxreWeoeMPB2marNp282L6jZJN5BfbuK7wcE7V59hWpDDaafaiGCKOCGJcKiKFVFHsOAKxfGGheIfEU9vZaB8QZ9FVFY3cdnawySzA42kNID5eOeQDnI6Y5yE%2BAvge7cTeLbrVvEMgOQ2uarLMo/7ZgrH/47Xt18VmKxM4YPCqXRzlUhGLdl0ip1HbbVR%2B6zPW9moVHKMEm93or%2Bul38zi/2mLi3u/jR%2Bzfc2s6Sxv8AGW%2BKSRsGVh/whXijoR1r2mvEv2jtM03RvjB%2BzbpekWENrbQfGS%2BWG3t4giIP%2BEK8UcBRwK9tr16ftPZr2luayva9r9bX1tfa%2Bvc2VwoooqwCiiigAooooAKKKKAOY8OfG34MeMfiDrPwk8I/F3wxqvivw4iv4h8M6br9tPqGlq2NrXFsjmSAHcuC6jOR60Wvxt%2BDN98U7n4F2Xxc8MTeN7OwF7eeDotft21WC1IUid7QP5yxkOnzldvzLzyK%2BOP2ePD3jPwX8avAeh%2BIPhB4107Uvhj4n%2BJN/wCP/Ex8D6i1rqVtrGsSSWgtblICupG9ee1vWS3MphFo3niJ4wtXfB3w/wDiDF%2B1J4e%2BG8vwo8UQ69oP7TviTx7rXjOXw1dJpU3h280LU7e2kTUzH9mnkK3thp/2VZDMn2ZmMYjhV6APe/28P%2BSIaH/2Wb4cf%2Bprolcd/wAFCvHus%2BF/A8X7PXwn06%2B1Tx38aor3w9oFjJqhjtrSN4f9LvXLE7Fiicn5RnnjpXT/ALbPwf8A2n/jD4V0XTPgD4q8BLbaT4w8N67qHhzxhpt7C%2BqtpevWOpmOPVLaWQWIZLQrk2F1uYgfIG3L87/sZfDH9rbUfE%2Bs/tV6t8CPAXjbxt/wlPiHw8niTxv8fdSMunrp2rXmmTRWcMXhgxW8LPaybSuGKP0jDtGOnB4fKniqeLxkeaVB89ONnrOzSd1KKUVo5J83MtFHW687Mlj6%2BHeGw2iqe7OV17sPtWVm3Jq6ja1m7t6JP6m%2BHvwKHwX%2BB3hj4P8Ag6w09rTQNCt7CSG2t2iWa52qkt2doOWdt7ksM5dmJJrrfGcumz6fbNPfWafZ90wsrokeftUrtXlTkHocHkDjmvPv%2BE4/4KF/9Gv/AAZ/8Pxq3/zL0j%2BNP%2BCg8gAk/Zb%2BC7AHI3fHfVjg/wDhLV8bm3DSzGtja6qtzxSjzc95JOMuZNWtK3NZ8rcoaWtyykn7OFrRwtKlSjG0aeitppZK33Lffrud/cajfGZpbK6mt1tHtYYLPcCHZwGZXzkk7WA68YzVnTtev9QvrY3Qhez1FpxBB5R3KiZw5YnBDAdMfxCvL5PEH7e8uorq0n7KPwWNygwsp%2BO%2BrZHBH/Qr9cE8%2B9Qabqv7fml3Ru4f2Y/g%2B5CssKSfHvVisKsclUH/AAi3AJA9egFebRyPiLD4%2BMo1703O7tJpcqas3FprWF6fs4Wgnyyd7K3RKvhpU2nHW3b9fXW713R6nrXwg%2BFviFjJq/w/0mVz1mWyRJP%2B%2BlAb9azf%2BFE%2BFrL/AJFnxF4j0Ydk03xBPs/74kZ1/DFeMTfHL9uzxl8Zdb%2BB1t%2BzR8M7HVfDHhjSddury1%2BP2qRwSwalcalbwop/4RglnVtKnLBlAAkjwWJYL1%2BmeLP%2BCiFhYx2c/wCzd8H7pkBzPP8AHjVd78k848LAe3TtXqzyXLsTmU41cugo2uqqcE5PS6agqdSL31cmnbzRwSo0HBSur9rNfjsdx/wr74oadxofxvu3Qfdj1fRre4/NkEbfrRt/aF0/gSeENTVe7Lc2jt%2BXmDNcd/wnH/BQv/o1/wCDP/h%2BNW/%2BZej/AITj/goX/wBGv/Bn/wAPxq3/AMy9dH%2Br2Gh/ArVqf%2BGtNr7p%2B0Rl7NdG/v8A%2BHOx/wCE4%2BL1l/yEvgkZgPvPpniGCTPuFlEZo/4XLJbcav8ACfxjakfeZdHE6j8YXeuO/wCE4/4KF/8ARr/wZ/8AD8at/wDMvXL6t%2B0d%2B3bo/wAZ9A%2BB1x%2Byh8JG1TxF4X1fXbO5T466p5EcGnXOm28yOT4Y3B2bVICoCkEJJkqQoY/svNqf8LHz/wC36dGf5Kmw5Z9Jfketf8NBfC6L5dT1a9sG7rqGjXUOPqWjx%2BtbXhT4ieBvHLSp4Q8U2eoNCoaZLaYMyA9CR1FeZ/8ACcf8FC/%2BjX/gz/4fjVv/AJl6Yni//goFFK08f7K/wWV3HzOvx11UE/U/8ItW%2BGo57Trr29enOHW1OUZfJqpKP3oaVRPVr7v%2BCeh%2BPfG2peHZILHw/p8d1cGaA3fmhtkMMkojBOP4mJIUe3PFQfEHXIbW4awt/ClhqckFhJe3ov8AAVIEyML8jZc4OAcDjkivJ/F2l/tseNZorzW/2Q/gg9zHNE/2v/heGqeayxuGCFj4WztOMEehOKg8Swf8FF/EBEkXwD%2BDdvJNYyWN/Ivxt1RjPbOc7V/4pgBGAJAbnG48GvOxtLiLmxLpu6k48nK1dJKV1aasm3yNtuSa5rWsk4nGck09V/Xc7%2B80v4T61q0cVx8D/D11YNcW9vc3t1ptuXSWZAyAIYyGUblDHcCCeAeTVLR/hT%2Bzh4t1SKzm/Z78N28F9FLLpd2uj2yi7SNgHIVFBT7wPPUGvJPi98Sf28vgvYWnjjW/2a/hFLot9438O6f/AGZZfGvVGm%2B23%2BoWek2zeY3htVEKzXMMsg2lsI5XPCHqfC9r/wAFDvD13pss/wCzv8F7iHR7Ca006Jfjdq6MqSMhJdv%2BEZO5gI1GQF7nvxy0sLnksVH21OLhza3jSta9nbS6hy6x%2B1z6PQ5ZYHC1H79KD9Yw/wDkT0SX9kL9mmVt/wDwp3SEPrDG0f8A6Cwpv/DIP7Ow/wBV8PPL/wCuOrXaf%2BgyiuL8XXf/AAUQ8WRQRw/Az4Y6SYGY79I/aB1SMyZxw27wo2QMcfU1h/8ACOf8FJo/9R4L8ED/AK6ftAXrfz8H16GKpTo13Gll0akf5lKjG/8A27JJq225Espyy%2BmGh/4DFfoj1D/hkX4BD7nhTUE/65%2BKNRX%2BVxR/wyN8Ce3h/WB9PGGqf/JNeX/2N/wU6X/V%2BEPh6P8Ae%2BOd23/uoVy/xt%2BIX/BSb4D/AAY8XfHHxT4E8B3Wl%2BDPDF/rupWth8abhria3tLaS4kSMP4TVS5WMhQzKMkZIHNc/NX/AOhU/wDwOh/8kif7Ky3/AKBo/dE94/4ZG%2BBHfw7q5%2Bvi/VD/AO3NH/DInwA6P4PvX/66eJdQb%2Bc9eX/2V/wVDP3vCfw5/D423Q/91Gj%2BxP8Agps3%2Bt8H/D8/7nx1u1/91CjmrvbKn/4HQ/8AkmH9lZb/ANA0fuieof8ADIH7OTf634aQy/8AXfULmT/0KU1Lb/skfs02pzH8GNDY/wDTW13/APoRNeVf8Iz/AMFIX5n8EeCm9k/aFvk/l4Qo/wCER/4KFv8A6/4a%2BDX/AO7ldWT/ANA8KChfXOmVR%2BdSh/8AIMayrLVthYf%2BAw/%2BRZ7NZ/s5fs/WGDbfBHwoCOjN4ft2P5lCa17H4YfDTS8f2Z8PNCt8dPI0iFMfkteBf8IN%2B3XJ/wAfvwQ8C3PqJ/2oPEH9PDIrl/gje/tN/Hv4MeEPjloP7Hfw0Gm%2BM/C%2Bn67p1vrP7SevtPFb3dtHcRpKq%2BHmQOFkAYKWGQcEjmtoyzlfw8BSj61Y/wDtlBm8MJh6fwUYL0UV%2BUD66RNK0eHai29rGOwCov8ASqF78QPAem5/tHxtpFvjr5%2BpRJj82r5/g%2BG37UcD%2BYP2GvgRI3rcfHTV5T/4/wCGDWnZaN%2B1/p2DYfsOfs%2Bwkd4/jHqAP5/8IrWynxPLanQh6zqy/KEDpXtErJJfeerXnx6%2BDVk2yT4kaVIewt7kSk/TZnNQH4%2BeALjjRota1Juy6f4eu5M/Q%2BWAfzrh7PxN%2B3zp67bD9k/4JQD0h%2BOeqr/LwtU//Ccf8FC/%2BjX/AIM/%2BH41b/5l6Pq/EtT4sRSj/hpSl%2BM6q/FBar3X3f8ABOx/4W5rV58mifBnxZOx6G6tYbVT%2BMsoI/Kj/hLPjbqHyaf8I7Cyz0k1TxGpx9Vhjf8AnXk3gH9o79u34ieK/G/hDR/2UPhJDceA/FEWharJc/HXVAk88mlafqYeLb4YJKeTqMKksFO9HGMAM3Uf8Jx/wUL/AOjX/gz/AOH41b/5l6P7KzOp/Fx9T/tyFKH/ALZN/iHJJ7y/I7H%2Bz/2gdS%2BS68S%2BFtKU97PTZ7px%2BMkiA/lWv4R8NeMNGu5bvxT8RLjWfMj2pA2nQ28cRzncAg3E9uWNeb/8Jx/wUL/6Nf8Agz/4fjVv/mXo/wCE4/4KF/8ARr/wZ/8AD8at/wDMvW%2BHyXD0K0a0qtWcltz1Ztf%2BArlg/nFjUEne7%2B873xv8MY/F92%2BpQ%2BJdRs52FvhILjbF%2B5kLoSFAbILNjDDBOai%2BIHhL%2B0dPe6N/P9smje0VLXaguYGJJgkDB8qF3EsMN94gjJrz698U/wDBRG7ubeeP9nL4QQLA5Z4ofjxqm2b2bPhUnH0x1rlh8dP22/GXxj1z4E3P7JPwlbUvDXhrSNfubl/jzqy27wajcanbQohXwzuLq2mTlwVC4kjwWJYL5uZ5IsXhcZDD0VCpUslJz0k7fEkublceaSV46vWzi2ntThQjUjKeq6rX/NfhY9r1XwpYXrad4w0LSplu2aF5Dauu4oY9obbIfLLhSFDkbgvANQXP9km6k1K1drJzZSyGQYjd7mGTDmTZgSN25yMdOteeafqX7funaUmjW/7M3wgWBE2qsXx91eMjknIKeFgQecdanj139vSK0Sx/4ZO%2BCjxRvvRZfjtqz4bOd2W8Lkk579a8SvwvmeOXO%2BSnKcYOau3H2sYpNx5OWUU25SlJNOTjDTRnZTr4ai/dV7N20Sdn3vfW2npc9BiEg1VGktimoy6pFPG4iOXt2Rd4LY%2B6o3jBPVRXTapZ3V/YPaWmpy2kjYxcQqpZRnnG4Ecjj8a8i/4Tj/goUOn7L3wZ/wDD8at/8y9H/Ccf8FC/%2BjX/AIM/%2BH41b/5l6%2Biyrh6nl2Hr0Z1HONXe14PaV23GSfO%2BZ3mnFu0esbvGriXUlGSVrfP8%2Bmm2vUh/aRtGsfjF%2BzbaPdzXBj%2BMl8DNOwLv/wAUV4o5JAAz%2BFe2V8r/ABP8S/tW6v8AtJ/s6Wvxr%2BC/w98P6OPi5qLR33hb4nX2sXJn/wCEL8TbUME%2Bi2ShCCxL%2BaSCANhySv1RXvUqUKNKNOCsopJbvRKy1bbfq233bepztuTuwooorQQUUUUAFFFFABRRRQAVR8UeIbDwl4a1HxXqoc2umWM13ciJct5caF2wO5wpq9Ud3aWt/ay2N7bpNDNG0c0UqhldSMFSDwQRxigD5v8A2Nf2pfj58VPGGjeFfj/pvhJH8b/CfTviB4XXwnp9zb/2Xb3EoSfTLpp7iYXUkImtNt3GIFlLy/uItg3eV2H/AAUe%2BMvw6%2BGB%2BNPiX4f%2BDLrw347%2BF/ivx18M9A0LTrixubKWxvbQW9pqVw88qXL3i6nDPJPFDB5LpMpSbcr17z8AP2F/CH7Omq2%2Br%2BE/jL461OXTtF07QNDGv3OnXA0rw/ZPK8GjQlbJCbfMvzzSF7yQRRb7lvLXGNpP/BM74DW1p4g8PeJPFXi3X/D2reEtc8MaH4Y1bUbZbTwtpOr3CXF/a6c1vbxToHkhtyjzyzyQrbRJE8artIB037Mnxc%2BMfiPx94/%2BBfx/u/DOoeJvAt1pky654Q0e406x1Cxv7TzYm%2BzXFzcvDKksVzEw85wyxxyDZvMaexV538AP2c9K%2BAx8Q6xcfEjxN408ReK9Rhu/EHizxhJZm%2Bu/Ito7aCLbZW1tbxxRxRgKscS5Z5Hbc8js3olABXy78Bv2xvjb8QPjF4Wk8baZ4WXwH8TNa8XaZ4Ks9L025i1XS5NFu5YoZLy4e5eK6W7t7a5mKxwwG3by48z5Mg%2Boq8M8HfsGeBvAXxJm%2BI3hf4u%2BN4BbXWs3XhTQnn06Ww8LT6terealLYo9kXZp5Q4/0l5xCk0scAhV8UAU9c%2BKnxx%2BHn7anhH4Z61qPgHXdK%2BIjami6Rofhe6ttd0HR7C1mni1G7vXvJY7q3F08VqUFvAFm1SPYzYfdkf8E4f2p/i7%2B0f4F879ovxPoll47/4RnSNV1n4eW/wn1vwpfeHGuo5TIsi6vdzPqMBlR4o7qBI4i1tLy5OE63wN%2Bxp/wgP7Sniz9pfTv2lPiFd3vjSdTrPh7UotDmsVt4rd4bWyhl/swXsFrbmR5o4UuQvnPJI%2B8yy%2BZsfBv9l%2B2%2BFvxF1T4v8Ai340%2BMviD4p1LRLfRk1vxkdNjez0%2BGWSYW8MWm2VpAoaWVnd2jaRiEBfaiqAD1GiiigD5d/aa/bG%2BNvwr%2BKfjF/h5pnhZvBvwm0Xw3qfju21nTbmbUdYj1S%2BuIpo7GaO5jjtGtrW388NJFcCeSURYhCmQzftkftK/Ez4FftC%2BDrO21fw94S8DSeEdSvPEvxF8R/CLWfEVtpsi3tgi2kt7YXdvBpEMkbSyvPdt5X%2BjKTwldt8Z/2Ifhx8bvikfiZrnjnxVpcWo2ukWvi/w1o11app3imDS72S9sYr5ZbeSYLHNNLn7PLAZY5DFMZYwqCf46fsk3X7QngmX4Y%2BPP2lviHF4Y1TR7jSfF2g6YuiwxeJLKcuJobmX%2BzTPCGidoC1pJbt5Z67/noA881L9sb422v7QF3LBpnhb/hWOn/Gaz%2BGlzYPptydblvLjTYJxqa3X2nyFiW8uYrb7KbcsY1efzwcQ19RV4vcfsO/DWf49/8AC8B428Ux2j%2BKYfFE/gOO5tBoc2vRacunRamyfZvtPmrbJGBELgW/mRJMYTKPMr2igAr56/a8/aJ/aA8B/ECD4Xfs4WvhFdT0/wCGuu%2BN9ZuPGWm3N1DdQWElrFDpsIt7iAwSXD3EmbpjKsAhH7iYyYX6FryP9pf9jzwf%2B0zqFlrWo/Enxf4R1C38P6n4fvtR8G3lrDNqWi6h5BvNPmNzbThY5GtoWEsQjuIihMU0e99wBzX7Tnx38ZQfsV/8NdfC/wAWeE9D0bTfBY8ZXln418B3GvNdQpape20EEVvqVkY7nzAgQ5kJk2BVDYNcNe/tY/tW/D746%2BA/hp%2B0Nrng/wAEaRd/D7wheeLdd/4VDr2o6XqPiXUL29ttR0q31aK/Wz0gK0FokH2wzMXvY/8AW8IfcfHn7MPgv4j/AA0svg/4n8Say3hzTvFGk6vaaVai0hjWHTby3u7XTCEtxushJaxBkbMjoCjSFWIqp8dP2WoP2gtctk8bfG/xrb%2BElmsZtT%2BHumHTI9K1WS1uVuYzPK1k18A0iR70iuo0dYwpXDOHAPVKKKKAPF/%2BCgvxd%2BOH7P37I/jT49fAK98KR6x4J0K71y6g8YaLc31td2lrbSzPboltdWzJK7IiiQuVQFiUfgVd/bB%2BJ/i7wJ4O8NeBfh7pmg3GvfEfxla%2BFNNl8VabJe6ZarPDPcXM1zbRywtcotpa3OIRLH5jlFLqCSNT9rH9nGy/a0%2BBGvfs%2B618VfFPhHSfE9lLY65f%2BEF077Xc2UsTxTW26/tLqNEdX5ZEWQFRtdec53jf9laT4lfDqz8EePP2gvHWo6npOp6dqmgeMTFo8Gp6TqVmSVvIRBpyWzPIGdZElgkhZJHTywrFSAeCSft3ftW%2BMtD/AOEM%2BGejeALbxt4T0Lx1qXji51nSL2bTdSfw5rA0qO2so47tJLQXzbpxNJJcfZFAQx3JO4fW3wv8e6Z8VPhp4d%2BJ%2BiW0sNl4k0K01S0hnxvSK4hSVFbHcBwD714h4h/4JpfCfWPAuk%2BD9G%2BLnxA0G8s9N8Q6drvifRdSsV1LxJaa7dre6xFevLZvGDc3SibzLaOCWBsi3eBSVP0FoeiaR4Z0Sz8N%2BH9PitLDT7WO2srSBdqQwxqFRFHYBQAB6CgC1XNfGKT4mw/DLWJ/g5rWg6d4litd%2BmXvibSpr6xiKsC5lggnt5JR5YfCrLH8xXLYzXS1hfEzwdqnxB8B6n4L0b4g6z4VuNRt/JTxB4fhs5LyzBILNEt7b3FuSQCp8yFxhjgA4IAOC%2BAnxR%2BMH7Q37Efw/wDjX4fufDWj%2BNfHHw40TXGlvNKuLjS7O8vLKC4lP2ZbhJpIlMj7Y/PViAoMnVq8Avf2zP2otB%2BDmnr4D0jwrdQaP8c7vwJqHjzwd8Gtd1/R5NCs9Eurl9RtNE029a6jWLUYU0lyLmWJJYJWztKhfYvCX7DU/gz9ktP2PNJ/a3%2BK66Da%2BCE8K6Vr8M%2BiW2sabYxokUTwXFtpcarMkCCFZShO0lzmXEo0fB/7I3ib4e/BDSfgb4B/a8%2BI2iWuhXCLpOr6XonhWG4tbBLdYI9NSFdE%2BxrbJtDqRb%2BcGOPN2YQAHoXwd8b6b8SvhP4a%2BIGkeONI8TW%2Bs6Ha3aeIfD9o1vY6kXiVjcQRPLK0MbklljaSRkBCs7EEnpK5f4K/CHwb8A/hToPwc%2BH8VyukeHtPS0s2vrlpp5QMlpZZG5eR2LOzd2YnA6V1FABXi/7HPxd%2BOHxKuvil4O%2BP174Uu9Z%2BH/xMbw9bX3g/Rbmwtbi1bRtK1JC0VzdXLmRW1B4y4cK4jVgiZIr2ivF/gT%2Bx5rHwJ8aeL/Gtp%2B1l8SvEcnjjxXD4g16x8Q2nh0QPdpa29mQn2TSIHSN7e0tomAfOIQylXZ2YA8M8Eft//FXwb8N/jF8RPi9B4atvF3hrS/EGsaJ8MG%2BFGteGb6/jsr99PsrxtSv7qSLVreSNdPWS5tYdkX2mLkDYh95/Zk%2BLnxj8R%2BPvH/wL%2BP8Ad%2BGdQ8TeBbrTJl1zwho9xp1jqFjf2nmxN9muLm5eGVJYrmJh5zhljjkGzeY0zNc/YI8DfETVfEGq/Hr4weOfiGdc8E6v4StIPEk%2BnWyaLpOpyQPew2n9m2VqfMc2lpieYyzJ9mTa6kuW7H4Afs56V8Bj4h1i4%2BJHibxp4i8V6jDd%2BIPFnjCSzN9d%2BRbR20EW2ytra3jijijAVY4lyzyO255HZgD0SiiigDxf4K/F344a1%2B1x8WfgL8VL3wpdaP4Y0Lw9rnhCfw/otza3MVpqVzrMP2e8ea6mW4lRdMibzI0gXMrjYcA1z/iT4iftLeFf2/PBfwg0zxV8OdV8OeLtI1jWPENnB8Pry31nS9B05Eit9%2Bo/2q8Ush1DUbdVVrRVZGuiqqVJroNF/Y81jQP2i/GH7SWnftZfEoah4z0qy0y90J7Tw6dPs7SznuprSKAf2R548o3t0oaSaRmWY7y5VCvaaX8C/Cul/HDxL%2B0CmranNr/iTwxpugN580Zh06yspbuZFtlEYKM8t7K8jMX3lIhwI1AAPHf%2BCcP7U/xd/aP8C%2Bd%2B0X4n0Sy8d/8ACM6Rqus/Dy3%2BE%2Bt%2BFL7w411HKZFkXV7uZ9RgMqPFHdQJHEWtpeXJwn0tXl3wb/Zftvhb8RdU%2BL/i340%2BMviD4p1LRLfRk1vxkdNjez0%2BGWSYW8MWm2VpAoaWVnd2jaRiEBfaiqPUaACvB/2tfjN%2B0F8BvEnhfxd4M8QeCL3w9rXi7QvDtt4FvvDl5JrmuXN7fLDctaXsd6sUJgtWkutjWkw8u0mZ3jQF4/eK8Z%2BJP7HK/ET9p3RP2prf9o74gaFqvh/QxpWmaBpkOiXGlwQPN5ty0aX2mXE0MtyBHHNLFKjtHDGisgHIBwv7bH7UPxm%2BFvjLxBZ/Brw54Ouk%2BE/wpuviV4mHizSp7mbUYVa6hi0%2BwkiuIRYzyw2uoKbtxOqbo18l1dyKsf7bPxi1D41nXtK07wufhXF8XrD4dPYy6Xc/25Lc3emW9wuqLc/afJSJby6itjam3LGNXm88HENdx8dP2EfBX7QbRTeNvjB44tprvwvd%2BGPF8%2BkXGnQN4r0K5mEsmmXw%2BxFVi%2B%2BiyWwt50SaULKPMcm1P%2Bw58NJvj1/wu9fGviiK0bxTD4on8BRXNoNDm16HTl06LU2T7N9pEq2yRgRC4Fv5kSTGEyjzKAPaKKKKACiiigAooooAKKKKACiiigAooooAKKKKACiiigAooooAKKKKACiiigAooooAKKKKACiiigAooooAKKKKACiiigAooooAKKKKACiiigAooooAKKKKACiiigAooooAKKKKACiiigAooooAKKKKACiiigD/2Q%3D%3D\">"
      ]
     },
     "metadata": {},
     "output_type": "display_data"
    }
   ],
   "source": [
    "try:\n",
    "    HTML(anim.to_html5_video())\n",
    "# In case the build-in renderers are unaviable, fall back to\n",
    "# a custom one, that doesn't require external libraries\n",
    "except RuntimeError:\n",
    "    anim.save(None, writer=matplotlib_utils.SimpleMovieWriter(0.001))"
   ]
  },
  {
   "cell_type": "markdown",
   "metadata": {},
   "source": [
    "# Logistic regression\n",
    "Your assignment is to implement the logistic regression\n",
    "\n",
    "Plan:\n",
    "* Use a shared variable for weights\n",
    "* Use a matrix placeholder for `X`\n",
    " \n",
    "We shall train on a two-class MNIST dataset\n",
    "* please note that target `y` are `{0,1}` and not `{-1,1}` as in some formulae"
   ]
  },
  {
   "cell_type": "code",
   "execution_count": 11,
   "metadata": {},
   "outputs": [
    {
     "name": "stdout",
     "output_type": "stream",
     "text": [
      "y [shape - (360,)]: [0 1 0 1 0 1 0 0 1 1]\n",
      "X [shape - (360, 64)]:\n"
     ]
    }
   ],
   "source": [
    "from sklearn.datasets import load_digits\n",
    "mnist = load_digits(2)\n",
    "\n",
    "X, y = mnist.data, mnist.target\n",
    "\n",
    "print(\"y [shape - %s]:\" % (str(y.shape)), y[:10])\n",
    "print(\"X [shape - %s]:\" % (str(X.shape)))"
   ]
  },
  {
   "cell_type": "code",
   "execution_count": 14,
   "metadata": {},
   "outputs": [
    {
     "name": "stdout",
     "output_type": "stream",
     "text": [
      "X:\n",
      " [[  0.   0.   5.  13.   9.   1.   0.   0.   0.   0.]\n",
      " [  0.   0.   0.  12.  13.   5.   0.   0.   0.   0.]\n",
      " [  0.   0.   1.   9.  15.  11.   0.   0.   0.   0.]]\n",
      "y:\n",
      " [0 1 0 1 0 1 0 0 1 1]\n"
     ]
    },
    {
     "data": {
      "image/png": "[encoded data removed]",
      "text/plain": [
       "<matplotlib.figure.Figure at 0x7f3c2c8667f0>"
      ]
     },
     "metadata": {},
     "output_type": "display_data"
    }
   ],
   "source": [
    "print('X:\\n',X[:3,:10])\n",
    "print('y:\\n',y[:10])\n",
    "plt.imshow(X[0].reshape([8,8]));"
   ]
  },
  {
   "cell_type": "markdown",
   "metadata": {},
   "source": [
    "It's your turn now!\n",
    "Just a small reminder of the relevant math:\n",
    "\n",
    "$$\n",
    "P(y=1|X) = \\sigma(X \\cdot W + b)\n",
    "$$\n",
    "$$\n",
    "\\text{loss} = -\\log\\left(P\\left(y_\\text{predicted} = 1\\right)\\right)\\cdot y_\\text{true} - \\log\\left(1 - P\\left(y_\\text{predicted} = 1\\right)\\right)\\cdot\\left(1 - y_\\text{true}\\right)\n",
    "$$\n",
    "\n",
    "$\\sigma(x)$ is available via `tf.nn.sigmoid` and matrix multiplication via `tf.matmul`"
   ]
  },
  {
   "cell_type": "code",
   "execution_count": 15,
   "metadata": {
    "collapsed": true
   },
   "outputs": [],
   "source": [
    "from sklearn.model_selection import train_test_split\n",
    "X_train, X_test, y_train, y_test = train_test_split(\n",
    "    X, y, random_state=42)"
   ]
  },
  {
   "cell_type": "markdown",
   "metadata": {},
   "source": [
    "__Your code goes here.__ For the training and testing scaffolding to work, please stick to the names in comments."
   ]
  },
  {
   "cell_type": "code",
   "execution_count": 29,
   "metadata": {
    "collapsed": true
   },
   "outputs": [],
   "source": [
    "# Model parameters - weights and bias\n",
    "# weights = tf.Variable(...) shape should be (X.shape[1], 1)\n",
    "# b = tf.Variable(...)\n",
    "weights = tf.Variable(np.zeros((X.shape[1], 1), dtype='float32'))\n",
    "b = tf.Variable(1.)"
   ]
  },
  {
   "cell_type": "code",
   "execution_count": 30,
   "metadata": {
    "collapsed": true
   },
   "outputs": [],
   "source": [
    "# Placeholders for the input data\n",
    "# input_X = tf.placeholder(...)\n",
    "# input_y = tf.placeholder(...)\n",
    "input_X = tf.placeholder('float32', [None, 64])\n",
    "input_y = tf.placeholder('float32', [None])"
   ]
  },
  {
   "cell_type": "code",
   "execution_count": 31,
   "metadata": {},
   "outputs": [],
   "source": [
    "# The model code\n",
    "\n",
    "# Compute a vector of predictions, resulting shape should be [input_X.shape[0],]\n",
    "# This is 1D, if you have extra dimensions, you can  get rid of them with tf.squeeze .\n",
    "# Don't forget the sigmoid.\n",
    "# predicted_y = <predicted probabilities for input_X>\n",
    "predicted_y = tf.squeeze(tf.nn.sigmoid(tf.add(tf.matmul(input_X, weights), b)))\n",
    "\n",
    "# Loss. Should be a scalar number - average loss over all the objects\n",
    "# tf.reduce_mean is your friend here\n",
    "# loss = <logistic loss (scalar, mean over sample)>\n",
    "loss = tf.reduce_mean(-tf.multiply(input_y, tf.log(predicted_y)) - tf.multiply(1-input_y, tf.log(1-predicted_y)))\n",
    "\n",
    "# See above for an example. tf.train.*Optimizer\n",
    "# optimizer = <optimizer that minimizes loss>\n",
    "optimizer = tf.train.MomentumOptimizer(0.01, 0.5).minimize(\n",
    "    loss, var_list=[weights, b])"
   ]
  },
  {
   "cell_type": "markdown",
   "metadata": {},
   "source": [
    "A test to help with the debugging"
   ]
  },
  {
   "cell_type": "code",
   "execution_count": 32,
   "metadata": {},
   "outputs": [],
   "source": [
    "validation_weights = 1e-3 * np.fromiter(map(lambda x:\n",
    "        s.run(weird_psychotic_function, {my_scalar:x, my_vector:[1, 0.1, 2]}),\n",
    "                                   0.15 * np.arange(1, X.shape[1] + 1)),\n",
    "                                   count=X.shape[1], dtype=np.float32)[:, np.newaxis]\n",
    "# Compute predictions for given weights and bias\n",
    "prediction_validation = s.run(\n",
    "    predicted_y, {\n",
    "    input_X: X,\n",
    "    weights: validation_weights,\n",
    "    b: 1e-1})\n",
    "\n",
    "# Load the reference values for the predictions\n",
    "validation_true_values = np.loadtxt(\"validation_predictons.txt\")\n",
    "\n",
    "assert prediction_validation.shape == (X.shape[0],),\\\n",
    "       \"Predictions must be a 1D array with length equal to the number \" \\\n",
    "       \"of examples in input_X\"\n",
    "assert np.allclose(validation_true_values, prediction_validation)\n",
    "loss_validation = s.run(\n",
    "        loss, {\n",
    "            input_X: X[:100],\n",
    "            input_y: y[-100:],\n",
    "            weights: validation_weights+1.21e-3,\n",
    "            b: -1e-1})\n",
    "assert np.allclose(loss_validation, 0.728689)"
   ]
  },
  {
   "cell_type": "code",
   "execution_count": 33,
   "metadata": {},
   "outputs": [
    {
     "name": "stdout",
     "output_type": "stream",
     "text": [
      "loss at iter 0:1.5850\n",
      "train auc: 0.998847167325\n",
      "test auc: 1.0\n",
      "loss at iter 1:0.3342\n",
      "train auc: 0.999890206412\n",
      "test auc: 0.999505928854\n",
      "loss at iter 2:0.0770\n",
      "train auc: 0.999945103206\n",
      "test auc: 1.0\n",
      "loss at iter 3:0.0158\n",
      "train auc: 1.0\n",
      "test auc: 1.0\n",
      "loss at iter 4:nan\n",
      "train auc: 1.0\n",
      "test auc: 1.0\n"
     ]
    }
   ],
   "source": [
    "from sklearn.metrics import roc_auc_score\n",
    "s.run(tf.global_variables_initializer())\n",
    "for i in range(5):\n",
    "    s.run(optimizer, {input_X: X_train, input_y: y_train})\n",
    "    loss_i = s.run(loss, {input_X: X_train, input_y: y_train})\n",
    "    print(\"loss at iter %i:%.4f\" % (i, loss_i))\n",
    "    print(\"train auc:\", roc_auc_score(y_train, s.run(predicted_y, {input_X:X_train})))\n",
    "    print(\"test auc:\", roc_auc_score(y_test, s.run(predicted_y, {input_X:X_test})))"
   ]
  },
  {
   "cell_type": "markdown",
   "metadata": {},
   "source": [
    "### Coursera submission"
   ]
  },
  {
   "cell_type": "code",
   "execution_count": 34,
   "metadata": {
    "collapsed": true
   },
   "outputs": [],
   "source": [
    "grade_submitter = grading.Grader(\"BJCiiY8sEeeCnhKCj4fcOA\")"
   ]
  },
  {
   "cell_type": "code",
   "execution_count": 35,
   "metadata": {
    "collapsed": true
   },
   "outputs": [],
   "source": [
    "test_weights = 1e-3 * np.fromiter(map(lambda x:\n",
    "    s.run(weird_psychotic_function, {my_scalar:x, my_vector:[1, 2, 3]}),\n",
    "                               0.1 * np.arange(1, X.shape[1] + 1)),\n",
    "                               count=X.shape[1], dtype=np.float32)[:, np.newaxis]"
   ]
  },
  {
   "cell_type": "markdown",
   "metadata": {},
   "source": [
    "First, test prediction and loss computation. This part doesn't require a fitted model."
   ]
  },
  {
   "cell_type": "code",
   "execution_count": 36,
   "metadata": {
    "collapsed": true
   },
   "outputs": [],
   "source": [
    "prediction_test = s.run(\n",
    "    predicted_y, {\n",
    "    input_X: X,\n",
    "    weights: test_weights,\n",
    "    b: 1e-1})"
   ]
  },
  {
   "cell_type": "code",
   "execution_count": 37,
   "metadata": {
    "collapsed": true
   },
   "outputs": [],
   "source": [
    "assert prediction_test.shape == (X.shape[0],),\\\n",
    "       \"Predictions must be a 1D array with length equal to the number \" \\\n",
    "       \"of examples in X_test\""
   ]
  },
  {
   "cell_type": "code",
   "execution_count": 38,
   "metadata": {
    "collapsed": true
   },
   "outputs": [],
   "source": [
    "grade_submitter.set_answer(\"0ENlN\", prediction_test)"
   ]
  },
  {
   "cell_type": "code",
   "execution_count": 39,
   "metadata": {
    "collapsed": true
   },
   "outputs": [],
   "source": [
    "loss_test = s.run(\n",
    "    loss, {\n",
    "        input_X: X[:100],\n",
    "        input_y: y[-100:],\n",
    "        weights: test_weights+1.21e-3,\n",
    "        b: -1e-1})\n",
    "# Yes, the X/y indices mistmach is intentional"
   ]
  },
  {
   "cell_type": "code",
   "execution_count": 40,
   "metadata": {
    "collapsed": true
   },
   "outputs": [],
   "source": [
    "grade_submitter.set_answer(\"mMVpM\", loss_test)"
   ]
  },
  {
   "cell_type": "code",
   "execution_count": 41,
   "metadata": {
    "collapsed": true
   },
   "outputs": [],
   "source": [
    "grade_submitter.set_answer(\"D16Rc\", roc_auc_score(y_test, s.run(predicted_y, {input_X:X_test})))"
   ]
  },
  {
   "cell_type": "markdown",
   "metadata": {},
   "source": [
    "Please use the credentials obtained from the Coursera assignment page."
   ]
  },
  {
   "cell_type": "code",
   "execution_count": 42,
   "metadata": {},
   "outputs": [
    {
     "name": "stdout",
     "output_type": "stream",
     "text": [
      "Submitted to Coursera platform. See results on assignment page!\n"
     ]
    }
   ],
   "source": [
    "grade_submitter.submit('whisper4738@gmail.com', '5OGfmWdCgTklxCZ3')"
   ]
  },
  {
   "cell_type": "code",
   "execution_count": null,
   "metadata": {
    "collapsed": true
   },
   "outputs": [],
   "source": []
  }
 ],
 "metadata": {
  "kernelspec": {
   "display_name": "Python 3",
   "language": "python",
   "name": "python3"
  },
  "language_info": {
   "codemirror_mode": {
    "name": "ipython",
    "version": 3
   },
   "file_extension": ".py",
   "mimetype": "text/x-python",
   "name": "python",
   "nbconvert_exporter": "python",
   "pygments_lexer": "ipython3",
   "version": "3.6.0"
  }
 },
 "nbformat": 4,
 "nbformat_minor": 1
}
